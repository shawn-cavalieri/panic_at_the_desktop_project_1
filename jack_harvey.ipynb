{
 "cells": [
  {
   "cell_type": "code",
   "execution_count": null,
   "metadata": {},
   "outputs": [],
   "source": [
    "#cleaning Unemployment by State data"
   ]
  },
  {
   "cell_type": "code",
   "execution_count": 71,
   "metadata": {},
   "outputs": [],
   "source": [
    "import csv\n",
    "import pandas as pd\n",
    "import matplotlib.pyplot as plt\n",
    "import re"
   ]
  },
  {
   "cell_type": "code",
   "execution_count": 402,
   "metadata": {},
   "outputs": [
    {
     "data": {
      "text/html": [
       "<div>\n",
       "<style scoped>\n",
       "    .dataframe tbody tr th:only-of-type {\n",
       "        vertical-align: middle;\n",
       "    }\n",
       "\n",
       "    .dataframe tbody tr th {\n",
       "        vertical-align: top;\n",
       "    }\n",
       "\n",
       "    .dataframe thead th {\n",
       "        text-align: right;\n",
       "    }\n",
       "</style>\n",
       "<table border=\"1\" class=\"dataframe\">\n",
       "  <thead>\n",
       "    <tr style=\"text-align: right;\">\n",
       "      <th></th>\n",
       "      <th>CLF 2007</th>\n",
       "      <th>Emp 2007</th>\n",
       "      <th>Unemp 2007</th>\n",
       "      <th>Unemp Rate 2007</th>\n",
       "      <th>CLF 2008</th>\n",
       "      <th>Emp 2008</th>\n",
       "      <th>Unemp 2008</th>\n",
       "      <th>Unemp Rate 2008</th>\n",
       "      <th>CLF 2009</th>\n",
       "      <th>Emp 2009</th>\n",
       "      <th>...</th>\n",
       "      <th>Unemp Rate 2016</th>\n",
       "      <th>CLF 2017</th>\n",
       "      <th>Emp 2017</th>\n",
       "      <th>Unemp 2017</th>\n",
       "      <th>Unemp Rate 2017</th>\n",
       "      <th>CLF 2018</th>\n",
       "      <th>Emp 2018</th>\n",
       "      <th>Unemp 2018</th>\n",
       "      <th>Unemp Rate 2018</th>\n",
       "      <th>County/State</th>\n",
       "    </tr>\n",
       "    <tr>\n",
       "      <th>State</th>\n",
       "      <th></th>\n",
       "      <th></th>\n",
       "      <th></th>\n",
       "      <th></th>\n",
       "      <th></th>\n",
       "      <th></th>\n",
       "      <th></th>\n",
       "      <th></th>\n",
       "      <th></th>\n",
       "      <th></th>\n",
       "      <th></th>\n",
       "      <th></th>\n",
       "      <th></th>\n",
       "      <th></th>\n",
       "      <th></th>\n",
       "      <th></th>\n",
       "      <th></th>\n",
       "      <th></th>\n",
       "      <th></th>\n",
       "      <th></th>\n",
       "      <th></th>\n",
       "    </tr>\n",
       "  </thead>\n",
       "  <tbody>\n",
       "    <tr>\n",
       "      <th>US</th>\n",
       "      <td>152191093.0</td>\n",
       "      <td>145156134.0</td>\n",
       "      <td>7034959.0</td>\n",
       "      <td>4.6</td>\n",
       "      <td>153761095.0</td>\n",
       "      <td>144860350.0</td>\n",
       "      <td>8900745.0</td>\n",
       "      <td>5.8</td>\n",
       "      <td>153825455.0</td>\n",
       "      <td>139594698.0</td>\n",
       "      <td>...</td>\n",
       "      <td>4.9</td>\n",
       "      <td>160273906.0</td>\n",
       "      <td>153293830.0</td>\n",
       "      <td>6980076.0</td>\n",
       "      <td>4.4</td>\n",
       "      <td>161640488.0</td>\n",
       "      <td>155344043.0</td>\n",
       "      <td>6296445.0</td>\n",
       "      <td>3.9</td>\n",
       "      <td>United States</td>\n",
       "    </tr>\n",
       "    <tr>\n",
       "      <th>AL</th>\n",
       "      <td>2175612.0</td>\n",
       "      <td>2089127.0</td>\n",
       "      <td>86485.0</td>\n",
       "      <td>4.0</td>\n",
       "      <td>2176489.0</td>\n",
       "      <td>2053477.0</td>\n",
       "      <td>123012.0</td>\n",
       "      <td>5.7</td>\n",
       "      <td>2162999.0</td>\n",
       "      <td>1924747.0</td>\n",
       "      <td>...</td>\n",
       "      <td>5.8</td>\n",
       "      <td>2178243.0</td>\n",
       "      <td>2081676.0</td>\n",
       "      <td>96567.0</td>\n",
       "      <td>4.4</td>\n",
       "      <td>2198837.0</td>\n",
       "      <td>2112347.0</td>\n",
       "      <td>86490.0</td>\n",
       "      <td>3.9</td>\n",
       "      <td>Alabama</td>\n",
       "    </tr>\n",
       "    <tr>\n",
       "      <th>AL</th>\n",
       "      <td>24383.0</td>\n",
       "      <td>23577.0</td>\n",
       "      <td>806.0</td>\n",
       "      <td>3.3</td>\n",
       "      <td>24687.0</td>\n",
       "      <td>23420.0</td>\n",
       "      <td>1267.0</td>\n",
       "      <td>5.1</td>\n",
       "      <td>24703.0</td>\n",
       "      <td>22301.0</td>\n",
       "      <td>...</td>\n",
       "      <td>5.1</td>\n",
       "      <td>25972.0</td>\n",
       "      <td>24958.0</td>\n",
       "      <td>1014.0</td>\n",
       "      <td>3.9</td>\n",
       "      <td>25957.0</td>\n",
       "      <td>25015.0</td>\n",
       "      <td>942.0</td>\n",
       "      <td>3.6</td>\n",
       "      <td>Autauga County, AL</td>\n",
       "    </tr>\n",
       "    <tr>\n",
       "      <th>AL</th>\n",
       "      <td>82659.0</td>\n",
       "      <td>80099.0</td>\n",
       "      <td>2560.0</td>\n",
       "      <td>3.1</td>\n",
       "      <td>83223.0</td>\n",
       "      <td>79372.0</td>\n",
       "      <td>3851.0</td>\n",
       "      <td>4.6</td>\n",
       "      <td>82451.0</td>\n",
       "      <td>74403.0</td>\n",
       "      <td>...</td>\n",
       "      <td>5.3</td>\n",
       "      <td>92090.0</td>\n",
       "      <td>88342.0</td>\n",
       "      <td>3748.0</td>\n",
       "      <td>4.1</td>\n",
       "      <td>93849.0</td>\n",
       "      <td>90456.0</td>\n",
       "      <td>3393.0</td>\n",
       "      <td>3.6</td>\n",
       "      <td>Baldwin County, AL</td>\n",
       "    </tr>\n",
       "    <tr>\n",
       "      <th>AL</th>\n",
       "      <td>10334.0</td>\n",
       "      <td>9684.0</td>\n",
       "      <td>650.0</td>\n",
       "      <td>6.3</td>\n",
       "      <td>10161.0</td>\n",
       "      <td>9267.0</td>\n",
       "      <td>894.0</td>\n",
       "      <td>8.8</td>\n",
       "      <td>10003.0</td>\n",
       "      <td>8572.0</td>\n",
       "      <td>...</td>\n",
       "      <td>8.3</td>\n",
       "      <td>8317.0</td>\n",
       "      <td>7831.0</td>\n",
       "      <td>486.0</td>\n",
       "      <td>5.8</td>\n",
       "      <td>8373.0</td>\n",
       "      <td>7940.0</td>\n",
       "      <td>433.0</td>\n",
       "      <td>5.2</td>\n",
       "      <td>Barbour County, AL</td>\n",
       "    </tr>\n",
       "    <tr>\n",
       "      <th>...</th>\n",
       "      <td>...</td>\n",
       "      <td>...</td>\n",
       "      <td>...</td>\n",
       "      <td>...</td>\n",
       "      <td>...</td>\n",
       "      <td>...</td>\n",
       "      <td>...</td>\n",
       "      <td>...</td>\n",
       "      <td>...</td>\n",
       "      <td>...</td>\n",
       "      <td>...</td>\n",
       "      <td>...</td>\n",
       "      <td>...</td>\n",
       "      <td>...</td>\n",
       "      <td>...</td>\n",
       "      <td>...</td>\n",
       "      <td>...</td>\n",
       "      <td>...</td>\n",
       "      <td>...</td>\n",
       "      <td>...</td>\n",
       "      <td>...</td>\n",
       "    </tr>\n",
       "    <tr>\n",
       "      <th>WY</th>\n",
       "      <td>23712.0</td>\n",
       "      <td>23184.0</td>\n",
       "      <td>528.0</td>\n",
       "      <td>2.2</td>\n",
       "      <td>24273.0</td>\n",
       "      <td>23697.0</td>\n",
       "      <td>576.0</td>\n",
       "      <td>2.4</td>\n",
       "      <td>24323.0</td>\n",
       "      <td>22765.0</td>\n",
       "      <td>...</td>\n",
       "      <td>6.1</td>\n",
       "      <td>21555.0</td>\n",
       "      <td>20576.0</td>\n",
       "      <td>979.0</td>\n",
       "      <td>4.5</td>\n",
       "      <td>21150.0</td>\n",
       "      <td>20254.0</td>\n",
       "      <td>896.0</td>\n",
       "      <td>4.2</td>\n",
       "      <td>Sweetwater County, WY</td>\n",
       "    </tr>\n",
       "    <tr>\n",
       "      <th>WY</th>\n",
       "      <td>14375.0</td>\n",
       "      <td>14058.0</td>\n",
       "      <td>317.0</td>\n",
       "      <td>2.2</td>\n",
       "      <td>14459.0</td>\n",
       "      <td>14036.0</td>\n",
       "      <td>423.0</td>\n",
       "      <td>2.9</td>\n",
       "      <td>13882.0</td>\n",
       "      <td>12917.0</td>\n",
       "      <td>...</td>\n",
       "      <td>3.5</td>\n",
       "      <td>15418.0</td>\n",
       "      <td>14983.0</td>\n",
       "      <td>435.0</td>\n",
       "      <td>2.8</td>\n",
       "      <td>15340.0</td>\n",
       "      <td>14876.0</td>\n",
       "      <td>464.0</td>\n",
       "      <td>3.0</td>\n",
       "      <td>Teton County, WY</td>\n",
       "    </tr>\n",
       "    <tr>\n",
       "      <th>WY</th>\n",
       "      <td>11113.0</td>\n",
       "      <td>10818.0</td>\n",
       "      <td>295.0</td>\n",
       "      <td>2.7</td>\n",
       "      <td>11512.0</td>\n",
       "      <td>11179.0</td>\n",
       "      <td>333.0</td>\n",
       "      <td>2.9</td>\n",
       "      <td>11570.0</td>\n",
       "      <td>10789.0</td>\n",
       "      <td>...</td>\n",
       "      <td>5.8</td>\n",
       "      <td>9103.0</td>\n",
       "      <td>8689.0</td>\n",
       "      <td>414.0</td>\n",
       "      <td>4.5</td>\n",
       "      <td>8931.0</td>\n",
       "      <td>8541.0</td>\n",
       "      <td>390.0</td>\n",
       "      <td>4.4</td>\n",
       "      <td>Uinta County, WY</td>\n",
       "    </tr>\n",
       "    <tr>\n",
       "      <th>WY</th>\n",
       "      <td>4194.0</td>\n",
       "      <td>4048.0</td>\n",
       "      <td>146.0</td>\n",
       "      <td>3.5</td>\n",
       "      <td>4291.0</td>\n",
       "      <td>4139.0</td>\n",
       "      <td>152.0</td>\n",
       "      <td>3.5</td>\n",
       "      <td>4404.0</td>\n",
       "      <td>4137.0</td>\n",
       "      <td>...</td>\n",
       "      <td>4.8</td>\n",
       "      <td>4112.0</td>\n",
       "      <td>3947.0</td>\n",
       "      <td>165.0</td>\n",
       "      <td>4.0</td>\n",
       "      <td>4058.0</td>\n",
       "      <td>3886.0</td>\n",
       "      <td>172.0</td>\n",
       "      <td>4.2</td>\n",
       "      <td>Washakie County, WY</td>\n",
       "    </tr>\n",
       "    <tr>\n",
       "      <th>WY</th>\n",
       "      <td>3159.0</td>\n",
       "      <td>3059.0</td>\n",
       "      <td>100.0</td>\n",
       "      <td>3.2</td>\n",
       "      <td>3225.0</td>\n",
       "      <td>3122.0</td>\n",
       "      <td>103.0</td>\n",
       "      <td>3.2</td>\n",
       "      <td>3313.0</td>\n",
       "      <td>3107.0</td>\n",
       "      <td>...</td>\n",
       "      <td>5.0</td>\n",
       "      <td>3754.0</td>\n",
       "      <td>3605.0</td>\n",
       "      <td>149.0</td>\n",
       "      <td>4.0</td>\n",
       "      <td>3731.0</td>\n",
       "      <td>3600.0</td>\n",
       "      <td>131.0</td>\n",
       "      <td>3.5</td>\n",
       "      <td>Weston County, WY</td>\n",
       "    </tr>\n",
       "  </tbody>\n",
       "</table>\n",
       "<p>3196 rows × 49 columns</p>\n",
       "</div>"
      ],
      "text/plain": [
       "          CLF 2007     Emp 2007  Unemp 2007  Unemp Rate 2007     CLF 2008  \\\n",
       "State                                                                       \n",
       "US     152191093.0  145156134.0   7034959.0              4.6  153761095.0   \n",
       "AL       2175612.0    2089127.0     86485.0              4.0    2176489.0   \n",
       "AL         24383.0      23577.0       806.0              3.3      24687.0   \n",
       "AL         82659.0      80099.0      2560.0              3.1      83223.0   \n",
       "AL         10334.0       9684.0       650.0              6.3      10161.0   \n",
       "...            ...          ...         ...              ...          ...   \n",
       "WY         23712.0      23184.0       528.0              2.2      24273.0   \n",
       "WY         14375.0      14058.0       317.0              2.2      14459.0   \n",
       "WY         11113.0      10818.0       295.0              2.7      11512.0   \n",
       "WY          4194.0       4048.0       146.0              3.5       4291.0   \n",
       "WY          3159.0       3059.0       100.0              3.2       3225.0   \n",
       "\n",
       "          Emp 2008  Unemp 2008  Unemp Rate 2008     CLF 2009     Emp 2009  \\\n",
       "State                                                                       \n",
       "US     144860350.0   8900745.0              5.8  153825455.0  139594698.0   \n",
       "AL       2053477.0    123012.0              5.7    2162999.0    1924747.0   \n",
       "AL         23420.0      1267.0              5.1      24703.0      22301.0   \n",
       "AL         79372.0      3851.0              4.6      82451.0      74403.0   \n",
       "AL          9267.0       894.0              8.8      10003.0       8572.0   \n",
       "...            ...         ...              ...          ...          ...   \n",
       "WY         23697.0       576.0              2.4      24323.0      22765.0   \n",
       "WY         14036.0       423.0              2.9      13882.0      12917.0   \n",
       "WY         11179.0       333.0              2.9      11570.0      10789.0   \n",
       "WY          4139.0       152.0              3.5       4404.0       4137.0   \n",
       "WY          3122.0       103.0              3.2       3313.0       3107.0   \n",
       "\n",
       "       ...  Unemp Rate 2016     CLF 2017     Emp 2017  Unemp 2017  \\\n",
       "State  ...                                                          \n",
       "US     ...              4.9  160273906.0  153293830.0   6980076.0   \n",
       "AL     ...              5.8    2178243.0    2081676.0     96567.0   \n",
       "AL     ...              5.1      25972.0      24958.0      1014.0   \n",
       "AL     ...              5.3      92090.0      88342.0      3748.0   \n",
       "AL     ...              8.3       8317.0       7831.0       486.0   \n",
       "...    ...              ...          ...          ...         ...   \n",
       "WY     ...              6.1      21555.0      20576.0       979.0   \n",
       "WY     ...              3.5      15418.0      14983.0       435.0   \n",
       "WY     ...              5.8       9103.0       8689.0       414.0   \n",
       "WY     ...              4.8       4112.0       3947.0       165.0   \n",
       "WY     ...              5.0       3754.0       3605.0       149.0   \n",
       "\n",
       "       Unemp Rate 2017     CLF 2018     Emp 2018  Unemp 2018  Unemp Rate 2018  \\\n",
       "State                                                                           \n",
       "US                 4.4  161640488.0  155344043.0   6296445.0              3.9   \n",
       "AL                 4.4    2198837.0    2112347.0     86490.0              3.9   \n",
       "AL                 3.9      25957.0      25015.0       942.0              3.6   \n",
       "AL                 4.1      93849.0      90456.0      3393.0              3.6   \n",
       "AL                 5.8       8373.0       7940.0       433.0              5.2   \n",
       "...                ...          ...          ...         ...              ...   \n",
       "WY                 4.5      21150.0      20254.0       896.0              4.2   \n",
       "WY                 2.8      15340.0      14876.0       464.0              3.0   \n",
       "WY                 4.5       8931.0       8541.0       390.0              4.4   \n",
       "WY                 4.0       4058.0       3886.0       172.0              4.2   \n",
       "WY                 4.0       3731.0       3600.0       131.0              3.5   \n",
       "\n",
       "                County/State  \n",
       "State                         \n",
       "US             United States  \n",
       "AL                   Alabama  \n",
       "AL        Autauga County, AL  \n",
       "AL        Baldwin County, AL  \n",
       "AL        Barbour County, AL  \n",
       "...                      ...  \n",
       "WY     Sweetwater County, WY  \n",
       "WY          Teton County, WY  \n",
       "WY          Uinta County, WY  \n",
       "WY       Washakie County, WY  \n",
       "WY         Weston County, WY  \n",
       "\n",
       "[3196 rows x 49 columns]"
      ]
     },
     "execution_count": 402,
     "metadata": {},
     "output_type": "execute_result"
    }
   ],
   "source": [
    "employment_data = pd.read_csv(\"./Data/Unemployment and Household Income 2007-08.csv\")\n",
    "employment_data = employment_data.iloc[7:,]\n",
    "employment_data = employment_data.rename(columns={\"Unemployment and median household income for the U.S., States, and counties, 2007-18\":\"Unemployment Rate\",\"Unnamed: 1\": \"State\", \"Unnamed: 2\": \"County/State\",\"Unnamed: 3\":\"Rural 2013\",\"Unnamed: 4\":\"Urban 2013\",\"Unnamed: 5\":\"Metro 2013\",\"Unnamed: 6\":\"CLF 2007\",\"Unnamed: 7\":\"Emp 2007\",\"Unnamed: 8\":\"Unemp 2007\",\"Unnamed: 9\":\"Unemp Rate 2007\",\"Unnamed: 10\":\"CLF 2008\",\"Unnamed: 11\":\"Emp 2008\",\"Unnamed: 12\":\"Unemp 2008\",\"Unnamed: 13\":\"Unemp Rate 2008\",\"Unnamed: 14\":\"CLF 2009\",\"Unnamed: 15\":\"Emp 2009\",\"Unnamed: 16\":\"Unemp 2009\",\"Unnamed: 17\":\"Unemp Rate 2009\",\"Unnamed: 18\":\"CLF 2010\",\"Unnamed: 19\":\"Emp 2010\",\"Unnamed: 20\":\"Unemp 2010\",\"Unnamed: 21\":\"Unemp Rate 2010\",\"Unnamed: 22\":\"CLF 2011\",\"Unnamed: 23\":\"Emp 2011\",\"Unnamed: 24\":\"Unemp 2011\",\"Unnamed: 25\":\"Unemp Rate 2011\",\"Unnamed: 26\":\"CLF 2012\",\"Unnamed: 27\":\"Emp 2012\",\"Unnamed: 28\":\"Unemp 2012\",\"Unnamed: 29\":\"Unemp Rate 2012\",\"Unnamed: 30\":\"CLF 2013\",\"Unnamed: 31\":\"Emp 2013\",\"Unnamed: 32\":\"Unemp 2013\",\"Unnamed: 33\":\"Unemp Rate 2013\",\"Unnamed: 34\":\"CLF 2014\",\"Unnamed: 35\":\"Emp 2014\",\"Unnamed: 36\":\"Unemp 2014\",\"Unnamed: 37\":\"Unemp Rate 2014\",\"Unnamed: 38\":\"CLF 2015\",\"Unnamed: 39\":\"Emp 2015\",\"Unnamed: 40\":\"Unemp 2015\",\"Unnamed: 41\":\"Unemp Rate 2015\",\"Unnamed: 42\":\"CLF 2016\",\"Unnamed: 43\":\"Emp 2016\",\"Unnamed: 44\":\"Unemp 2016\",\"Unnamed: 45\":\"Unemp Rate 2016\",\"Unnamed: 46\":\"CLF 2017\",\"Unnamed: 47\":\"Emp 2017\",\"Unnamed: 48\":\"Unemp 2017\",\"Unnamed: 49\":\"Unemp Rate 2017\",\"Unnamed: 50\":\"CLF 2018\",\"Unnamed: 51\":\"Emp 2018\",\"Unnamed: 52\":\"Unemp 2018\",\"Unnamed: 53\":\"Unemp Rate 2018\", \"Unnamed: 54\": \"Median Household Income 2017\", \"Unnamed: 55\": \"Median HH Income (%) 2017\"})\n",
    "employment_data = employment_data.drop([\"Unemployment Rate\",\"Rural 2013\", \"Urban 2013\", \"Metro 2013\"], axis=1)\n",
    "employment_data_only = employment_data.drop([\"Median Household Income 2017\", \"Median HH Income (%) 2017\"], axis=1)\n",
    "employment_data = employment_data.set_index(\"State\")\n",
    "employment_data = employment_data.drop('PR')\n",
    "\n",
    "employment_data_only = employment_data_only.set_index(\"State\")\n",
    "employment_data_only = employment_data_only.drop('PR')\n",
    "employment_data_only = employment_data_only.fillna('-')\n",
    "employment_data = employment_data.fillna('-')\n",
    "data_\n",
    "\n",
    "def parseFloat(data):\n",
    "    parsedData = re.sub( '[^\\d\\.]', '', data)\n",
    "    return (re.sub( '[^\\d\\.]', '', data)) if parsedData else 0\n",
    "employment_d = employment_data_only.iloc[:,1:].applymap(parseFloat)\n",
    "e = employment_d.astype('float')\n",
    "e['County/State'] = employment_data_only['County/State']\n",
    "e"
   ]
  },
  {
   "cell_type": "code",
   "execution_count": 568,
   "metadata": {},
   "outputs": [
    {
     "data": {
      "text/html": [
       "<div>\n",
       "<style scoped>\n",
       "    .dataframe tbody tr th:only-of-type {\n",
       "        vertical-align: middle;\n",
       "    }\n",
       "\n",
       "    .dataframe tbody tr th {\n",
       "        vertical-align: top;\n",
       "    }\n",
       "\n",
       "    .dataframe thead th {\n",
       "        text-align: right;\n",
       "    }\n",
       "</style>\n",
       "<table border=\"1\" class=\"dataframe\">\n",
       "  <thead>\n",
       "    <tr style=\"text-align: right;\">\n",
       "      <th></th>\n",
       "      <th>Emp 2007</th>\n",
       "      <th>Emp 2008</th>\n",
       "      <th>Emp 2009</th>\n",
       "      <th>Emp 2010</th>\n",
       "      <th>Emp 2011</th>\n",
       "      <th>Emp 2012</th>\n",
       "      <th>Emp 2013</th>\n",
       "      <th>Emp 2014</th>\n",
       "      <th>Emp 2015</th>\n",
       "      <th>Emp 2016</th>\n",
       "      <th>Emp 2017</th>\n",
       "      <th>Emp 2018</th>\n",
       "    </tr>\n",
       "    <tr>\n",
       "      <th>State</th>\n",
       "      <th></th>\n",
       "      <th></th>\n",
       "      <th></th>\n",
       "      <th></th>\n",
       "      <th></th>\n",
       "      <th></th>\n",
       "      <th></th>\n",
       "      <th></th>\n",
       "      <th></th>\n",
       "      <th></th>\n",
       "      <th></th>\n",
       "      <th></th>\n",
       "    </tr>\n",
       "  </thead>\n",
       "  <tbody>\n",
       "    <tr>\n",
       "      <th>US</th>\n",
       "      <td>145,156,134</td>\n",
       "      <td>144860350</td>\n",
       "      <td>139,594,698</td>\n",
       "      <td>139,408,204</td>\n",
       "      <td>140,765,809</td>\n",
       "      <td>142,600,402</td>\n",
       "      <td>144,018,151</td>\n",
       "      <td>146,338,305</td>\n",
       "      <td>148,579,026</td>\n",
       "      <td>150,981,151</td>\n",
       "      <td>153,293,830</td>\n",
       "      <td>155,344,043</td>\n",
       "    </tr>\n",
       "  </tbody>\n",
       "</table>\n",
       "</div>"
      ],
      "text/plain": [
       "          Emp 2007   Emp 2008     Emp 2009     Emp 2010     Emp 2011  \\\n",
       "State                                                                  \n",
       "US     145,156,134  144860350  139,594,698  139,408,204  140,765,809   \n",
       "\n",
       "          Emp 2012     Emp 2013     Emp 2014     Emp 2015     Emp 2016  \\\n",
       "State                                                                    \n",
       "US     142,600,402  144,018,151  146,338,305  148,579,026  150,981,151   \n",
       "\n",
       "          Emp 2017     Emp 2018  \n",
       "State                            \n",
       "US     153,293,830  155,344,043  "
      ]
     },
     "execution_count": 568,
     "metadata": {},
     "output_type": "execute_result"
    }
   ],
   "source": [
    "def us_employment(source):\n",
    "    return source[[\"Emp 2007\", \"Emp 2008\", 'Emp 2009',\"Emp 2010\", \"Emp 2011\", 'Emp 2012',\"Emp 2013\", \"Emp 2014\", 'Emp 2015',\"Emp 2016\", \"Emp 2017\", 'Emp 2018']]\n",
    "us_data = employment_data_only.iloc[:1]\n",
    "#us_data = employment_data_only.loc[\"US\"]\n",
    "us_employment(us_data)"
   ]
  },
  {
   "cell_type": "code",
   "execution_count": null,
   "metadata": {},
   "outputs": [],
   "source": []
  },
  {
   "cell_type": "code",
   "execution_count": 404,
   "metadata": {},
   "outputs": [],
   "source": [
    "def parse_employment_data(source, state_abbr):\n",
    "    data = source.loc[state_abbr]\n",
    "    return { 'counties': data.iloc[1:], 'state': data.iloc[:1] }"
   ]
  },
  {
   "cell_type": "code",
   "execution_count": 458,
   "metadata": {},
   "outputs": [],
   "source": [
    "def employment(source):\n",
    "    counties = source['counties'].set_index(\"County/State\")\n",
    "    return counties[[\"Emp 2007\", \"Emp 2008\", 'Emp 2009',\"Emp 2010\", \"Emp 2011\", 'Emp 2012',\"Emp 2013\", \"Emp 2014\", 'Emp 2015',\"Emp 2016\", \"Emp 2017\", 'Emp 2018']]"
   ]
  },
  {
   "cell_type": "code",
   "execution_count": 459,
   "metadata": {},
   "outputs": [],
   "source": [
    "def unemployment(source):\n",
    "    counties = source['counties'].set_index(\"County/State\")\n",
    "    return counties[[\"Unemp 2007\", \"Unemp 2008\", 'Unemp 2009',\"Unemp 2010\", \"Unemp 2011\", 'Unemp 2012',\"Unemp 2013\", \"Unemp 2014\", 'Unemp 2015',\"Unemp 2016\", \"Unemp 2017\", 'Unemp 2018']]\n"
   ]
  },
  {
   "cell_type": "code",
   "execution_count": 460,
   "metadata": {},
   "outputs": [],
   "source": [
    "def state_emp(source):\n",
    "    state = source['state'].set_index(\"County/State\")\n",
    "    return state[[\"Emp 2007\", \"Emp 2008\", 'Emp 2009',\"Emp 2010\", \"Emp 2011\", 'Emp 2012',\"Emp 2013\", \"Emp 2014\", 'Emp 2015',\"Emp 2016\", \"Emp 2017\", 'Emp 2018']]"
   ]
  },
  {
   "cell_type": "code",
   "execution_count": 563,
   "metadata": {},
   "outputs": [],
   "source": [
    "def civilian_labor_force(source):\n",
    "    counties = source['counties'].set_index(\"County/State\")\n",
    "    return counties[[\"CLF 2007\", \"CLF 2008\", 'CLF 2009',\"CLF 2010\", \"CLF 2011\", 'CLF 2012',\"CLF 2013\", \"CLF 2014\", 'CLF 2015',\"CLF 2016\", \"CLF 2017\", 'CLF 2018']]\n"
   ]
  },
  {
   "cell_type": "code",
   "execution_count": 566,
   "metadata": {},
   "outputs": [
    {
     "ename": "KeyError",
     "evalue": "'counties'",
     "output_type": "error",
     "traceback": [
      "\u001b[0;31m---------------------------------------------------------------------------\u001b[0m",
      "\u001b[0;31mKeyError\u001b[0m                                  Traceback (most recent call last)",
      "\u001b[0;32m~/opt/anaconda3/envs/PythonData/lib/python3.7/site-packages/pandas/core/indexes/base.py\u001b[0m in \u001b[0;36mget_loc\u001b[0;34m(self, key, method, tolerance)\u001b[0m\n\u001b[1;32m   2896\u001b[0m             \u001b[0;32mtry\u001b[0m\u001b[0;34m:\u001b[0m\u001b[0;34m\u001b[0m\u001b[0;34m\u001b[0m\u001b[0m\n\u001b[0;32m-> 2897\u001b[0;31m                 \u001b[0;32mreturn\u001b[0m \u001b[0mself\u001b[0m\u001b[0;34m.\u001b[0m\u001b[0m_engine\u001b[0m\u001b[0;34m.\u001b[0m\u001b[0mget_loc\u001b[0m\u001b[0;34m(\u001b[0m\u001b[0mkey\u001b[0m\u001b[0;34m)\u001b[0m\u001b[0;34m\u001b[0m\u001b[0;34m\u001b[0m\u001b[0m\n\u001b[0m\u001b[1;32m   2898\u001b[0m             \u001b[0;32mexcept\u001b[0m \u001b[0mKeyError\u001b[0m\u001b[0;34m:\u001b[0m\u001b[0;34m\u001b[0m\u001b[0;34m\u001b[0m\u001b[0m\n",
      "\u001b[0;32mpandas/_libs/index.pyx\u001b[0m in \u001b[0;36mpandas._libs.index.IndexEngine.get_loc\u001b[0;34m()\u001b[0m\n",
      "\u001b[0;32mpandas/_libs/index.pyx\u001b[0m in \u001b[0;36mpandas._libs.index.IndexEngine.get_loc\u001b[0;34m()\u001b[0m\n",
      "\u001b[0;32mpandas/_libs/hashtable_class_helper.pxi\u001b[0m in \u001b[0;36mpandas._libs.hashtable.PyObjectHashTable.get_item\u001b[0;34m()\u001b[0m\n",
      "\u001b[0;32mpandas/_libs/hashtable_class_helper.pxi\u001b[0m in \u001b[0;36mpandas._libs.hashtable.PyObjectHashTable.get_item\u001b[0;34m()\u001b[0m\n",
      "\u001b[0;31mKeyError\u001b[0m: 'counties'",
      "\nDuring handling of the above exception, another exception occurred:\n",
      "\u001b[0;31mKeyError\u001b[0m                                  Traceback (most recent call last)",
      "\u001b[0;32m<ipython-input-566-87910cef4fb9>\u001b[0m in \u001b[0;36m<module>\u001b[0;34m\u001b[0m\n\u001b[0;32m----> 1\u001b[0;31m \u001b[0memployment\u001b[0m\u001b[0;34m(\u001b[0m\u001b[0mus_data\u001b[0m\u001b[0;34m)\u001b[0m\u001b[0;34m\u001b[0m\u001b[0;34m\u001b[0m\u001b[0m\n\u001b[0m",
      "\u001b[0;32m<ipython-input-458-735c20bc6099>\u001b[0m in \u001b[0;36memployment\u001b[0;34m(source)\u001b[0m\n\u001b[1;32m      1\u001b[0m \u001b[0;32mdef\u001b[0m \u001b[0memployment\u001b[0m\u001b[0;34m(\u001b[0m\u001b[0msource\u001b[0m\u001b[0;34m)\u001b[0m\u001b[0;34m:\u001b[0m\u001b[0;34m\u001b[0m\u001b[0;34m\u001b[0m\u001b[0m\n\u001b[0;32m----> 2\u001b[0;31m     \u001b[0mcounties\u001b[0m \u001b[0;34m=\u001b[0m \u001b[0msource\u001b[0m\u001b[0;34m[\u001b[0m\u001b[0;34m'counties'\u001b[0m\u001b[0;34m]\u001b[0m\u001b[0;34m.\u001b[0m\u001b[0mset_index\u001b[0m\u001b[0;34m(\u001b[0m\u001b[0;34m\"County/State\"\u001b[0m\u001b[0;34m)\u001b[0m\u001b[0;34m\u001b[0m\u001b[0;34m\u001b[0m\u001b[0m\n\u001b[0m\u001b[1;32m      3\u001b[0m     \u001b[0;32mreturn\u001b[0m \u001b[0mcounties\u001b[0m\u001b[0;34m[\u001b[0m\u001b[0;34m[\u001b[0m\u001b[0;34m\"Emp 2007\"\u001b[0m\u001b[0;34m,\u001b[0m \u001b[0;34m\"Emp 2008\"\u001b[0m\u001b[0;34m,\u001b[0m \u001b[0;34m'Emp 2009'\u001b[0m\u001b[0;34m,\u001b[0m\u001b[0;34m\"Emp 2010\"\u001b[0m\u001b[0;34m,\u001b[0m \u001b[0;34m\"Emp 2011\"\u001b[0m\u001b[0;34m,\u001b[0m \u001b[0;34m'Emp 2012'\u001b[0m\u001b[0;34m,\u001b[0m\u001b[0;34m\"Emp 2013\"\u001b[0m\u001b[0;34m,\u001b[0m \u001b[0;34m\"Emp 2014\"\u001b[0m\u001b[0;34m,\u001b[0m \u001b[0;34m'Emp 2015'\u001b[0m\u001b[0;34m,\u001b[0m\u001b[0;34m\"Emp 2016\"\u001b[0m\u001b[0;34m,\u001b[0m \u001b[0;34m\"Emp 2017\"\u001b[0m\u001b[0;34m,\u001b[0m \u001b[0;34m'Emp 2018'\u001b[0m\u001b[0;34m]\u001b[0m\u001b[0;34m]\u001b[0m\u001b[0;34m\u001b[0m\u001b[0;34m\u001b[0m\u001b[0m\n",
      "\u001b[0;32m~/opt/anaconda3/envs/PythonData/lib/python3.7/site-packages/pandas/core/frame.py\u001b[0m in \u001b[0;36m__getitem__\u001b[0;34m(self, key)\u001b[0m\n\u001b[1;32m   2993\u001b[0m             \u001b[0;32mif\u001b[0m \u001b[0mself\u001b[0m\u001b[0;34m.\u001b[0m\u001b[0mcolumns\u001b[0m\u001b[0;34m.\u001b[0m\u001b[0mnlevels\u001b[0m \u001b[0;34m>\u001b[0m \u001b[0;36m1\u001b[0m\u001b[0;34m:\u001b[0m\u001b[0;34m\u001b[0m\u001b[0;34m\u001b[0m\u001b[0m\n\u001b[1;32m   2994\u001b[0m                 \u001b[0;32mreturn\u001b[0m \u001b[0mself\u001b[0m\u001b[0;34m.\u001b[0m\u001b[0m_getitem_multilevel\u001b[0m\u001b[0;34m(\u001b[0m\u001b[0mkey\u001b[0m\u001b[0;34m)\u001b[0m\u001b[0;34m\u001b[0m\u001b[0;34m\u001b[0m\u001b[0m\n\u001b[0;32m-> 2995\u001b[0;31m             \u001b[0mindexer\u001b[0m \u001b[0;34m=\u001b[0m \u001b[0mself\u001b[0m\u001b[0;34m.\u001b[0m\u001b[0mcolumns\u001b[0m\u001b[0;34m.\u001b[0m\u001b[0mget_loc\u001b[0m\u001b[0;34m(\u001b[0m\u001b[0mkey\u001b[0m\u001b[0;34m)\u001b[0m\u001b[0;34m\u001b[0m\u001b[0;34m\u001b[0m\u001b[0m\n\u001b[0m\u001b[1;32m   2996\u001b[0m             \u001b[0;32mif\u001b[0m \u001b[0mis_integer\u001b[0m\u001b[0;34m(\u001b[0m\u001b[0mindexer\u001b[0m\u001b[0;34m)\u001b[0m\u001b[0;34m:\u001b[0m\u001b[0;34m\u001b[0m\u001b[0;34m\u001b[0m\u001b[0m\n\u001b[1;32m   2997\u001b[0m                 \u001b[0mindexer\u001b[0m \u001b[0;34m=\u001b[0m \u001b[0;34m[\u001b[0m\u001b[0mindexer\u001b[0m\u001b[0;34m]\u001b[0m\u001b[0;34m\u001b[0m\u001b[0;34m\u001b[0m\u001b[0m\n",
      "\u001b[0;32m~/opt/anaconda3/envs/PythonData/lib/python3.7/site-packages/pandas/core/indexes/base.py\u001b[0m in \u001b[0;36mget_loc\u001b[0;34m(self, key, method, tolerance)\u001b[0m\n\u001b[1;32m   2897\u001b[0m                 \u001b[0;32mreturn\u001b[0m \u001b[0mself\u001b[0m\u001b[0;34m.\u001b[0m\u001b[0m_engine\u001b[0m\u001b[0;34m.\u001b[0m\u001b[0mget_loc\u001b[0m\u001b[0;34m(\u001b[0m\u001b[0mkey\u001b[0m\u001b[0;34m)\u001b[0m\u001b[0;34m\u001b[0m\u001b[0;34m\u001b[0m\u001b[0m\n\u001b[1;32m   2898\u001b[0m             \u001b[0;32mexcept\u001b[0m \u001b[0mKeyError\u001b[0m\u001b[0;34m:\u001b[0m\u001b[0;34m\u001b[0m\u001b[0;34m\u001b[0m\u001b[0m\n\u001b[0;32m-> 2899\u001b[0;31m                 \u001b[0;32mreturn\u001b[0m \u001b[0mself\u001b[0m\u001b[0;34m.\u001b[0m\u001b[0m_engine\u001b[0m\u001b[0;34m.\u001b[0m\u001b[0mget_loc\u001b[0m\u001b[0;34m(\u001b[0m\u001b[0mself\u001b[0m\u001b[0;34m.\u001b[0m\u001b[0m_maybe_cast_indexer\u001b[0m\u001b[0;34m(\u001b[0m\u001b[0mkey\u001b[0m\u001b[0;34m)\u001b[0m\u001b[0;34m)\u001b[0m\u001b[0;34m\u001b[0m\u001b[0;34m\u001b[0m\u001b[0m\n\u001b[0m\u001b[1;32m   2900\u001b[0m         \u001b[0mindexer\u001b[0m \u001b[0;34m=\u001b[0m \u001b[0mself\u001b[0m\u001b[0;34m.\u001b[0m\u001b[0mget_indexer\u001b[0m\u001b[0;34m(\u001b[0m\u001b[0;34m[\u001b[0m\u001b[0mkey\u001b[0m\u001b[0;34m]\u001b[0m\u001b[0;34m,\u001b[0m \u001b[0mmethod\u001b[0m\u001b[0;34m=\u001b[0m\u001b[0mmethod\u001b[0m\u001b[0;34m,\u001b[0m \u001b[0mtolerance\u001b[0m\u001b[0;34m=\u001b[0m\u001b[0mtolerance\u001b[0m\u001b[0;34m)\u001b[0m\u001b[0;34m\u001b[0m\u001b[0;34m\u001b[0m\u001b[0m\n\u001b[1;32m   2901\u001b[0m         \u001b[0;32mif\u001b[0m \u001b[0mindexer\u001b[0m\u001b[0;34m.\u001b[0m\u001b[0mndim\u001b[0m \u001b[0;34m>\u001b[0m \u001b[0;36m1\u001b[0m \u001b[0;32mor\u001b[0m \u001b[0mindexer\u001b[0m\u001b[0;34m.\u001b[0m\u001b[0msize\u001b[0m \u001b[0;34m>\u001b[0m \u001b[0;36m1\u001b[0m\u001b[0;34m:\u001b[0m\u001b[0;34m\u001b[0m\u001b[0;34m\u001b[0m\u001b[0m\n",
      "\u001b[0;32mpandas/_libs/index.pyx\u001b[0m in \u001b[0;36mpandas._libs.index.IndexEngine.get_loc\u001b[0;34m()\u001b[0m\n",
      "\u001b[0;32mpandas/_libs/index.pyx\u001b[0m in \u001b[0;36mpandas._libs.index.IndexEngine.get_loc\u001b[0;34m()\u001b[0m\n",
      "\u001b[0;32mpandas/_libs/hashtable_class_helper.pxi\u001b[0m in \u001b[0;36mpandas._libs.hashtable.PyObjectHashTable.get_item\u001b[0;34m()\u001b[0m\n",
      "\u001b[0;32mpandas/_libs/hashtable_class_helper.pxi\u001b[0m in \u001b[0;36mpandas._libs.hashtable.PyObjectHashTable.get_item\u001b[0;34m()\u001b[0m\n",
      "\u001b[0;31mKeyError\u001b[0m: 'counties'"
     ]
    }
   ],
   "source": []
  },
  {
   "cell_type": "code",
   "execution_count": 461,
   "metadata": {},
   "outputs": [
    {
     "data": {
      "text/html": [
       "<div>\n",
       "<style scoped>\n",
       "    .dataframe tbody tr th:only-of-type {\n",
       "        vertical-align: middle;\n",
       "    }\n",
       "\n",
       "    .dataframe tbody tr th {\n",
       "        vertical-align: top;\n",
       "    }\n",
       "\n",
       "    .dataframe thead th {\n",
       "        text-align: right;\n",
       "    }\n",
       "</style>\n",
       "<table border=\"1\" class=\"dataframe\">\n",
       "  <thead>\n",
       "    <tr style=\"text-align: right;\">\n",
       "      <th></th>\n",
       "      <th>Emp 2007</th>\n",
       "      <th>Emp 2008</th>\n",
       "      <th>Emp 2009</th>\n",
       "      <th>Emp 2010</th>\n",
       "      <th>Emp 2011</th>\n",
       "      <th>Emp 2012</th>\n",
       "      <th>Emp 2013</th>\n",
       "      <th>Emp 2014</th>\n",
       "      <th>Emp 2015</th>\n",
       "      <th>Emp 2016</th>\n",
       "      <th>Emp 2017</th>\n",
       "      <th>Emp 2018</th>\n",
       "    </tr>\n",
       "    <tr>\n",
       "      <th>County/State</th>\n",
       "      <th></th>\n",
       "      <th></th>\n",
       "      <th></th>\n",
       "      <th></th>\n",
       "      <th></th>\n",
       "      <th></th>\n",
       "      <th></th>\n",
       "      <th></th>\n",
       "      <th></th>\n",
       "      <th></th>\n",
       "      <th></th>\n",
       "      <th></th>\n",
       "    </tr>\n",
       "  </thead>\n",
       "  <tbody>\n",
       "    <tr>\n",
       "      <th>Alabama</th>\n",
       "      <td>2089127.0</td>\n",
       "      <td>2053477.0</td>\n",
       "      <td>1924747.0</td>\n",
       "      <td>1964559.0</td>\n",
       "      <td>1990413.0</td>\n",
       "      <td>2003290.0</td>\n",
       "      <td>2017043.0</td>\n",
       "      <td>2014290.0</td>\n",
       "      <td>2026898.0</td>\n",
       "      <td>2049971.0</td>\n",
       "      <td>2081676.0</td>\n",
       "      <td>2112347.0</td>\n",
       "    </tr>\n",
       "  </tbody>\n",
       "</table>\n",
       "</div>"
      ],
      "text/plain": [
       "               Emp 2007   Emp 2008   Emp 2009   Emp 2010   Emp 2011  \\\n",
       "County/State                                                          \n",
       "Alabama       2089127.0  2053477.0  1924747.0  1964559.0  1990413.0   \n",
       "\n",
       "               Emp 2012   Emp 2013   Emp 2014   Emp 2015   Emp 2016  \\\n",
       "County/State                                                          \n",
       "Alabama       2003290.0  2017043.0  2014290.0  2026898.0  2049971.0   \n",
       "\n",
       "               Emp 2017   Emp 2018  \n",
       "County/State                        \n",
       "Alabama       2081676.0  2112347.0  "
      ]
     },
     "execution_count": 461,
     "metadata": {},
     "output_type": "execute_result"
    }
   ],
   "source": [
    "alabama_data = parse_employment_data(e, \"AL\")\n",
    "alabama_employment = employment(alabama_data)\n",
    "alabama_unemployment = unemployment(alabama_data)\n",
    "alabama_st_emp = state_emp(alabama_data)\n",
    "alabama_st_emp\n"
   ]
  },
  {
   "cell_type": "code",
   "execution_count": 462,
   "metadata": {},
   "outputs": [],
   "source": [
    "alaska_data = parse_employment_data(e, \"AK\")\n",
    "alaska_employment = employment(alaska_data)\n",
    "alaska_unemployment = unemployment(alaska_data)\n",
    "alabama_st_emp = state_emp(alabama_data)\n",
    "#frames = [alabama_employment,alaska_employment]\n",
    "#results = pd.concat(frames)\n",
    "#results.plot.line()"
   ]
  },
  {
   "cell_type": "code",
   "execution_count": 515,
   "metadata": {},
   "outputs": [],
   "source": [
    "arizona_data = parse_employment_data(e, \"AZ\")\n",
    "\n",
    "arizona_employment = employment(arizona_data)\n",
    "arizona_unemployment = unemployment(arizona_data)\n",
    "arizona_st_emp = state_emp(arizona_data)"
   ]
  },
  {
   "cell_type": "code",
   "execution_count": 516,
   "metadata": {},
   "outputs": [],
   "source": [
    "arkansas_data = parse_employment_data(e, \"AR\")\n",
    "arkansas_employment = employment(arkansas_data)\n",
    "arkansas_unemployment = unemployment(arkansas_data)\n",
    "arkansas_st_emp = state_emp(arkansas_data)"
   ]
  },
  {
   "cell_type": "code",
   "execution_count": 517,
   "metadata": {},
   "outputs": [],
   "source": [
    "california_data = parse_employment_data(e, \"CA\")\n",
    "california_employment = employment(california_data)\n",
    "california_unemployment = unemployment(california_data)\n",
    "california_st_emp = state_emp(california_data)"
   ]
  },
  {
   "cell_type": "code",
   "execution_count": 518,
   "metadata": {},
   "outputs": [],
   "source": [
    "colorado_data = parse_employment_data(e, \"CO\")\n",
    "colorado_employment = employment(colorado_data)\n",
    "colorado_unemployment = unemployment(colorado_data)\n",
    "colorado_st_emp = state_emp(colorado_data)"
   ]
  },
  {
   "cell_type": "code",
   "execution_count": 519,
   "metadata": {},
   "outputs": [],
   "source": [
    "connecticut_data = parse_employment_data(e, \"CT\")\n",
    "connecticut_employment = employment(connecticut_data)\n",
    "connecticut_unemployment = unemployment(connecticut_data)\n",
    "connecticut_st_emp = state_emp(connecticut_data)"
   ]
  },
  {
   "cell_type": "code",
   "execution_count": 521,
   "metadata": {},
   "outputs": [],
   "source": [
    "delaware_data = parse_employment_data(e, \"DE\")\n",
    "delaware_employment = employment(delaware_data)\n",
    "delaware_unemployment = unemployment(delaware_data)\n",
    "delaware_st_emp = state_emp(delaware_data)"
   ]
  },
  {
   "cell_type": "code",
   "execution_count": 522,
   "metadata": {},
   "outputs": [],
   "source": [
    "florida_data = parse_employment_data(e, \"FL\")\n",
    "florida_employment = employment(florida_data)\n",
    "florida_unemployment = unemployment(florida_data)\n",
    "florida_st_emp = state_emp(florida_data)"
   ]
  },
  {
   "cell_type": "code",
   "execution_count": 523,
   "metadata": {},
   "outputs": [],
   "source": [
    "georgia_data = parse_employment_data(e, \"GA\")\n",
    "georgia_employment = employment(georgia_data)\n",
    "georgia_unemployment = unemployment(georgia_data)\n",
    "georgia_st_emp = state_emp(georgia_data)"
   ]
  },
  {
   "cell_type": "code",
   "execution_count": 524,
   "metadata": {},
   "outputs": [],
   "source": [
    "hawaii_data = parse_employment_data(e, \"HI\")\n",
    "hawaii_employment = employment(hawaii_data)\n",
    "hawaii_unemployment = unemployment(hawaii_data)\n",
    "hawaii_st_emp = state_emp(hawaii_data)"
   ]
  },
  {
   "cell_type": "code",
   "execution_count": 525,
   "metadata": {},
   "outputs": [],
   "source": [
    "idaho_data = parse_employment_data(e, \"ID\")\n",
    "idaho_employment = employment(idaho_data)\n",
    "idaho_unemployment = unemployment(idaho_data)\n",
    "idaho_st_emp = state_emp(idaho_data)"
   ]
  },
  {
   "cell_type": "code",
   "execution_count": 526,
   "metadata": {},
   "outputs": [],
   "source": [
    "illinois_data = parse_employment_data(e, \"IL\")\n",
    "illinois_employment = employment(illinois_data)\n",
    "illinois_unemployment = unemployment(illinois_data)\n",
    "illinois_st_emp = state_emp(illinois_data)"
   ]
  },
  {
   "cell_type": "code",
   "execution_count": 527,
   "metadata": {},
   "outputs": [],
   "source": [
    "indiana_data = parse_employment_data(e, \"IN\")\n",
    "indiana_employment = employment(indiana_data)\n",
    "indiana_unemployment = unemployment(indiana_data)\n",
    "indiana_st_emp = state_emp(indiana_data)"
   ]
  },
  {
   "cell_type": "code",
   "execution_count": 528,
   "metadata": {},
   "outputs": [],
   "source": [
    "iowa_data = parse_employment_data(e, \"IA\")\n",
    "iowa_employment = employment(iowa_data)\n",
    "iowa_unemployment = unemployment(iowa_data)\n",
    "iowa_st_emp = state_emp(iowa_data)"
   ]
  },
  {
   "cell_type": "code",
   "execution_count": 529,
   "metadata": {},
   "outputs": [],
   "source": [
    "kansas_data = parse_employment_data(e, \"KS\")\n",
    "kansas_employment = employment(kansas_data)\n",
    "kansas_unemployment = unemployment(kansas_data)\n",
    "kansas_st_emp = state_emp(kansas_data)"
   ]
  },
  {
   "cell_type": "code",
   "execution_count": 530,
   "metadata": {},
   "outputs": [],
   "source": [
    "kentucky_data = parse_employment_data(e, \"KY\")\n",
    "kentucky_employment = employment(kentucky_data)\n",
    "kentucky_unemployment = unemployment(kentucky_data)\n",
    "kentucky_st_emp = state_emp(kentucky_data)"
   ]
  },
  {
   "cell_type": "code",
   "execution_count": 531,
   "metadata": {},
   "outputs": [],
   "source": [
    "louisiana_data = parse_employment_data(e, \"LA\")\n",
    "louisiana_employment = employment(louisiana_data)\n",
    "louisiana_unemployment = unemployment(louisiana_data)\n",
    "louisiana_st_emp = state_emp(louisiana_data)"
   ]
  },
  {
   "cell_type": "code",
   "execution_count": 532,
   "metadata": {},
   "outputs": [],
   "source": [
    "maine_data = parse_employment_data(e, \"ME\")\n",
    "maine_employment = employment(maine_data)\n",
    "maine_unemployment = unemployment(maine_data)\n",
    "maine_st_emp = state_emp(maine_data)"
   ]
  },
  {
   "cell_type": "code",
   "execution_count": 533,
   "metadata": {},
   "outputs": [],
   "source": [
    "maryland_data = parse_employment_data(e, \"MD\")\n",
    "maryland_employment = employment(maryland_data)\n",
    "maryland_unemployment = unemployment(maryland_data)\n",
    "maryland_st_emp = state_emp(maryland_data)"
   ]
  },
  {
   "cell_type": "code",
   "execution_count": 534,
   "metadata": {},
   "outputs": [],
   "source": [
    "massachusetts_data = parse_employment_data(e, \"MA\")\n",
    "massachusetts_employment = employment(massachusetts_data)\n",
    "massachusetts_unemployment = unemployment(massachusetts_data)\n",
    "massachusetts_st_emp = state_emp(massachusetts_data)"
   ]
  },
  {
   "cell_type": "code",
   "execution_count": 535,
   "metadata": {},
   "outputs": [],
   "source": [
    "michigan_data = parse_employment_data(e, \"MI\")\n",
    "michigan_employment = employment(michigan_data)\n",
    "michigan_unemployment = unemployment(michigan_data)\n",
    "michigan_st_emp = state_emp(michigan_data)"
   ]
  },
  {
   "cell_type": "code",
   "execution_count": 536,
   "metadata": {},
   "outputs": [],
   "source": [
    "minnesota_data = parse_employment_data(e, \"MN\")\n",
    "minnesota_employment = employment(minnesota_data)\n",
    "minnesota_unemployment = unemployment(minnesota_data)\n",
    "minnesota_st_emp = state_emp(minnesota_data)"
   ]
  },
  {
   "cell_type": "code",
   "execution_count": 537,
   "metadata": {},
   "outputs": [],
   "source": [
    "mississippi_data = parse_employment_data(e, \"MS\")\n",
    "mississippi_employment = employment(mississippi_data)\n",
    "mississippi_unemployment = unemployment(mississippi_data)\n",
    "mississippi_st_emp = state_emp(mississippi_data)"
   ]
  },
  {
   "cell_type": "code",
   "execution_count": 538,
   "metadata": {},
   "outputs": [],
   "source": [
    "missouri_data = parse_employment_data(e, \"MO\")\n",
    "missouri_employment = employment(missouri_data)\n",
    "missouri_unemployment = unemployment(missouri_data)\n",
    "missouri_st_emp = state_emp(missouri_data)"
   ]
  },
  {
   "cell_type": "code",
   "execution_count": 539,
   "metadata": {},
   "outputs": [],
   "source": [
    "montana_data = parse_employment_data(e, \"MT\")\n",
    "montana_employment = employment(montana_data)\n",
    "montana_unemployment = unemployment(montana_data)\n",
    "montana_st_emp = state_emp(montana_data)"
   ]
  },
  {
   "cell_type": "code",
   "execution_count": 540,
   "metadata": {},
   "outputs": [],
   "source": [
    "nebraska_data = parse_employment_data(e, \"NE\")\n",
    "nebraska_employment = employment(nebraska_data)\n",
    "nebraska_unemployment = unemployment(nebraska_data)\n",
    "nebraska_st_emp = state_emp(nebraska_data)"
   ]
  },
  {
   "cell_type": "code",
   "execution_count": 488,
   "metadata": {},
   "outputs": [],
   "source": [
    "nevada_data = parse_employment_data(e, \"NV\")\n",
    "nevada_employment = employment(nevada_data)\n",
    "nevada_unemployment = unemployment(nevada_data)\n",
    "nevada_st_emp = state_emp(nevada_data)"
   ]
  },
  {
   "cell_type": "code",
   "execution_count": 541,
   "metadata": {},
   "outputs": [],
   "source": [
    "new_hampshire_data = parse_employment_data(e, \"NH\")\n",
    "new_hampshire_employment = employment(new_hampshire_data)\n",
    "new_hampshire_unemployment = unemployment(new_hampshire_data)\n",
    "new_hampshire_st_emp = state_emp(new_hampshire_data)"
   ]
  },
  {
   "cell_type": "code",
   "execution_count": 542,
   "metadata": {},
   "outputs": [],
   "source": [
    "new_jersey_data = parse_employment_data(e, \"NJ\")\n",
    "new_jersey_employment = employment(new_jersey_data)\n",
    "new_jersey_unemployment = unemployment(new_jersey_data)\n",
    "new_jersey_st_emp = state_emp(new_jersey_data)"
   ]
  },
  {
   "cell_type": "code",
   "execution_count": 543,
   "metadata": {},
   "outputs": [],
   "source": [
    "new_mexico_data = parse_employment_data(e, \"NM\")\n",
    "new_mexico_employment = employment(new_mexico_data)\n",
    "new_mexico_unemployment = unemployment(new_mexico_data)\n",
    "new_mexico_st_emp = state_emp(new_mexico_data)"
   ]
  },
  {
   "cell_type": "code",
   "execution_count": 544,
   "metadata": {},
   "outputs": [],
   "source": [
    "new_york_data = parse_employment_data(e, \"NY\")\n",
    "new_york_employment = employment(new_york_data)\n",
    "new_york_unemployment = unemployment(new_york_data)\n",
    "new_york_st_emp = state_emp(new_york_data)\n"
   ]
  },
  {
   "cell_type": "code",
   "execution_count": 545,
   "metadata": {},
   "outputs": [],
   "source": [
    "north_carolina_data = parse_employment_data(e, \"NC\")\n",
    "north_carolina_employment = employment(north_carolina_data)\n",
    "north_carolina_unemployment = unemployment(north_carolina_data)\n",
    "north_carolina_st_emp = state_emp(north_carolina_data)\n"
   ]
  },
  {
   "cell_type": "code",
   "execution_count": 546,
   "metadata": {},
   "outputs": [],
   "source": [
    "north_dakota_data = parse_employment_data(e, \"ND\")\n",
    "north_dakota_employment = employment(north_dakota_data)\n",
    "north_dakota_unemployment = unemployment(north_dakota_data)\n",
    "north_dakota_st_emp = state_emp(north_dakota_data)"
   ]
  },
  {
   "cell_type": "code",
   "execution_count": 547,
   "metadata": {},
   "outputs": [],
   "source": [
    "ohio_data = parse_employment_data(e, \"OH\")\n",
    "ohio_employment = employment(ohio_data)\n",
    "ohio_unemployment = unemployment(ohio_data)\n",
    "ohio_st_emp = state_emp(ohio_data)"
   ]
  },
  {
   "cell_type": "code",
   "execution_count": 548,
   "metadata": {},
   "outputs": [],
   "source": [
    "oklahoma_data = parse_employment_data(e, \"OK\")\n",
    "oklahoma_employment = employment(oklahoma_data)\n",
    "oklahoma_unemployment = unemployment(oklahoma_data)\n",
    "oklahoma_st_emp = state_emp(oklahoma_data)"
   ]
  },
  {
   "cell_type": "code",
   "execution_count": 549,
   "metadata": {},
   "outputs": [],
   "source": [
    "oregon_data = parse_employment_data(e, \"OR\")\n",
    "oregon_employment = employment(oregon_data)\n",
    "oregon_unemployment = unemployment(oregon_data)\n",
    "oregon_st_emp = state_emp(oregon_data)"
   ]
  },
  {
   "cell_type": "code",
   "execution_count": 550,
   "metadata": {},
   "outputs": [],
   "source": [
    "pennsylvania_data = parse_employment_data(e, \"PA\")\n",
    "pennsylvania_employment = employment(pennsylvania_data)\n",
    "pennsylvania_unemployment = unemployment(pennsylvania_data)\n",
    "pennsylvania_st_emp = state_emp(pennsylvania_data)"
   ]
  },
  {
   "cell_type": "code",
   "execution_count": 551,
   "metadata": {},
   "outputs": [],
   "source": [
    "rhode_island_data = parse_employment_data(e, \"RI\")\n",
    "rhode_island_employment = employment(rhode_island_data)\n",
    "rhode_island_unemployment = unemployment(rhode_island_data)\n",
    "rhode_island_st_emp = state_emp(rhode_island_data)"
   ]
  },
  {
   "cell_type": "code",
   "execution_count": 552,
   "metadata": {},
   "outputs": [],
   "source": [
    "south_carolina_data = parse_employment_data(e, \"SC\")\n",
    "south_carolina_employment = employment(south_carolina_data)\n",
    "south_carolina_unemployment = unemployment(south_carolina_data)\n",
    "south_carolina_st_emp = state_emp(south_carolina_data)"
   ]
  },
  {
   "cell_type": "code",
   "execution_count": 553,
   "metadata": {},
   "outputs": [],
   "source": [
    "south_dakota_data = parse_employment_data(e, \"SD\")\n",
    "south_dakota_employment = employment(south_dakota_data)\n",
    "south_dakota_unemployment = unemployment(south_dakota_data)\n",
    "south_dakota_st_emp = state_emp(south_dakota_data)"
   ]
  },
  {
   "cell_type": "code",
   "execution_count": 554,
   "metadata": {},
   "outputs": [],
   "source": [
    "tennessee_data = parse_employment_data(e, \"TN\")\n",
    "tennessee_employment = employment(tennessee_data)\n",
    "tennessee_unemployment = unemployment(tennessee_data)\n",
    "tennessee_st_emp = state_emp(tennessee_data)"
   ]
  },
  {
   "cell_type": "code",
   "execution_count": 555,
   "metadata": {},
   "outputs": [],
   "source": [
    "texas_data = parse_employment_data(e, \"TX\")\n",
    "texas_employment = employment(texas_data)\n",
    "texas_unemployment = unemployment(texas_data)\n",
    "texas_st_emp = state_emp(texas_data)"
   ]
  },
  {
   "cell_type": "code",
   "execution_count": 556,
   "metadata": {},
   "outputs": [],
   "source": [
    "utah_data = parse_employment_data(e, \"UT\")\n",
    "utah_employment = employment(utah_data)\n",
    "utah_unemployment = unemployment(utah_data)\n",
    "utah_st_emp = state_emp(utah_data)"
   ]
  },
  {
   "cell_type": "code",
   "execution_count": 557,
   "metadata": {},
   "outputs": [],
   "source": [
    "vermont_data = parse_employment_data(e, \"VT\")\n",
    "vermont_employment = employment(vermont_data)\n",
    "vermont_unemployment = unemployment(vermont_data)\n",
    "vermont_st_emp = state_emp(vermont_data)"
   ]
  },
  {
   "cell_type": "code",
   "execution_count": 558,
   "metadata": {},
   "outputs": [],
   "source": [
    "virginia_data = parse_employment_data(e, \"VA\")\n",
    "virginia_employment = employment(virginia_data)\n",
    "virginia_unemployment = unemployment(virginia_data)\n",
    "virginia_st_emp = state_emp(virginia_data)"
   ]
  },
  {
   "cell_type": "code",
   "execution_count": 559,
   "metadata": {},
   "outputs": [],
   "source": [
    "washington_data = parse_employment_data(e, \"WA\")\n",
    "washington_employment = employment(washington_data)\n",
    "washington_unemployment = unemployment(washington_data)\n",
    "washington_st_emp = state_emp(washington_data)"
   ]
  },
  {
   "cell_type": "code",
   "execution_count": 560,
   "metadata": {},
   "outputs": [],
   "source": [
    "west_virginia_data = parse_employment_data(e, \"WV\")\n",
    "west_virginia_employment = employment(west_virginia_data)\n",
    "west_virginia_unemployment = unemployment(west_virginia_data)\n",
    "west_virginia_st_emp = state_emp(west_virginia_data)"
   ]
  },
  {
   "cell_type": "code",
   "execution_count": 561,
   "metadata": {},
   "outputs": [],
   "source": [
    "wisconsin_data = parse_employment_data(e, \"WI\")\n",
    "wisconsin_employment = employment(wisconsin_data)\n",
    "wisconsin_unemployment = unemployment(wisconsin_data)\n",
    "wisconsin_st_emp = state_emp(wisconsin_data)"
   ]
  },
  {
   "cell_type": "code",
   "execution_count": 562,
   "metadata": {},
   "outputs": [],
   "source": [
    "wyoming_data = parse_employment_data(e, \"WY\")\n",
    "wyoming_employment = employment(wyoming_data)\n",
    "wyoming_unemployment = unemployment(wyoming_data)\n",
    "wyoming_st_emp = state_emp(wyoming_data)\n",
    "#wyoming_employment.plot.bar(figsize=(20,20))"
   ]
  },
  {
   "cell_type": "code",
   "execution_count": null,
   "metadata": {},
   "outputs": [],
   "source": []
  },
  {
   "cell_type": "code",
   "execution_count": null,
   "metadata": {},
   "outputs": [],
   "source": []
  },
  {
   "cell_type": "code",
   "execution_count": null,
   "metadata": {},
   "outputs": [],
   "source": []
  },
  {
   "cell_type": "code",
   "execution_count": null,
   "metadata": {},
   "outputs": [],
   "source": []
  }
 ],
 "metadata": {
  "kernelspec": {
   "display_name": "Python 3",
   "language": "python",
   "name": "python3"
  },
  "language_info": {
   "codemirror_mode": {
    "name": "ipython",
    "version": 3
   },
   "file_extension": ".py",
   "mimetype": "text/x-python",
   "name": "python",
   "nbconvert_exporter": "python",
   "pygments_lexer": "ipython3",
   "version": "3.7.4"
  }
 },
 "nbformat": 4,
 "nbformat_minor": 2
}
