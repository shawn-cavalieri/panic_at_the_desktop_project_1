{
 "cells": [
  {
   "cell_type": "code",
   "execution_count": null,
   "metadata": {},
   "outputs": [],
   "source": [
    "#cleaning Unemployment by State data"
   ]
  },
  {
   "cell_type": "code",
   "execution_count": 685,
   "metadata": {},
   "outputs": [],
   "source": [
    "import csv\n",
    "import pandas as pd\n",
    "import matplotlib.pyplot as plt\n",
    "import re"
   ]
  },
  {
   "cell_type": "code",
   "execution_count": 686,
   "metadata": {},
   "outputs": [
    {
     "data": {
      "text/html": [
       "<div>\n",
       "<style scoped>\n",
       "    .dataframe tbody tr th:only-of-type {\n",
       "        vertical-align: middle;\n",
       "    }\n",
       "\n",
       "    .dataframe tbody tr th {\n",
       "        vertical-align: top;\n",
       "    }\n",
       "\n",
       "    .dataframe thead th {\n",
       "        text-align: right;\n",
       "    }\n",
       "</style>\n",
       "<table border=\"1\" class=\"dataframe\">\n",
       "  <thead>\n",
       "    <tr style=\"text-align: right;\">\n",
       "      <th></th>\n",
       "      <th>CLF 2007</th>\n",
       "      <th>Emp 2007</th>\n",
       "      <th>Unemp 2007</th>\n",
       "      <th>Unemp Rate 2007</th>\n",
       "      <th>CLF 2008</th>\n",
       "      <th>Emp 2008</th>\n",
       "      <th>Unemp 2008</th>\n",
       "      <th>Unemp Rate 2008</th>\n",
       "      <th>CLF 2009</th>\n",
       "      <th>Emp 2009</th>\n",
       "      <th>...</th>\n",
       "      <th>Unemp Rate 2016</th>\n",
       "      <th>CLF 2017</th>\n",
       "      <th>Emp 2017</th>\n",
       "      <th>Unemp 2017</th>\n",
       "      <th>Unemp Rate 2017</th>\n",
       "      <th>CLF 2018</th>\n",
       "      <th>Emp 2018</th>\n",
       "      <th>Unemp 2018</th>\n",
       "      <th>Unemp Rate 2018</th>\n",
       "      <th>County/State</th>\n",
       "    </tr>\n",
       "    <tr>\n",
       "      <th>State</th>\n",
       "      <th></th>\n",
       "      <th></th>\n",
       "      <th></th>\n",
       "      <th></th>\n",
       "      <th></th>\n",
       "      <th></th>\n",
       "      <th></th>\n",
       "      <th></th>\n",
       "      <th></th>\n",
       "      <th></th>\n",
       "      <th></th>\n",
       "      <th></th>\n",
       "      <th></th>\n",
       "      <th></th>\n",
       "      <th></th>\n",
       "      <th></th>\n",
       "      <th></th>\n",
       "      <th></th>\n",
       "      <th></th>\n",
       "      <th></th>\n",
       "      <th></th>\n",
       "    </tr>\n",
       "  </thead>\n",
       "  <tbody>\n",
       "    <tr>\n",
       "      <th>US</th>\n",
       "      <td>152191093.0</td>\n",
       "      <td>145156134.0</td>\n",
       "      <td>7034959.0</td>\n",
       "      <td>4.6</td>\n",
       "      <td>153761095.0</td>\n",
       "      <td>144860350.0</td>\n",
       "      <td>8900745.0</td>\n",
       "      <td>5.8</td>\n",
       "      <td>153825455.0</td>\n",
       "      <td>139594698.0</td>\n",
       "      <td>...</td>\n",
       "      <td>4.9</td>\n",
       "      <td>160273906.0</td>\n",
       "      <td>153293830.0</td>\n",
       "      <td>6980076.0</td>\n",
       "      <td>4.4</td>\n",
       "      <td>161640488.0</td>\n",
       "      <td>155344043.0</td>\n",
       "      <td>6296445.0</td>\n",
       "      <td>3.9</td>\n",
       "      <td>United States</td>\n",
       "    </tr>\n",
       "    <tr>\n",
       "      <th>AL</th>\n",
       "      <td>2175612.0</td>\n",
       "      <td>2089127.0</td>\n",
       "      <td>86485.0</td>\n",
       "      <td>4.0</td>\n",
       "      <td>2176489.0</td>\n",
       "      <td>2053477.0</td>\n",
       "      <td>123012.0</td>\n",
       "      <td>5.7</td>\n",
       "      <td>2162999.0</td>\n",
       "      <td>1924747.0</td>\n",
       "      <td>...</td>\n",
       "      <td>5.8</td>\n",
       "      <td>2178243.0</td>\n",
       "      <td>2081676.0</td>\n",
       "      <td>96567.0</td>\n",
       "      <td>4.4</td>\n",
       "      <td>2198837.0</td>\n",
       "      <td>2112347.0</td>\n",
       "      <td>86490.0</td>\n",
       "      <td>3.9</td>\n",
       "      <td>Alabama</td>\n",
       "    </tr>\n",
       "    <tr>\n",
       "      <th>AL</th>\n",
       "      <td>24383.0</td>\n",
       "      <td>23577.0</td>\n",
       "      <td>806.0</td>\n",
       "      <td>3.3</td>\n",
       "      <td>24687.0</td>\n",
       "      <td>23420.0</td>\n",
       "      <td>1267.0</td>\n",
       "      <td>5.1</td>\n",
       "      <td>24703.0</td>\n",
       "      <td>22301.0</td>\n",
       "      <td>...</td>\n",
       "      <td>5.1</td>\n",
       "      <td>25972.0</td>\n",
       "      <td>24958.0</td>\n",
       "      <td>1014.0</td>\n",
       "      <td>3.9</td>\n",
       "      <td>25957.0</td>\n",
       "      <td>25015.0</td>\n",
       "      <td>942.0</td>\n",
       "      <td>3.6</td>\n",
       "      <td>Autauga County, AL</td>\n",
       "    </tr>\n",
       "    <tr>\n",
       "      <th>AL</th>\n",
       "      <td>82659.0</td>\n",
       "      <td>80099.0</td>\n",
       "      <td>2560.0</td>\n",
       "      <td>3.1</td>\n",
       "      <td>83223.0</td>\n",
       "      <td>79372.0</td>\n",
       "      <td>3851.0</td>\n",
       "      <td>4.6</td>\n",
       "      <td>82451.0</td>\n",
       "      <td>74403.0</td>\n",
       "      <td>...</td>\n",
       "      <td>5.3</td>\n",
       "      <td>92090.0</td>\n",
       "      <td>88342.0</td>\n",
       "      <td>3748.0</td>\n",
       "      <td>4.1</td>\n",
       "      <td>93849.0</td>\n",
       "      <td>90456.0</td>\n",
       "      <td>3393.0</td>\n",
       "      <td>3.6</td>\n",
       "      <td>Baldwin County, AL</td>\n",
       "    </tr>\n",
       "    <tr>\n",
       "      <th>AL</th>\n",
       "      <td>10334.0</td>\n",
       "      <td>9684.0</td>\n",
       "      <td>650.0</td>\n",
       "      <td>6.3</td>\n",
       "      <td>10161.0</td>\n",
       "      <td>9267.0</td>\n",
       "      <td>894.0</td>\n",
       "      <td>8.8</td>\n",
       "      <td>10003.0</td>\n",
       "      <td>8572.0</td>\n",
       "      <td>...</td>\n",
       "      <td>8.3</td>\n",
       "      <td>8317.0</td>\n",
       "      <td>7831.0</td>\n",
       "      <td>486.0</td>\n",
       "      <td>5.8</td>\n",
       "      <td>8373.0</td>\n",
       "      <td>7940.0</td>\n",
       "      <td>433.0</td>\n",
       "      <td>5.2</td>\n",
       "      <td>Barbour County, AL</td>\n",
       "    </tr>\n",
       "  </tbody>\n",
       "</table>\n",
       "<p>5 rows × 49 columns</p>\n",
       "</div>"
      ],
      "text/plain": [
       "          CLF 2007     Emp 2007  Unemp 2007  Unemp Rate 2007     CLF 2008  \\\n",
       "State                                                                       \n",
       "US     152191093.0  145156134.0   7034959.0              4.6  153761095.0   \n",
       "AL       2175612.0    2089127.0     86485.0              4.0    2176489.0   \n",
       "AL         24383.0      23577.0       806.0              3.3      24687.0   \n",
       "AL         82659.0      80099.0      2560.0              3.1      83223.0   \n",
       "AL         10334.0       9684.0       650.0              6.3      10161.0   \n",
       "\n",
       "          Emp 2008  Unemp 2008  Unemp Rate 2008     CLF 2009     Emp 2009  \\\n",
       "State                                                                       \n",
       "US     144860350.0   8900745.0              5.8  153825455.0  139594698.0   \n",
       "AL       2053477.0    123012.0              5.7    2162999.0    1924747.0   \n",
       "AL         23420.0      1267.0              5.1      24703.0      22301.0   \n",
       "AL         79372.0      3851.0              4.6      82451.0      74403.0   \n",
       "AL          9267.0       894.0              8.8      10003.0       8572.0   \n",
       "\n",
       "       ...  Unemp Rate 2016     CLF 2017     Emp 2017  Unemp 2017  \\\n",
       "State  ...                                                          \n",
       "US     ...              4.9  160273906.0  153293830.0   6980076.0   \n",
       "AL     ...              5.8    2178243.0    2081676.0     96567.0   \n",
       "AL     ...              5.1      25972.0      24958.0      1014.0   \n",
       "AL     ...              5.3      92090.0      88342.0      3748.0   \n",
       "AL     ...              8.3       8317.0       7831.0       486.0   \n",
       "\n",
       "       Unemp Rate 2017     CLF 2018     Emp 2018  Unemp 2018  Unemp Rate 2018  \\\n",
       "State                                                                           \n",
       "US                 4.4  161640488.0  155344043.0   6296445.0              3.9   \n",
       "AL                 4.4    2198837.0    2112347.0     86490.0              3.9   \n",
       "AL                 3.9      25957.0      25015.0       942.0              3.6   \n",
       "AL                 4.1      93849.0      90456.0      3393.0              3.6   \n",
       "AL                 5.8       8373.0       7940.0       433.0              5.2   \n",
       "\n",
       "             County/State  \n",
       "State                      \n",
       "US          United States  \n",
       "AL                Alabama  \n",
       "AL     Autauga County, AL  \n",
       "AL     Baldwin County, AL  \n",
       "AL     Barbour County, AL  \n",
       "\n",
       "[5 rows x 49 columns]"
      ]
     },
     "execution_count": 686,
     "metadata": {},
     "output_type": "execute_result"
    }
   ],
   "source": [
    "employment_data = pd.read_csv(\"./Data/Unemployment and Household Income 2007-08.csv\")\n",
    "employment_data = employment_data.iloc[7:,]\n",
    "employment_data = employment_data.rename(columns={\"Unemployment and median household income for the U.S., States, and counties, 2007-18\":\"Unemployment Rate\",\"Unnamed: 1\": \"State\", \"Unnamed: 2\": \"County/State\",\"Unnamed: 3\":\"Rural 2013\",\"Unnamed: 4\":\"Urban 2013\",\"Unnamed: 5\":\"Metro 2013\",\"Unnamed: 6\":\"CLF 2007\",\"Unnamed: 7\":\"Emp 2007\",\"Unnamed: 8\":\"Unemp 2007\",\"Unnamed: 9\":\"Unemp Rate 2007\",\"Unnamed: 10\":\"CLF 2008\",\"Unnamed: 11\":\"Emp 2008\",\"Unnamed: 12\":\"Unemp 2008\",\"Unnamed: 13\":\"Unemp Rate 2008\",\"Unnamed: 14\":\"CLF 2009\",\"Unnamed: 15\":\"Emp 2009\",\"Unnamed: 16\":\"Unemp 2009\",\"Unnamed: 17\":\"Unemp Rate 2009\",\"Unnamed: 18\":\"CLF 2010\",\"Unnamed: 19\":\"Emp 2010\",\"Unnamed: 20\":\"Unemp 2010\",\"Unnamed: 21\":\"Unemp Rate 2010\",\"Unnamed: 22\":\"CLF 2011\",\"Unnamed: 23\":\"Emp 2011\",\"Unnamed: 24\":\"Unemp 2011\",\"Unnamed: 25\":\"Unemp Rate 2011\",\"Unnamed: 26\":\"CLF 2012\",\"Unnamed: 27\":\"Emp 2012\",\"Unnamed: 28\":\"Unemp 2012\",\"Unnamed: 29\":\"Unemp Rate 2012\",\"Unnamed: 30\":\"CLF 2013\",\"Unnamed: 31\":\"Emp 2013\",\"Unnamed: 32\":\"Unemp 2013\",\"Unnamed: 33\":\"Unemp Rate 2013\",\"Unnamed: 34\":\"CLF 2014\",\"Unnamed: 35\":\"Emp 2014\",\"Unnamed: 36\":\"Unemp 2014\",\"Unnamed: 37\":\"Unemp Rate 2014\",\"Unnamed: 38\":\"CLF 2015\",\"Unnamed: 39\":\"Emp 2015\",\"Unnamed: 40\":\"Unemp 2015\",\"Unnamed: 41\":\"Unemp Rate 2015\",\"Unnamed: 42\":\"CLF 2016\",\"Unnamed: 43\":\"Emp 2016\",\"Unnamed: 44\":\"Unemp 2016\",\"Unnamed: 45\":\"Unemp Rate 2016\",\"Unnamed: 46\":\"CLF 2017\",\"Unnamed: 47\":\"Emp 2017\",\"Unnamed: 48\":\"Unemp 2017\",\"Unnamed: 49\":\"Unemp Rate 2017\",\"Unnamed: 50\":\"CLF 2018\",\"Unnamed: 51\":\"Emp 2018\",\"Unnamed: 52\":\"Unemp 2018\",\"Unnamed: 53\":\"Unemp Rate 2018\", \"Unnamed: 54\": \"Median Household Income 2017\", \"Unnamed: 55\": \"Median HH Income (%) 2017\"})\n",
    "employment_data = employment_data.drop([\"Unemployment Rate\",\"Rural 2013\", \"Urban 2013\", \"Metro 2013\"], axis=1)\n",
    "employment_data_only = employment_data.drop([\"Median Household Income 2017\", \"Median HH Income (%) 2017\"], axis=1)\n",
    "employment_data = employment_data.set_index(\"State\")\n",
    "employment_data = employment_data.drop('PR')\n",
    "\n",
    "employment_data_only = employment_data_only.set_index(\"State\")\n",
    "employment_data_only = employment_data_only.drop('PR')\n",
    "employment_data_only = employment_data_only.fillna('-')\n",
    "employment_data = employment_data.fillna('-')\n",
    "data_\n",
    "\n",
    "def parseFloat(data):\n",
    "    parsedData = re.sub( '[^\\d\\.]', '', data)\n",
    "    return (re.sub( '[^\\d\\.]', '', data)) if parsedData else 0\n",
    "employment_d = employment_data_only.iloc[:,1:].applymap(parseFloat)\n",
    "e = employment_d.astype('float')\n",
    "e['County/State'] = employment_data_only['County/State']\n",
    "e.head()"
   ]
  },
  {
   "cell_type": "code",
   "execution_count": 687,
   "metadata": {},
   "outputs": [],
   "source": [
    "def us_employment(source):\n",
    "    return source[[\"Emp 2007\", \"Emp 2008\", 'Emp 2009',\"Emp 2010\", \"Emp 2011\", 'Emp 2012',\"Emp 2013\", \"Emp 2014\", 'Emp 2015',\"Emp 2016\", \"Emp 2017\", 'Emp 2018']]\n",
    "us_data = employment_data_only.iloc[:1]\n",
    "#us_data = employment_data_only.loc[\"US\"]\n",
    "us_employment = us_employment(us_data)\n"
   ]
  },
  {
   "cell_type": "code",
   "execution_count": 688,
   "metadata": {},
   "outputs": [],
   "source": [
    "def us_unemployment(source):\n",
    "    return source[[\"Unemp 2007\", \"Unemp 2008\", 'Unemp 2009',\"Unemp 2010\", \"Unemp 2011\", 'Unemp 2012',\"Unemp 2013\", \"Unemp 2014\", 'Unemp 2015',\"Unemp 2016\", \"Unemp 2017\", 'Unemp 2018']]\n",
    "us_unemployment = us_unemployment(us_data)"
   ]
  },
  {
   "cell_type": "code",
   "execution_count": 732,
   "metadata": {},
   "outputs": [],
   "source": [
    "def parse_employment_data(source, state_abbr):\n",
    "    data = source.loc[state_abbr]\n",
    "    return { 'counties': data.iloc[1:], 'state': data.iloc[:1] }"
   ]
  },
  {
   "cell_type": "code",
   "execution_count": 690,
   "metadata": {},
   "outputs": [],
   "source": [
    "def employment(source):\n",
    "    counties = source['counties'].set_index(\"County/State\")\n",
    "    return counties[[\"Emp 2007\", \"Emp 2008\", 'Emp 2009',\"Emp 2010\", \"Emp 2011\", 'Emp 2012',\"Emp 2013\", \"Emp 2014\", 'Emp 2015',\"Emp 2016\", \"Emp 2017\", 'Emp 2018']]"
   ]
  },
  {
   "cell_type": "code",
   "execution_count": 628,
   "metadata": {},
   "outputs": [],
   "source": [
    "def unemployment(source):\n",
    "    counties = source['counties'].set_index(\"County/State\")\n",
    "    return counties[[\"Unemp Rate 2007\", \"Unemp Rate 2008\", 'Unemp Rate 2009',\"Unemp Rate 2010\", \"Unemp Rate 2011\", 'Unemp Rate 2012',\"Unemp Rate 2013\", \"Unemp Rate 2014\", 'Unemp Rate 2015',\"Unemp Rate 2016\", \"Unemp Rate 2017\", 'Unemp Rate 2018']]\n"
   ]
  },
  {
   "cell_type": "code",
   "execution_count": 629,
   "metadata": {},
   "outputs": [],
   "source": [
    "def state_emp(source):\n",
    "    state = source['state'].set_index(\"County/State\")\n",
    "    return state[[\"Emp 2007\", \"Emp 2008\", 'Emp 2009',\"Emp 2010\", \"Emp 2011\", 'Emp 2012',\"Emp 2013\", \"Emp 2014\", 'Emp 2015',\"Emp 2016\", \"Emp 2017\", 'Emp 2018']]\n"
   ]
  },
  {
   "cell_type": "code",
   "execution_count": 630,
   "metadata": {},
   "outputs": [],
   "source": [
    "def state_unemp(source):\n",
    "    state = source['state'].set_index(\"County/State\")\n",
    "    return state[[\"Unemp Rate 2007\", \"Unemp Rate 2008\", 'Unemp Rate 2009',\"Unemp Rate 2010\", \"Unemp Rate 2011\", 'Unemp Rate 2012',\"Unemp Rate 2013\", \"Unemp Rate 2014\", 'Unemp Rate 2015',\"Unemp Rate 2016\", \"Unemp Rate 2017\", 'Unemp Rate 2018']]\n"
   ]
  },
  {
   "cell_type": "code",
   "execution_count": 691,
   "metadata": {},
   "outputs": [],
   "source": [
    "def civilian_labor_force(source):\n",
    "    counties = source['counties'].set_index(\"County/State\")\n",
    "    return counties[[\"CLF 2007\", \"CLF 2008\", 'CLF 2009',\"CLF 2010\", \"CLF 2011\", 'CLF 2012',\"CLF 2013\", \"CLF 2014\", 'CLF 2015',\"CLF 2016\", \"CLF 2017\", 'CLF 2018']]\n"
   ]
  },
  {
   "cell_type": "code",
   "execution_count": 736,
   "metadata": {},
   "outputs": [],
   "source": [
    "alabama_data = parse_employment_data(e, \"AL\")\n",
    "alabama_employment = employment(alabama_data)\n",
    "alabama_unemployment = unemployment(alabama_data)\n",
    "alabama_st_emp = state_emp(alabama_data)\n",
    "alabama_st_unemp = state_unemp(alabama_data)\n",
    "data = e.loc['AL']\n",
    "alabama = data.iloc[:1]"
   ]
  },
  {
   "cell_type": "code",
   "execution_count": 737,
   "metadata": {},
   "outputs": [],
   "source": [
    "alaska_data = parse_employment_data(e, \"AK\")\n",
    "alaska_employment = employment(alaska_data)\n",
    "alaska_unemployment = unemployment(alaska_data)\n",
    "alaska_st_emp = state_emp(alaska_data)\n",
    "alaska_st_unemp = state_unemp(alaska_data)\n",
    "data0 = e.loc['AK']\n",
    "alaska = data0.iloc[:1]\n"
   ]
  },
  {
   "cell_type": "code",
   "execution_count": 738,
   "metadata": {},
   "outputs": [],
   "source": [
    "arizona_data = parse_employment_data(e, \"AZ\")\n",
    "\n",
    "arizona_employment = employment(arizona_data)\n",
    "arizona_unemployment = unemployment(arizona_data)\n",
    "arizona_st_emp = state_emp(arizona_data)\n",
    "arizona_st_unemp = state_unemp(arizona_data)\n",
    "\n",
    "data1 = e.loc['AZ']\n",
    "arizona = data1.iloc[:1]\n"
   ]
  },
  {
   "cell_type": "code",
   "execution_count": 739,
   "metadata": {},
   "outputs": [],
   "source": [
    "arkansas_data = parse_employment_data(e, \"AR\")\n",
    "arkansas_employment = employment(arkansas_data)\n",
    "arkansas_unemployment = unemployment(arkansas_data)\n",
    "arkansas_st_emp = state_emp(arkansas_data)\n",
    "arkansas_st_unemp = state_unemp(arkansas_data)\n",
    "data2 = e.loc['AR']\n",
    "arkansas = data2.iloc[:1]"
   ]
  },
  {
   "cell_type": "code",
   "execution_count": 740,
   "metadata": {},
   "outputs": [],
   "source": [
    "california_data = parse_employment_data(e, \"CA\")\n",
    "california_employment = employment(california_data)\n",
    "california_unemployment = unemployment(california_data)\n",
    "california_st_emp = state_emp(california_data)\n",
    "california_st_unemp = state_unemp(california_data)\n",
    "data3 = e.loc['CA']\n",
    "california = data3.iloc[:1]"
   ]
  },
  {
   "cell_type": "code",
   "execution_count": 741,
   "metadata": {},
   "outputs": [],
   "source": [
    "colorado_data = parse_employment_data(e, \"CO\")\n",
    "colorado_employment = employment(colorado_data)\n",
    "colorado_unemployment = unemployment(colorado_data)\n",
    "colorado_st_emp = state_emp(colorado_data)\n",
    "colorado_st_unemp = state_unemp(colorado_data)\n",
    "data4 = e.loc['CO']\n",
    "colorado = data4.iloc[:1]"
   ]
  },
  {
   "cell_type": "code",
   "execution_count": 742,
   "metadata": {},
   "outputs": [],
   "source": [
    "connecticut_data = parse_employment_data(e, \"CT\")\n",
    "connecticut_employment = employment(connecticut_data)\n",
    "connecticut_unemployment = unemployment(connecticut_data)\n",
    "connecticut_st_emp = state_emp(connecticut_data)\n",
    "connecticut_st_unemp = state_unemp(connecticut_data)\n",
    "data5 = e.loc['CT']\n",
    "connecticut = data5.iloc[:1]"
   ]
  },
  {
   "cell_type": "code",
   "execution_count": 639,
   "metadata": {},
   "outputs": [],
   "source": [
    "delaware_data = parse_employment_data(e, \"DE\")\n",
    "delaware_employment = employment(delaware_data)\n",
    "delaware_unemployment = unemployment(delaware_data)\n",
    "delaware_st_emp = state_emp(delaware_data)\n",
    "delaware_st_unemp = state_unemp(delaware_data)\n",
    "data6 = e.loc['DE']\n",
    "delaware = data6.iloc[:1]"
   ]
  },
  {
   "cell_type": "code",
   "execution_count": 743,
   "metadata": {},
   "outputs": [],
   "source": [
    "florida_data = parse_employment_data(e, \"FL\")\n",
    "florida_employment = employment(florida_data)\n",
    "florida_unemployment = unemployment(florida_data)\n",
    "florida_st_emp = state_emp(florida_data)\n",
    "florida_st_unemp = state_unemp(florida_data)\n",
    "data7 = e.loc['FL']\n",
    "florida = data7.iloc[:1]"
   ]
  },
  {
   "cell_type": "code",
   "execution_count": 744,
   "metadata": {},
   "outputs": [],
   "source": [
    "georgia_data = parse_employment_data(e, \"GA\")\n",
    "georgia_employment = employment(georgia_data)\n",
    "georgia_unemployment = unemployment(georgia_data)\n",
    "georgia_st_emp = state_emp(georgia_data)\n",
    "georgia_st_unemp = state_unemp(georgia_data)\n",
    "data8 = e.loc['GA']\n",
    "georgia = data8.iloc[:1]"
   ]
  },
  {
   "cell_type": "code",
   "execution_count": 745,
   "metadata": {},
   "outputs": [],
   "source": [
    "hawaii_data = parse_employment_data(e, \"HI\")\n",
    "hawaii_employment = employment(hawaii_data)\n",
    "hawaii_unemployment = unemployment(hawaii_data)\n",
    "hawaii_st_emp = state_emp(hawaii_data)\n",
    "hawaii_st_unemp = state_unemp(hawaii_data)\n",
    "data9 = e.loc['HI']\n",
    "hawaii = data9.iloc[:1]"
   ]
  },
  {
   "cell_type": "code",
   "execution_count": 746,
   "metadata": {},
   "outputs": [],
   "source": [
    "idaho_data = parse_employment_data(e, \"ID\")\n",
    "idaho_employment = employment(idaho_data)\n",
    "idaho_unemployment = unemployment(idaho_data)\n",
    "idaho_st_emp = state_emp(idaho_data)\n",
    "idaho_st_unemp = state_unemp(idaho_data)\n",
    "data00 = e.loc['ID']\n",
    "idaho = data00.iloc[:1]"
   ]
  },
  {
   "cell_type": "code",
   "execution_count": 747,
   "metadata": {},
   "outputs": [],
   "source": [
    "illinois_data = parse_employment_data(e, \"IL\")\n",
    "illinois_employment = employment(illinois_data)\n",
    "illinois_unemployment = unemployment(illinois_data)\n",
    "illinois_st_emp = state_emp(illinois_data)\n",
    "illinois_st_unemp = state_unemp(illinois_data)\n",
    "data01 = e.loc['IL']\n",
    "illinois = data01.iloc[:1]"
   ]
  },
  {
   "cell_type": "code",
   "execution_count": 645,
   "metadata": {},
   "outputs": [],
   "source": [
    "indiana_data = parse_employment_data(e, \"IN\")\n",
    "indiana_employment = employment(indiana_data)\n",
    "indiana_unemployment = unemployment(indiana_data)\n",
    "indiana_st_emp = state_emp(indiana_data)\n",
    "indiana_st_unemp = state_unemp(indiana_data)\n",
    "data02 = e.loc['IN']\n",
    "indiana = data02.iloc[:1]"
   ]
  },
  {
   "cell_type": "code",
   "execution_count": 748,
   "metadata": {},
   "outputs": [],
   "source": [
    "iowa_data = parse_employment_data(e, \"IA\")\n",
    "iowa_employment = employment(iowa_data)\n",
    "iowa_unemployment = unemployment(iowa_data)\n",
    "iowa_st_emp = state_emp(iowa_data)\n",
    "iowa_st_unemp = state_unemp(iowa_data)\n",
    "data03 = e.loc['IA']\n",
    "iowa = data03.iloc[:1]"
   ]
  },
  {
   "cell_type": "code",
   "execution_count": 749,
   "metadata": {},
   "outputs": [],
   "source": [
    "kansas_data = parse_employment_data(e, \"KS\")\n",
    "kansas_employment = employment(kansas_data)\n",
    "kansas_unemployment = unemployment(kansas_data)\n",
    "kansas_st_emp = state_emp(kansas_data)\n",
    "kansas_st_unemp = state_unemp(kansas_data)\n",
    "data04 = e.loc['KS']\n",
    "kansas = data04.iloc[:1]"
   ]
  },
  {
   "cell_type": "code",
   "execution_count": 750,
   "metadata": {},
   "outputs": [],
   "source": [
    "kentucky_data = parse_employment_data(e, \"KY\")\n",
    "kentucky_employment = employment(kentucky_data)\n",
    "kentucky_unemployment = unemployment(kentucky_data)\n",
    "kentucky_st_emp = state_emp(kentucky_data)\n",
    "kentucky_st_unemp = state_unemp(kentucky_data)\n",
    "data05 = e.loc['KY']\n",
    "kentucky = data05.iloc[:1]"
   ]
  },
  {
   "cell_type": "code",
   "execution_count": 751,
   "metadata": {},
   "outputs": [],
   "source": [
    "louisiana_data = parse_employment_data(e, \"LA\")\n",
    "louisiana_employment = employment(louisiana_data)\n",
    "louisiana_unemployment = unemployment(louisiana_data)\n",
    "louisiana_st_emp = state_emp(louisiana_data)\n",
    "louisiana_st_unemp = state_unemp(louisiana_data)\n",
    "data06 = e.loc['LA']\n",
    "louisianna = data06.iloc[:1]"
   ]
  },
  {
   "cell_type": "code",
   "execution_count": 752,
   "metadata": {},
   "outputs": [],
   "source": [
    "maine_data = parse_employment_data(e, \"ME\")\n",
    "maine_employment = employment(maine_data)\n",
    "maine_unemployment = unemployment(maine_data)\n",
    "maine_st_emp = state_emp(maine_data)\n",
    "maine_st_unemp = state_unemp(maine_data)\n",
    "data07 = e.loc['ME']\n",
    "maine= data07.iloc[:1]"
   ]
  },
  {
   "cell_type": "code",
   "execution_count": 753,
   "metadata": {},
   "outputs": [],
   "source": [
    "maryland_data = parse_employment_data(e, \"MD\")\n",
    "maryland_employment = employment(maryland_data)\n",
    "maryland_unemployment = unemployment(maryland_data)\n",
    "maryland_st_emp = state_emp(maryland_data)\n",
    "maryland_st_unemp = state_unemp(maryland_data)\n",
    "data08 = e.loc['MD']\n",
    "maryland = data08.iloc[:1]"
   ]
  },
  {
   "cell_type": "code",
   "execution_count": 754,
   "metadata": {},
   "outputs": [],
   "source": [
    "massachusetts_data = parse_employment_data(e, \"MA\")\n",
    "massachusetts_employment = employment(massachusetts_data)\n",
    "massachusetts_unemployment = unemployment(massachusetts_data)\n",
    "massachusetts_st_emp = state_emp(massachusetts_data)\n",
    "massachusetts_st_unemp = state_unemp(massachusetts_data)\n",
    "data09 = e.loc['MA']\n",
    "massachusetts = data09.iloc[:1]"
   ]
  },
  {
   "cell_type": "code",
   "execution_count": 755,
   "metadata": {},
   "outputs": [],
   "source": [
    "michigan_data = parse_employment_data(e, \"MI\")\n",
    "michigan_employment = employment(michigan_data)\n",
    "michigan_unemployment = unemployment(michigan_data)\n",
    "michigan_st_emp = state_emp(michigan_data)\n",
    "michigan_st_unemp = state_unemp(michigan_data)\n",
    "data10 = e.loc['MI']\n",
    "michigan = data10.iloc[:1]"
   ]
  },
  {
   "cell_type": "code",
   "execution_count": 757,
   "metadata": {},
   "outputs": [],
   "source": [
    "minnesota_data = parse_employment_data(e, \"MN\")\n",
    "minnesota_employment = employment(minnesota_data)\n",
    "minnesota_unemployment = unemployment(minnesota_data)\n",
    "minnesota_st_emp = state_emp(minnesota_data)\n",
    "minnesota_st_unemp = state_unemp(minnesota_data)\n",
    "data11 = e.loc['MN']\n",
    "minnesota = data11.iloc[:1]"
   ]
  },
  {
   "cell_type": "code",
   "execution_count": 758,
   "metadata": {},
   "outputs": [],
   "source": [
    "mississippi_data = parse_employment_data(e, \"MS\")\n",
    "mississippi_employment = employment(mississippi_data)\n",
    "mississippi_unemployment = unemployment(mississippi_data)\n",
    "mississippi_st_emp = state_emp(mississippi_data)\n",
    "mississippi_st_unemp = state_unemp(mississippi_data)\n",
    "data12 = e.loc['MS']\n",
    "mississippi = data12.iloc[:1]"
   ]
  },
  {
   "cell_type": "code",
   "execution_count": 759,
   "metadata": {},
   "outputs": [],
   "source": [
    "missouri_data = parse_employment_data(e, \"MO\")\n",
    "missouri_employment = employment(missouri_data)\n",
    "missouri_unemployment = unemployment(missouri_data)\n",
    "missouri_st_emp = state_emp(missouri_data)\n",
    "missouri_st_unemp = state_unemp(missouri_data)\n",
    "data13 = e.loc['MO']\n",
    "missouri = data13.iloc[:1]"
   ]
  },
  {
   "cell_type": "code",
   "execution_count": 760,
   "metadata": {},
   "outputs": [],
   "source": [
    "montana_data = parse_employment_data(e, \"MT\")\n",
    "montana_employment = employment(montana_data)\n",
    "montana_unemployment = unemployment(montana_data)\n",
    "montana_st_emp = state_emp(montana_data)\n",
    "montana_st_unemp = state_unemp(montana_data)\n",
    "data14 = e.loc['MT']\n",
    "montana = data14.iloc[:1]"
   ]
  },
  {
   "cell_type": "code",
   "execution_count": 761,
   "metadata": {},
   "outputs": [],
   "source": [
    "nebraska_data = parse_employment_data(e, \"NE\")\n",
    "nebraska_employment = employment(nebraska_data)\n",
    "nebraska_unemployment = unemployment(nebraska_data)\n",
    "nebraska_st_emp = state_emp(nebraska_data)\n",
    "nebraska_st_unemp = state_unemp(nebraska_data)\n",
    "data14 = e.loc['NE']\n",
    "nebraska = data14.iloc[:1]"
   ]
  },
  {
   "cell_type": "code",
   "execution_count": 762,
   "metadata": {},
   "outputs": [],
   "source": [
    "nevada_data = parse_employment_data(e, \"NV\")\n",
    "nevada_employment = employment(nevada_data)\n",
    "nevada_unemployment = unemployment(nevada_data)\n",
    "nevada_st_emp = state_emp(nevada_data)\n",
    "nevada_st_unemp = state_unemp(nevada_data)\n",
    "data14 = e.loc['NV']\n",
    "nevada = data14.iloc[:1]"
   ]
  },
  {
   "cell_type": "code",
   "execution_count": 763,
   "metadata": {},
   "outputs": [],
   "source": [
    "new_hampshire_data = parse_employment_data(e, \"NH\")\n",
    "new_hampshire_employment = employment(new_hampshire_data)\n",
    "new_hampshire_unemployment = unemployment(new_hampshire_data)\n",
    "new_hampshire_st_emp = state_emp(new_hampshire_data)\n",
    "new_hampshire_st_unemp = state_unemp(new_hampshire_data)\n",
    "data15 = e.loc['NH']\n",
    "new_hampshire = data15.iloc[:1]"
   ]
  },
  {
   "cell_type": "code",
   "execution_count": 764,
   "metadata": {},
   "outputs": [],
   "source": [
    "new_jersey_data = parse_employment_data(e, \"NJ\")\n",
    "new_jersey_employment = employment(new_jersey_data)\n",
    "new_jersey_unemployment = unemployment(new_jersey_data)\n",
    "new_jersey_st_emp = state_emp(new_jersey_data)\n",
    "new_jersey_st_unemp = state_unemp(new_jersey_data)\n",
    "data16 = e.loc['NJ']\n",
    "new_jersey = data16.iloc[:1]"
   ]
  },
  {
   "cell_type": "code",
   "execution_count": 765,
   "metadata": {},
   "outputs": [],
   "source": [
    "new_mexico_data = parse_employment_data(e, \"NM\")\n",
    "new_mexico_employment = employment(new_mexico_data)\n",
    "new_mexico_unemployment = unemployment(new_mexico_data)\n",
    "new_mexico_st_emp = state_emp(new_mexico_data)\n",
    "new_mexico_st_unemp = state_unemp(new_mexico_data)\n",
    "data17 = e.loc['NM']\n",
    "new_mexico = data17.iloc[:1]"
   ]
  },
  {
   "cell_type": "code",
   "execution_count": 766,
   "metadata": {},
   "outputs": [],
   "source": [
    "new_york_data = parse_employment_data(e, \"NY\")\n",
    "new_york_employment = employment(new_york_data)\n",
    "new_york_unemployment = unemployment(new_york_data)\n",
    "new_york_st_emp = state_emp(new_york_data)\n",
    "new_york_st_unemp = state_unemp(new_york_data)\n",
    "data18 = e.loc['NY']\n",
    "new_york = data18.iloc[:1]\n",
    "\n"
   ]
  },
  {
   "cell_type": "code",
   "execution_count": 767,
   "metadata": {},
   "outputs": [],
   "source": [
    "north_carolina_data = parse_employment_data(e, \"NC\")\n",
    "north_carolina_employment = employment(north_carolina_data)\n",
    "north_carolina_unemployment = unemployment(north_carolina_data)\n",
    "north_carolina_st_emp = state_emp(north_carolina_data)\n",
    "north_carolina_st_unemp = state_unemp(north_carolina_data)\n",
    "data19 = e.loc['NC']\n",
    "north_carolina = data19.iloc[:1]\n"
   ]
  },
  {
   "cell_type": "code",
   "execution_count": 768,
   "metadata": {},
   "outputs": [],
   "source": [
    "north_dakota_data = parse_employment_data(e, \"ND\")\n",
    "north_dakota_employment = employment(north_dakota_data)\n",
    "north_dakota_unemployment = unemployment(north_dakota_data)\n",
    "north_dakota_st_emp = state_emp(north_dakota_data)\n",
    "north_dakota_st_unemp = state_unemp(north_dakota_data)\n",
    "data20 = e.loc['ND']\n",
    "north_dakota = data20.iloc[:1]"
   ]
  },
  {
   "cell_type": "code",
   "execution_count": 769,
   "metadata": {},
   "outputs": [],
   "source": [
    "ohio_data = parse_employment_data(e, \"OH\")\n",
    "ohio_employment = employment(ohio_data)\n",
    "ohio_unemployment = unemployment(ohio_data)\n",
    "ohio_st_emp = state_emp(ohio_data)\n",
    "ohio_st_unemp = state_unemp(ohio_data)\n",
    "data21 = e.loc['OH']\n",
    "ohio = data21.iloc[:1]"
   ]
  },
  {
   "cell_type": "code",
   "execution_count": 770,
   "metadata": {},
   "outputs": [],
   "source": [
    "oklahoma_data = parse_employment_data(e, \"OK\")\n",
    "oklahoma_employment = employment(oklahoma_data)\n",
    "oklahoma_unemployment = unemployment(oklahoma_data)\n",
    "oklahoma_st_emp = state_emp(oklahoma_data)\n",
    "oklahoma_st_unemp = state_unemp(oklahoma_data)\n",
    "data22 = e.loc['OK']\n",
    "oklahoma= data22.iloc[:1]"
   ]
  },
  {
   "cell_type": "code",
   "execution_count": 771,
   "metadata": {},
   "outputs": [],
   "source": [
    "oregon_data = parse_employment_data(e, \"OR\")\n",
    "oregon_employment = employment(oregon_data)\n",
    "oregon_unemployment = unemployment(oregon_data)\n",
    "oregon_st_emp = state_emp(oregon_data)\n",
    "oregon_st_unemp = state_unemp(oregon_data)\n",
    "data23 = e.loc['OR']\n",
    "oregon = data23.iloc[:1]"
   ]
  },
  {
   "cell_type": "code",
   "execution_count": 772,
   "metadata": {},
   "outputs": [],
   "source": [
    "pennsylvania_data = parse_employment_data(e, \"PA\")\n",
    "pennsylvania_employment = employment(pennsylvania_data)\n",
    "pennsylvania_unemployment = unemployment(pennsylvania_data)\n",
    "pennsylvania_st_emp = state_emp(pennsylvania_data)\n",
    "pennsylvania_st_unemp = state_unemp(pennsylvania_data)\n",
    "data24 = e.loc['PA']\n",
    "pennsylvania = data24.iloc[:1]"
   ]
  },
  {
   "cell_type": "code",
   "execution_count": 773,
   "metadata": {},
   "outputs": [],
   "source": [
    "rhode_island_data = parse_employment_data(e, \"RI\")\n",
    "rhode_island_employment = employment(rhode_island_data)\n",
    "rhode_island_unemployment = unemployment(rhode_island_data)\n",
    "rhode_island_st_emp = state_emp(rhode_island_data)\n",
    "rhode_island_st_unemp = state_unemp(rhode_island_data)\n",
    "data25 = e.loc['RI']\n",
    "rhode_island = data25.iloc[:1]"
   ]
  },
  {
   "cell_type": "code",
   "execution_count": 774,
   "metadata": {},
   "outputs": [],
   "source": [
    "south_carolina_data = parse_employment_data(e, \"SC\")\n",
    "south_carolina_employment = employment(south_carolina_data)\n",
    "south_carolina_unemployment = unemployment(south_carolina_data)\n",
    "south_carolina_st_emp = state_emp(south_carolina_data)\n",
    "south_carolina_st_unemp = state_unemp(south_carolina_data)\n",
    "data26 = e.loc['SC']\n",
    "south_carolina = data26.iloc[:1]"
   ]
  },
  {
   "cell_type": "code",
   "execution_count": 775,
   "metadata": {},
   "outputs": [],
   "source": [
    "south_dakota_data = parse_employment_data(e, \"SD\")\n",
    "south_dakota_employment = employment(south_dakota_data)\n",
    "south_dakota_unemployment = unemployment(south_dakota_data)\n",
    "south_dakota_st_emp = state_emp(south_dakota_data)\n",
    "south_dakota_st_unemp = state_unemp(south_dakota_data)\n",
    "data27 = e.loc[\"SD\"]\n",
    "south_dakota = data27.iloc[:1]"
   ]
  },
  {
   "cell_type": "code",
   "execution_count": 776,
   "metadata": {},
   "outputs": [],
   "source": [
    "tennessee_data = parse_employment_data(e, \"TN\")\n",
    "tennessee_employment = employment(tennessee_data)\n",
    "tennessee_unemployment = unemployment(tennessee_data)\n",
    "tennessee_st_emp = state_emp(tennessee_data)\n",
    "tennessee_st_unemp = state_unemp(tennessee_data)\n",
    "data28 = e.loc['TN']\n",
    "tennessee = data28.iloc[:1]"
   ]
  },
  {
   "cell_type": "code",
   "execution_count": 777,
   "metadata": {},
   "outputs": [],
   "source": [
    "texas_data = parse_employment_data(e, \"TX\")\n",
    "texas_employment = employment(texas_data)\n",
    "texas_unemployment = unemployment(texas_data)\n",
    "texas_st_emp = state_emp(texas_data)\n",
    "texas_st_unemp = state_unemp(texas_data)\n",
    "data29 = e.loc['TX']\n",
    "texas = data7.iloc[:1]"
   ]
  },
  {
   "cell_type": "code",
   "execution_count": 778,
   "metadata": {},
   "outputs": [],
   "source": [
    "utah_data = parse_employment_data(e, \"UT\")\n",
    "utah_employment = employment(utah_data)\n",
    "utah_unemployment = unemployment(utah_data)\n",
    "utah_st_emp = state_emp(utah_data)\n",
    "utah_st_unemp = state_unemp(utah_data)\n",
    "data30 = e.loc['UT']\n",
    "utah = data30.iloc[:1]"
   ]
  },
  {
   "cell_type": "code",
   "execution_count": 779,
   "metadata": {},
   "outputs": [],
   "source": [
    "vermont_data = parse_employment_data(e, \"VT\")\n",
    "vermont_employment = employment(vermont_data)\n",
    "vermont_unemployment = unemployment(vermont_data)\n",
    "vermont_st_emp = state_emp(vermont_data)\n",
    "vermont_st_unemp = state_unemp(vermont_data)\n",
    "data31 = e.loc['VT']\n",
    "vermont = data31.iloc[:1]"
   ]
  },
  {
   "cell_type": "code",
   "execution_count": 780,
   "metadata": {},
   "outputs": [],
   "source": [
    "virginia_data = parse_employment_data(e, \"VA\")\n",
    "virginia_employment = employment(virginia_data)\n",
    "virginia_unemployment = unemployment(virginia_data)\n",
    "virginia_st_emp = state_emp(virginia_data)\n",
    "virginia_st_unemp = state_unemp(virginia_data)\n",
    "data32 = e.loc['VA']\n",
    "virginia = data7.iloc[:1]"
   ]
  },
  {
   "cell_type": "code",
   "execution_count": 781,
   "metadata": {},
   "outputs": [],
   "source": [
    "washington_data = parse_employment_data(e, \"WA\")\n",
    "washington_employment = employment(washington_data)\n",
    "washington_unemployment = unemployment(washington_data)\n",
    "washington_st_emp = state_emp(washington_data)\n",
    "washington_st_unemp = state_unemp(washington_data)\n",
    "data33 = e.loc['WA']\n",
    "washington = data33.iloc[:1]"
   ]
  },
  {
   "cell_type": "code",
   "execution_count": 782,
   "metadata": {},
   "outputs": [],
   "source": [
    "west_virginia_data = parse_employment_data(e, \"WV\")\n",
    "west_virginia_employment = employment(west_virginia_data)\n",
    "west_virginia_unemployment = unemployment(west_virginia_data)\n",
    "west_virginia_st_emp = state_emp(west_virginia_data)\n",
    "west_virginia_st_unemp = state_unemp(west_virginia_data)\n",
    "data34 = e.loc['WV']\n",
    "west_virginia = data34.iloc[:1]"
   ]
  },
  {
   "cell_type": "code",
   "execution_count": 783,
   "metadata": {},
   "outputs": [],
   "source": [
    "wisconsin_data = parse_employment_data(e, \"WI\")\n",
    "wisconsin_employment = employment(wisconsin_data)\n",
    "wisconsin_unemployment = unemployment(wisconsin_data)\n",
    "wisconsin_st_emp = state_emp(wisconsin_data)\n",
    "wisconsin_st_unemp = state_unemp(wisconsin_data)\n",
    "data35 = e.loc['WI']\n",
    "wisconsin = data35.iloc[:1]"
   ]
  },
  {
   "cell_type": "code",
   "execution_count": 784,
   "metadata": {},
   "outputs": [],
   "source": [
    "wyoming_data = parse_employment_data(e, \"WY\")\n",
    "wyoming_employment = employment(wyoming_data)\n",
    "wyoming_unemployment = unemployment(wyoming_data)\n",
    "wyoming_st_emp = state_emp(wyoming_data)\n",
    "wyoming_st_unemp = state_unemp(wyoming_data)\n",
    "data36 = e.loc['WY']\n",
    "wyoming = data36.iloc[:1]\n",
    "#wyoming_employment.plot.bar(figsize=(20,20))"
   ]
  },
  {
   "cell_type": "code",
   "execution_count": 791,
   "metadata": {},
   "outputs": [
    {
     "data": {
      "text/html": [
       "<div>\n",
       "<style scoped>\n",
       "    .dataframe tbody tr th:only-of-type {\n",
       "        vertical-align: middle;\n",
       "    }\n",
       "\n",
       "    .dataframe tbody tr th {\n",
       "        vertical-align: top;\n",
       "    }\n",
       "\n",
       "    .dataframe thead th {\n",
       "        text-align: right;\n",
       "    }\n",
       "</style>\n",
       "<table border=\"1\" class=\"dataframe\">\n",
       "  <thead>\n",
       "    <tr style=\"text-align: right;\">\n",
       "      <th></th>\n",
       "      <th>CLF 2007</th>\n",
       "      <th>Emp 2007</th>\n",
       "      <th>Unemp 2007</th>\n",
       "      <th>Unemp Rate 2007</th>\n",
       "      <th>CLF 2008</th>\n",
       "      <th>Emp 2008</th>\n",
       "      <th>Unemp 2008</th>\n",
       "      <th>Unemp Rate 2008</th>\n",
       "      <th>CLF 2009</th>\n",
       "      <th>Emp 2009</th>\n",
       "      <th>...</th>\n",
       "      <th>Unemp Rate 2016</th>\n",
       "      <th>CLF 2017</th>\n",
       "      <th>Emp 2017</th>\n",
       "      <th>Unemp 2017</th>\n",
       "      <th>Unemp Rate 2017</th>\n",
       "      <th>CLF 2018</th>\n",
       "      <th>Emp 2018</th>\n",
       "      <th>Unemp 2018</th>\n",
       "      <th>Unemp Rate 2018</th>\n",
       "      <th>County/State</th>\n",
       "    </tr>\n",
       "    <tr>\n",
       "      <th>State</th>\n",
       "      <th></th>\n",
       "      <th></th>\n",
       "      <th></th>\n",
       "      <th></th>\n",
       "      <th></th>\n",
       "      <th></th>\n",
       "      <th></th>\n",
       "      <th></th>\n",
       "      <th></th>\n",
       "      <th></th>\n",
       "      <th></th>\n",
       "      <th></th>\n",
       "      <th></th>\n",
       "      <th></th>\n",
       "      <th></th>\n",
       "      <th></th>\n",
       "      <th></th>\n",
       "      <th></th>\n",
       "      <th></th>\n",
       "      <th></th>\n",
       "      <th></th>\n",
       "    </tr>\n",
       "  </thead>\n",
       "  <tbody>\n",
       "    <tr>\n",
       "      <th>AL</th>\n",
       "      <td>2175612.0</td>\n",
       "      <td>2089127.0</td>\n",
       "      <td>86485.0</td>\n",
       "      <td>4.0</td>\n",
       "      <td>2176489.0</td>\n",
       "      <td>2053477.0</td>\n",
       "      <td>123012.0</td>\n",
       "      <td>5.7</td>\n",
       "      <td>2162999.0</td>\n",
       "      <td>1924747.0</td>\n",
       "      <td>...</td>\n",
       "      <td>5.8</td>\n",
       "      <td>2178243.0</td>\n",
       "      <td>2081676.0</td>\n",
       "      <td>96567.0</td>\n",
       "      <td>4.4</td>\n",
       "      <td>2198837.0</td>\n",
       "      <td>2112347.0</td>\n",
       "      <td>86490.0</td>\n",
       "      <td>3.9</td>\n",
       "      <td>Alabama</td>\n",
       "    </tr>\n",
       "    <tr>\n",
       "      <th>AK</th>\n",
       "      <td>350785.0</td>\n",
       "      <td>328579.0</td>\n",
       "      <td>22206.0</td>\n",
       "      <td>6.3</td>\n",
       "      <td>356109.0</td>\n",
       "      <td>332285.0</td>\n",
       "      <td>23824.0</td>\n",
       "      <td>6.7</td>\n",
       "      <td>359647.0</td>\n",
       "      <td>331792.0</td>\n",
       "      <td>...</td>\n",
       "      <td>6.9</td>\n",
       "      <td>360759.0</td>\n",
       "      <td>335682.0</td>\n",
       "      <td>25077.0</td>\n",
       "      <td>7.0</td>\n",
       "      <td>356886.0</td>\n",
       "      <td>333375.0</td>\n",
       "      <td>23511.0</td>\n",
       "      <td>6.6</td>\n",
       "      <td>Alaska</td>\n",
       "    </tr>\n",
       "    <tr>\n",
       "      <th>AZ</th>\n",
       "      <td>3034016.0</td>\n",
       "      <td>2917117.0</td>\n",
       "      <td>116899.0</td>\n",
       "      <td>3.9</td>\n",
       "      <td>3104863.0</td>\n",
       "      <td>2913903.0</td>\n",
       "      <td>190960.0</td>\n",
       "      <td>6.2</td>\n",
       "      <td>3128110.0</td>\n",
       "      <td>2817577.0</td>\n",
       "      <td>...</td>\n",
       "      <td>5.4</td>\n",
       "      <td>3327949.0</td>\n",
       "      <td>3165127.0</td>\n",
       "      <td>162822.0</td>\n",
       "      <td>4.9</td>\n",
       "      <td>3439755.0</td>\n",
       "      <td>3273550.0</td>\n",
       "      <td>166205.0</td>\n",
       "      <td>4.8</td>\n",
       "      <td>Arizona</td>\n",
       "    </tr>\n",
       "  </tbody>\n",
       "</table>\n",
       "<p>3 rows × 49 columns</p>\n",
       "</div>"
      ],
      "text/plain": [
       "        CLF 2007   Emp 2007  Unemp 2007  Unemp Rate 2007   CLF 2008  \\\n",
       "State                                                                 \n",
       "AL     2175612.0  2089127.0     86485.0              4.0  2176489.0   \n",
       "AK      350785.0   328579.0     22206.0              6.3   356109.0   \n",
       "AZ     3034016.0  2917117.0    116899.0              3.9  3104863.0   \n",
       "\n",
       "        Emp 2008  Unemp 2008  Unemp Rate 2008   CLF 2009   Emp 2009  ...  \\\n",
       "State                                                                ...   \n",
       "AL     2053477.0    123012.0              5.7  2162999.0  1924747.0  ...   \n",
       "AK      332285.0     23824.0              6.7   359647.0   331792.0  ...   \n",
       "AZ     2913903.0    190960.0              6.2  3128110.0  2817577.0  ...   \n",
       "\n",
       "       Unemp Rate 2016   CLF 2017   Emp 2017  Unemp 2017  Unemp Rate 2017  \\\n",
       "State                                                                       \n",
       "AL                 5.8  2178243.0  2081676.0     96567.0              4.4   \n",
       "AK                 6.9   360759.0   335682.0     25077.0              7.0   \n",
       "AZ                 5.4  3327949.0  3165127.0    162822.0              4.9   \n",
       "\n",
       "        CLF 2018   Emp 2018  Unemp 2018  Unemp Rate 2018  County/State  \n",
       "State                                                                   \n",
       "AL     2198837.0  2112347.0     86490.0              3.9       Alabama  \n",
       "AK      356886.0   333375.0     23511.0              6.6        Alaska  \n",
       "AZ     3439755.0  3273550.0    166205.0              4.8       Arizona  \n",
       "\n",
       "[3 rows x 49 columns]"
      ]
     },
     "execution_count": 791,
     "metadata": {},
     "output_type": "execute_result"
    }
   ],
   "source": [
    "frames = [alabama, alaska, arizona]\n",
    "pd.concat(frames)\n"
   ]
  },
  {
   "cell_type": "code",
   "execution_count": null,
   "metadata": {},
   "outputs": [],
   "source": []
  },
  {
   "cell_type": "code",
   "execution_count": null,
   "metadata": {},
   "outputs": [],
   "source": []
  },
  {
   "cell_type": "code",
   "execution_count": null,
   "metadata": {},
   "outputs": [],
   "source": []
  }
 ],
 "metadata": {
  "kernelspec": {
   "display_name": "Python 3",
   "language": "python",
   "name": "python3"
  },
  "language_info": {
   "codemirror_mode": {
    "name": "ipython",
    "version": 3
   },
   "file_extension": ".py",
   "mimetype": "text/x-python",
   "name": "python",
   "nbconvert_exporter": "python",
   "pygments_lexer": "ipython3",
   "version": "3.7.4"
  }
 },
 "nbformat": 4,
 "nbformat_minor": 2
}
