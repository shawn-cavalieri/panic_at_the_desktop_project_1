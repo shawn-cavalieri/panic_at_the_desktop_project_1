{
 "cells": [
  {
   "cell_type": "code",
   "execution_count": 1,
   "metadata": {},
   "outputs": [],
   "source": [
    "#cleaning Unemployment by State data"
   ]
  },
  {
   "cell_type": "code",
   "execution_count": 2,
   "metadata": {},
   "outputs": [],
   "source": [
    "import csv\n",
    "import pandas as pd\n",
    "import matplotlib.pyplot as plt\n",
    "import re"
   ]
  },
  {
   "cell_type": "code",
   "execution_count": 3,
   "metadata": {},
   "outputs": [
    {
     "data": {
      "text/html": [
       "<div>\n",
       "<style scoped>\n",
       "    .dataframe tbody tr th:only-of-type {\n",
       "        vertical-align: middle;\n",
       "    }\n",
       "\n",
       "    .dataframe tbody tr th {\n",
       "        vertical-align: top;\n",
       "    }\n",
       "\n",
       "    .dataframe thead th {\n",
       "        text-align: right;\n",
       "    }\n",
       "</style>\n",
       "<table border=\"1\" class=\"dataframe\">\n",
       "  <thead>\n",
       "    <tr style=\"text-align: right;\">\n",
       "      <th></th>\n",
       "      <th>CLF 2007</th>\n",
       "      <th>Emp 2007</th>\n",
       "      <th>Unemp 2007</th>\n",
       "      <th>Unemp Rate 2007</th>\n",
       "      <th>CLF 2008</th>\n",
       "      <th>Emp 2008</th>\n",
       "      <th>Unemp 2008</th>\n",
       "      <th>Unemp Rate 2008</th>\n",
       "      <th>CLF 2009</th>\n",
       "      <th>Emp 2009</th>\n",
       "      <th>...</th>\n",
       "      <th>Unemp Rate 2016</th>\n",
       "      <th>CLF 2017</th>\n",
       "      <th>Emp 2017</th>\n",
       "      <th>Unemp 2017</th>\n",
       "      <th>Unemp Rate 2017</th>\n",
       "      <th>CLF 2018</th>\n",
       "      <th>Emp 2018</th>\n",
       "      <th>Unemp 2018</th>\n",
       "      <th>Unemp Rate 2018</th>\n",
       "      <th>County/State</th>\n",
       "    </tr>\n",
       "    <tr>\n",
       "      <th>State</th>\n",
       "      <th></th>\n",
       "      <th></th>\n",
       "      <th></th>\n",
       "      <th></th>\n",
       "      <th></th>\n",
       "      <th></th>\n",
       "      <th></th>\n",
       "      <th></th>\n",
       "      <th></th>\n",
       "      <th></th>\n",
       "      <th></th>\n",
       "      <th></th>\n",
       "      <th></th>\n",
       "      <th></th>\n",
       "      <th></th>\n",
       "      <th></th>\n",
       "      <th></th>\n",
       "      <th></th>\n",
       "      <th></th>\n",
       "      <th></th>\n",
       "      <th></th>\n",
       "    </tr>\n",
       "  </thead>\n",
       "  <tbody>\n",
       "    <tr>\n",
       "      <th>US</th>\n",
       "      <td>152191093.0</td>\n",
       "      <td>145156134.0</td>\n",
       "      <td>7034959.0</td>\n",
       "      <td>4.6</td>\n",
       "      <td>153761095.0</td>\n",
       "      <td>144860350.0</td>\n",
       "      <td>8900745.0</td>\n",
       "      <td>5.8</td>\n",
       "      <td>153825455.0</td>\n",
       "      <td>139594698.0</td>\n",
       "      <td>...</td>\n",
       "      <td>4.9</td>\n",
       "      <td>160273906.0</td>\n",
       "      <td>153293830.0</td>\n",
       "      <td>6980076.0</td>\n",
       "      <td>4.4</td>\n",
       "      <td>161640488.0</td>\n",
       "      <td>155344043.0</td>\n",
       "      <td>6296445.0</td>\n",
       "      <td>3.9</td>\n",
       "      <td>United States</td>\n",
       "    </tr>\n",
       "    <tr>\n",
       "      <th>AL</th>\n",
       "      <td>2175612.0</td>\n",
       "      <td>2089127.0</td>\n",
       "      <td>86485.0</td>\n",
       "      <td>4.0</td>\n",
       "      <td>2176489.0</td>\n",
       "      <td>2053477.0</td>\n",
       "      <td>123012.0</td>\n",
       "      <td>5.7</td>\n",
       "      <td>2162999.0</td>\n",
       "      <td>1924747.0</td>\n",
       "      <td>...</td>\n",
       "      <td>5.8</td>\n",
       "      <td>2178243.0</td>\n",
       "      <td>2081676.0</td>\n",
       "      <td>96567.0</td>\n",
       "      <td>4.4</td>\n",
       "      <td>2198837.0</td>\n",
       "      <td>2112347.0</td>\n",
       "      <td>86490.0</td>\n",
       "      <td>3.9</td>\n",
       "      <td>Alabama</td>\n",
       "    </tr>\n",
       "    <tr>\n",
       "      <th>AL</th>\n",
       "      <td>24383.0</td>\n",
       "      <td>23577.0</td>\n",
       "      <td>806.0</td>\n",
       "      <td>3.3</td>\n",
       "      <td>24687.0</td>\n",
       "      <td>23420.0</td>\n",
       "      <td>1267.0</td>\n",
       "      <td>5.1</td>\n",
       "      <td>24703.0</td>\n",
       "      <td>22301.0</td>\n",
       "      <td>...</td>\n",
       "      <td>5.1</td>\n",
       "      <td>25972.0</td>\n",
       "      <td>24958.0</td>\n",
       "      <td>1014.0</td>\n",
       "      <td>3.9</td>\n",
       "      <td>25957.0</td>\n",
       "      <td>25015.0</td>\n",
       "      <td>942.0</td>\n",
       "      <td>3.6</td>\n",
       "      <td>Autauga County, AL</td>\n",
       "    </tr>\n",
       "    <tr>\n",
       "      <th>AL</th>\n",
       "      <td>82659.0</td>\n",
       "      <td>80099.0</td>\n",
       "      <td>2560.0</td>\n",
       "      <td>3.1</td>\n",
       "      <td>83223.0</td>\n",
       "      <td>79372.0</td>\n",
       "      <td>3851.0</td>\n",
       "      <td>4.6</td>\n",
       "      <td>82451.0</td>\n",
       "      <td>74403.0</td>\n",
       "      <td>...</td>\n",
       "      <td>5.3</td>\n",
       "      <td>92090.0</td>\n",
       "      <td>88342.0</td>\n",
       "      <td>3748.0</td>\n",
       "      <td>4.1</td>\n",
       "      <td>93849.0</td>\n",
       "      <td>90456.0</td>\n",
       "      <td>3393.0</td>\n",
       "      <td>3.6</td>\n",
       "      <td>Baldwin County, AL</td>\n",
       "    </tr>\n",
       "    <tr>\n",
       "      <th>AL</th>\n",
       "      <td>10334.0</td>\n",
       "      <td>9684.0</td>\n",
       "      <td>650.0</td>\n",
       "      <td>6.3</td>\n",
       "      <td>10161.0</td>\n",
       "      <td>9267.0</td>\n",
       "      <td>894.0</td>\n",
       "      <td>8.8</td>\n",
       "      <td>10003.0</td>\n",
       "      <td>8572.0</td>\n",
       "      <td>...</td>\n",
       "      <td>8.3</td>\n",
       "      <td>8317.0</td>\n",
       "      <td>7831.0</td>\n",
       "      <td>486.0</td>\n",
       "      <td>5.8</td>\n",
       "      <td>8373.0</td>\n",
       "      <td>7940.0</td>\n",
       "      <td>433.0</td>\n",
       "      <td>5.2</td>\n",
       "      <td>Barbour County, AL</td>\n",
       "    </tr>\n",
       "    <tr>\n",
       "      <th>...</th>\n",
       "      <td>...</td>\n",
       "      <td>...</td>\n",
       "      <td>...</td>\n",
       "      <td>...</td>\n",
       "      <td>...</td>\n",
       "      <td>...</td>\n",
       "      <td>...</td>\n",
       "      <td>...</td>\n",
       "      <td>...</td>\n",
       "      <td>...</td>\n",
       "      <td>...</td>\n",
       "      <td>...</td>\n",
       "      <td>...</td>\n",
       "      <td>...</td>\n",
       "      <td>...</td>\n",
       "      <td>...</td>\n",
       "      <td>...</td>\n",
       "      <td>...</td>\n",
       "      <td>...</td>\n",
       "      <td>...</td>\n",
       "      <td>...</td>\n",
       "    </tr>\n",
       "    <tr>\n",
       "      <th>WY</th>\n",
       "      <td>23712.0</td>\n",
       "      <td>23184.0</td>\n",
       "      <td>528.0</td>\n",
       "      <td>2.2</td>\n",
       "      <td>24273.0</td>\n",
       "      <td>23697.0</td>\n",
       "      <td>576.0</td>\n",
       "      <td>2.4</td>\n",
       "      <td>24323.0</td>\n",
       "      <td>22765.0</td>\n",
       "      <td>...</td>\n",
       "      <td>6.1</td>\n",
       "      <td>21555.0</td>\n",
       "      <td>20576.0</td>\n",
       "      <td>979.0</td>\n",
       "      <td>4.5</td>\n",
       "      <td>21150.0</td>\n",
       "      <td>20254.0</td>\n",
       "      <td>896.0</td>\n",
       "      <td>4.2</td>\n",
       "      <td>Sweetwater County, WY</td>\n",
       "    </tr>\n",
       "    <tr>\n",
       "      <th>WY</th>\n",
       "      <td>14375.0</td>\n",
       "      <td>14058.0</td>\n",
       "      <td>317.0</td>\n",
       "      <td>2.2</td>\n",
       "      <td>14459.0</td>\n",
       "      <td>14036.0</td>\n",
       "      <td>423.0</td>\n",
       "      <td>2.9</td>\n",
       "      <td>13882.0</td>\n",
       "      <td>12917.0</td>\n",
       "      <td>...</td>\n",
       "      <td>3.5</td>\n",
       "      <td>15418.0</td>\n",
       "      <td>14983.0</td>\n",
       "      <td>435.0</td>\n",
       "      <td>2.8</td>\n",
       "      <td>15340.0</td>\n",
       "      <td>14876.0</td>\n",
       "      <td>464.0</td>\n",
       "      <td>3.0</td>\n",
       "      <td>Teton County, WY</td>\n",
       "    </tr>\n",
       "    <tr>\n",
       "      <th>WY</th>\n",
       "      <td>11113.0</td>\n",
       "      <td>10818.0</td>\n",
       "      <td>295.0</td>\n",
       "      <td>2.7</td>\n",
       "      <td>11512.0</td>\n",
       "      <td>11179.0</td>\n",
       "      <td>333.0</td>\n",
       "      <td>2.9</td>\n",
       "      <td>11570.0</td>\n",
       "      <td>10789.0</td>\n",
       "      <td>...</td>\n",
       "      <td>5.8</td>\n",
       "      <td>9103.0</td>\n",
       "      <td>8689.0</td>\n",
       "      <td>414.0</td>\n",
       "      <td>4.5</td>\n",
       "      <td>8931.0</td>\n",
       "      <td>8541.0</td>\n",
       "      <td>390.0</td>\n",
       "      <td>4.4</td>\n",
       "      <td>Uinta County, WY</td>\n",
       "    </tr>\n",
       "    <tr>\n",
       "      <th>WY</th>\n",
       "      <td>4194.0</td>\n",
       "      <td>4048.0</td>\n",
       "      <td>146.0</td>\n",
       "      <td>3.5</td>\n",
       "      <td>4291.0</td>\n",
       "      <td>4139.0</td>\n",
       "      <td>152.0</td>\n",
       "      <td>3.5</td>\n",
       "      <td>4404.0</td>\n",
       "      <td>4137.0</td>\n",
       "      <td>...</td>\n",
       "      <td>4.8</td>\n",
       "      <td>4112.0</td>\n",
       "      <td>3947.0</td>\n",
       "      <td>165.0</td>\n",
       "      <td>4.0</td>\n",
       "      <td>4058.0</td>\n",
       "      <td>3886.0</td>\n",
       "      <td>172.0</td>\n",
       "      <td>4.2</td>\n",
       "      <td>Washakie County, WY</td>\n",
       "    </tr>\n",
       "    <tr>\n",
       "      <th>WY</th>\n",
       "      <td>3159.0</td>\n",
       "      <td>3059.0</td>\n",
       "      <td>100.0</td>\n",
       "      <td>3.2</td>\n",
       "      <td>3225.0</td>\n",
       "      <td>3122.0</td>\n",
       "      <td>103.0</td>\n",
       "      <td>3.2</td>\n",
       "      <td>3313.0</td>\n",
       "      <td>3107.0</td>\n",
       "      <td>...</td>\n",
       "      <td>5.0</td>\n",
       "      <td>3754.0</td>\n",
       "      <td>3605.0</td>\n",
       "      <td>149.0</td>\n",
       "      <td>4.0</td>\n",
       "      <td>3731.0</td>\n",
       "      <td>3600.0</td>\n",
       "      <td>131.0</td>\n",
       "      <td>3.5</td>\n",
       "      <td>Weston County, WY</td>\n",
       "    </tr>\n",
       "  </tbody>\n",
       "</table>\n",
       "<p>3196 rows × 49 columns</p>\n",
       "</div>"
      ],
      "text/plain": [
       "          CLF 2007     Emp 2007  Unemp 2007  Unemp Rate 2007     CLF 2008  \\\n",
       "State                                                                       \n",
       "US     152191093.0  145156134.0   7034959.0              4.6  153761095.0   \n",
       "AL       2175612.0    2089127.0     86485.0              4.0    2176489.0   \n",
       "AL         24383.0      23577.0       806.0              3.3      24687.0   \n",
       "AL         82659.0      80099.0      2560.0              3.1      83223.0   \n",
       "AL         10334.0       9684.0       650.0              6.3      10161.0   \n",
       "...            ...          ...         ...              ...          ...   \n",
       "WY         23712.0      23184.0       528.0              2.2      24273.0   \n",
       "WY         14375.0      14058.0       317.0              2.2      14459.0   \n",
       "WY         11113.0      10818.0       295.0              2.7      11512.0   \n",
       "WY          4194.0       4048.0       146.0              3.5       4291.0   \n",
       "WY          3159.0       3059.0       100.0              3.2       3225.0   \n",
       "\n",
       "          Emp 2008  Unemp 2008  Unemp Rate 2008     CLF 2009     Emp 2009  \\\n",
       "State                                                                       \n",
       "US     144860350.0   8900745.0              5.8  153825455.0  139594698.0   \n",
       "AL       2053477.0    123012.0              5.7    2162999.0    1924747.0   \n",
       "AL         23420.0      1267.0              5.1      24703.0      22301.0   \n",
       "AL         79372.0      3851.0              4.6      82451.0      74403.0   \n",
       "AL          9267.0       894.0              8.8      10003.0       8572.0   \n",
       "...            ...         ...              ...          ...          ...   \n",
       "WY         23697.0       576.0              2.4      24323.0      22765.0   \n",
       "WY         14036.0       423.0              2.9      13882.0      12917.0   \n",
       "WY         11179.0       333.0              2.9      11570.0      10789.0   \n",
       "WY          4139.0       152.0              3.5       4404.0       4137.0   \n",
       "WY          3122.0       103.0              3.2       3313.0       3107.0   \n",
       "\n",
       "       ...  Unemp Rate 2016     CLF 2017     Emp 2017  Unemp 2017  \\\n",
       "State  ...                                                          \n",
       "US     ...              4.9  160273906.0  153293830.0   6980076.0   \n",
       "AL     ...              5.8    2178243.0    2081676.0     96567.0   \n",
       "AL     ...              5.1      25972.0      24958.0      1014.0   \n",
       "AL     ...              5.3      92090.0      88342.0      3748.0   \n",
       "AL     ...              8.3       8317.0       7831.0       486.0   \n",
       "...    ...              ...          ...          ...         ...   \n",
       "WY     ...              6.1      21555.0      20576.0       979.0   \n",
       "WY     ...              3.5      15418.0      14983.0       435.0   \n",
       "WY     ...              5.8       9103.0       8689.0       414.0   \n",
       "WY     ...              4.8       4112.0       3947.0       165.0   \n",
       "WY     ...              5.0       3754.0       3605.0       149.0   \n",
       "\n",
       "       Unemp Rate 2017     CLF 2018     Emp 2018  Unemp 2018  Unemp Rate 2018  \\\n",
       "State                                                                           \n",
       "US                 4.4  161640488.0  155344043.0   6296445.0              3.9   \n",
       "AL                 4.4    2198837.0    2112347.0     86490.0              3.9   \n",
       "AL                 3.9      25957.0      25015.0       942.0              3.6   \n",
       "AL                 4.1      93849.0      90456.0      3393.0              3.6   \n",
       "AL                 5.8       8373.0       7940.0       433.0              5.2   \n",
       "...                ...          ...          ...         ...              ...   \n",
       "WY                 4.5      21150.0      20254.0       896.0              4.2   \n",
       "WY                 2.8      15340.0      14876.0       464.0              3.0   \n",
       "WY                 4.5       8931.0       8541.0       390.0              4.4   \n",
       "WY                 4.0       4058.0       3886.0       172.0              4.2   \n",
       "WY                 4.0       3731.0       3600.0       131.0              3.5   \n",
       "\n",
       "                County/State  \n",
       "State                         \n",
       "US             United States  \n",
       "AL                   Alabama  \n",
       "AL        Autauga County, AL  \n",
       "AL        Baldwin County, AL  \n",
       "AL        Barbour County, AL  \n",
       "...                      ...  \n",
       "WY     Sweetwater County, WY  \n",
       "WY          Teton County, WY  \n",
       "WY          Uinta County, WY  \n",
       "WY       Washakie County, WY  \n",
       "WY         Weston County, WY  \n",
       "\n",
       "[3196 rows x 49 columns]"
      ]
     },
     "execution_count": 3,
     "metadata": {},
     "output_type": "execute_result"
    }
   ],
   "source": [
    "employment_data = pd.read_csv(\"./Data/Unemployment and Household Income 2007-08.csv\")\n",
    "employment_data = employment_data.iloc[7:,]\n",
    "employment_data = employment_data.rename(columns={\"Unemployment and median household income for the U.S., States, and counties, 2007-18\":\"Unemployment Rate\",\"Unnamed: 1\": \"State\", \"Unnamed: 2\": \"County/State\",\"Unnamed: 3\":\"Rural 2013\",\"Unnamed: 4\":\"Urban 2013\",\"Unnamed: 5\":\"Metro 2013\",\"Unnamed: 6\":\"CLF 2007\",\"Unnamed: 7\":\"Emp 2007\",\"Unnamed: 8\":\"Unemp 2007\",\"Unnamed: 9\":\"Unemp Rate 2007\",\"Unnamed: 10\":\"CLF 2008\",\"Unnamed: 11\":\"Emp 2008\",\"Unnamed: 12\":\"Unemp 2008\",\"Unnamed: 13\":\"Unemp Rate 2008\",\"Unnamed: 14\":\"CLF 2009\",\"Unnamed: 15\":\"Emp 2009\",\"Unnamed: 16\":\"Unemp 2009\",\"Unnamed: 17\":\"Unemp Rate 2009\",\"Unnamed: 18\":\"CLF 2010\",\"Unnamed: 19\":\"Emp 2010\",\"Unnamed: 20\":\"Unemp 2010\",\"Unnamed: 21\":\"Unemp Rate 2010\",\"Unnamed: 22\":\"CLF 2011\",\"Unnamed: 23\":\"Emp 2011\",\"Unnamed: 24\":\"Unemp 2011\",\"Unnamed: 25\":\"Unemp Rate 2011\",\"Unnamed: 26\":\"CLF 2012\",\"Unnamed: 27\":\"Emp 2012\",\"Unnamed: 28\":\"Unemp 2012\",\"Unnamed: 29\":\"Unemp Rate 2012\",\"Unnamed: 30\":\"CLF 2013\",\"Unnamed: 31\":\"Emp 2013\",\"Unnamed: 32\":\"Unemp 2013\",\"Unnamed: 33\":\"Unemp Rate 2013\",\"Unnamed: 34\":\"CLF 2014\",\"Unnamed: 35\":\"Emp 2014\",\"Unnamed: 36\":\"Unemp 2014\",\"Unnamed: 37\":\"Unemp Rate 2014\",\"Unnamed: 38\":\"CLF 2015\",\"Unnamed: 39\":\"Emp 2015\",\"Unnamed: 40\":\"Unemp 2015\",\"Unnamed: 41\":\"Unemp Rate 2015\",\"Unnamed: 42\":\"CLF 2016\",\"Unnamed: 43\":\"Emp 2016\",\"Unnamed: 44\":\"Unemp 2016\",\"Unnamed: 45\":\"Unemp Rate 2016\",\"Unnamed: 46\":\"CLF 2017\",\"Unnamed: 47\":\"Emp 2017\",\"Unnamed: 48\":\"Unemp 2017\",\"Unnamed: 49\":\"Unemp Rate 2017\",\"Unnamed: 50\":\"CLF 2018\",\"Unnamed: 51\":\"Emp 2018\",\"Unnamed: 52\":\"Unemp 2018\",\"Unnamed: 53\":\"Unemp Rate 2018\", \"Unnamed: 54\": \"Median Household Income 2017\", \"Unnamed: 55\": \"Median HH Income (%) 2017\"})\n",
    "employment_data = employment_data.drop([\"Unemployment Rate\",\"Rural 2013\", \"Urban 2013\", \"Metro 2013\"], axis=1)\n",
    "employment_data_only = employment_data.drop([\"Median Household Income 2017\", \"Median HH Income (%) 2017\"], axis=1)\n",
    "employment_data = employment_data.set_index(\"State\")\n",
    "employment_data = employment_data.drop('PR')\n",
    "\n",
    "employment_data_only = employment_data_only.set_index(\"State\")\n",
    "employment_data_only = employment_data_only.drop('PR')\n",
    "employment_data_only = employment_data_only.fillna('-')\n",
    "employment_data = employment_data.fillna('-')\n",
    "\n",
    "\n",
    "def parseFloat(data):\n",
    "    parsedData = re.sub( '[^\\d\\.]', '', data)\n",
    "    return (re.sub( '[^\\d\\.]', '', data)) if parsedData else 0\n",
    "employment_d = employment_data_only.iloc[:,1:].applymap(parseFloat)\n",
    "e = employment_d.astype('float')\n",
    "e['County/State'] = employment_data_only['County/State']\n",
    "e"
   ]
  },
  {
   "cell_type": "code",
   "execution_count": 4,
   "metadata": {},
   "outputs": [
    {
     "data": {
      "text/html": [
       "<div>\n",
       "<style scoped>\n",
       "    .dataframe tbody tr th:only-of-type {\n",
       "        vertical-align: middle;\n",
       "    }\n",
       "\n",
       "    .dataframe tbody tr th {\n",
       "        vertical-align: top;\n",
       "    }\n",
       "\n",
       "    .dataframe thead th {\n",
       "        text-align: right;\n",
       "    }\n",
       "</style>\n",
       "<table border=\"1\" class=\"dataframe\">\n",
       "  <thead>\n",
       "    <tr style=\"text-align: right;\">\n",
       "      <th></th>\n",
       "      <th>Year</th>\n",
       "      <th>Median</th>\n",
       "    </tr>\n",
       "  </thead>\n",
       "  <tbody>\n",
       "    <tr>\n",
       "      <th>0</th>\n",
       "      <td>2007</td>\n",
       "      <td>$247,900</td>\n",
       "    </tr>\n",
       "    <tr>\n",
       "      <th>1</th>\n",
       "      <td>2008</td>\n",
       "      <td>$232,100</td>\n",
       "    </tr>\n",
       "    <tr>\n",
       "      <th>2</th>\n",
       "      <td>2009</td>\n",
       "      <td>$216,700</td>\n",
       "    </tr>\n",
       "    <tr>\n",
       "      <th>3</th>\n",
       "      <td>2010</td>\n",
       "      <td>$221,800</td>\n",
       "    </tr>\n",
       "    <tr>\n",
       "      <th>4</th>\n",
       "      <td>2011</td>\n",
       "      <td>$227,200</td>\n",
       "    </tr>\n",
       "    <tr>\n",
       "      <th>5</th>\n",
       "      <td>2012</td>\n",
       "      <td>$245,200</td>\n",
       "    </tr>\n",
       "    <tr>\n",
       "      <th>6</th>\n",
       "      <td>2013</td>\n",
       "      <td>$268,900</td>\n",
       "    </tr>\n",
       "    <tr>\n",
       "      <th>7</th>\n",
       "      <td>2014</td>\n",
       "      <td>$288,500</td>\n",
       "    </tr>\n",
       "  </tbody>\n",
       "</table>\n",
       "</div>"
      ],
      "text/plain": [
       "   Year    Median\n",
       "0  2007  $247,900\n",
       "1  2008  $232,100\n",
       "2  2009  $216,700\n",
       "3  2010  $221,800\n",
       "4  2011  $227,200\n",
       "5  2012  $245,200\n",
       "6  2013  $268,900\n",
       "7  2014  $288,500"
      ]
     },
     "execution_count": 4,
     "metadata": {},
     "output_type": "execute_result"
    }
   ],
   "source": [
    "housingmeddf = pd.read_csv(\"HousingNationalData.csv\")\n",
    "housingmeddf.head(8)"
   ]
  },
  {
   "cell_type": "code",
   "execution_count": 7,
   "metadata": {},
   "outputs": [
    {
     "data": {
      "text/html": [
       "<div>\n",
       "<style scoped>\n",
       "    .dataframe tbody tr th:only-of-type {\n",
       "        vertical-align: middle;\n",
       "    }\n",
       "\n",
       "    .dataframe tbody tr th {\n",
       "        vertical-align: top;\n",
       "    }\n",
       "\n",
       "    .dataframe thead th {\n",
       "        text-align: right;\n",
       "    }\n",
       "</style>\n",
       "<table border=\"1\" class=\"dataframe\">\n",
       "  <thead>\n",
       "    <tr style=\"text-align: right;\">\n",
       "      <th></th>\n",
       "      <th>Median</th>\n",
       "    </tr>\n",
       "  </thead>\n",
       "  <tbody>\n",
       "    <tr>\n",
       "      <th>0</th>\n",
       "      <td>$247,900</td>\n",
       "    </tr>\n",
       "    <tr>\n",
       "      <th>1</th>\n",
       "      <td>$232,100</td>\n",
       "    </tr>\n",
       "    <tr>\n",
       "      <th>2</th>\n",
       "      <td>$216,700</td>\n",
       "    </tr>\n",
       "    <tr>\n",
       "      <th>3</th>\n",
       "      <td>$221,800</td>\n",
       "    </tr>\n",
       "    <tr>\n",
       "      <th>4</th>\n",
       "      <td>$227,200</td>\n",
       "    </tr>\n",
       "    <tr>\n",
       "      <th>5</th>\n",
       "      <td>$245,200</td>\n",
       "    </tr>\n",
       "    <tr>\n",
       "      <th>6</th>\n",
       "      <td>$268,900</td>\n",
       "    </tr>\n",
       "    <tr>\n",
       "      <th>7</th>\n",
       "      <td>$288,500</td>\n",
       "    </tr>\n",
       "    <tr>\n",
       "      <th>8</th>\n",
       "      <td>$294,200</td>\n",
       "    </tr>\n",
       "    <tr>\n",
       "      <th>9</th>\n",
       "      <td>$307,800</td>\n",
       "    </tr>\n",
       "    <tr>\n",
       "      <th>10</th>\n",
       "      <td>$323,100</td>\n",
       "    </tr>\n",
       "    <tr>\n",
       "      <th>11</th>\n",
       "      <td>$326,400</td>\n",
       "    </tr>\n",
       "  </tbody>\n",
       "</table>\n",
       "</div>"
      ],
      "text/plain": [
       "      Median\n",
       "0   $247,900\n",
       "1   $232,100\n",
       "2   $216,700\n",
       "3   $221,800\n",
       "4   $227,200\n",
       "5   $245,200\n",
       "6   $268,900\n",
       "7   $288,500\n",
       "8   $294,200\n",
       "9   $307,800\n",
       "10  $323,100\n",
       "11  $326,400"
      ]
     },
     "execution_count": 7,
     "metadata": {},
     "output_type": "execute_result"
    }
   ],
   "source": [
    "housingmeddf.iloc[:,1:]\n",
    "\n"
   ]
  },
  {
   "cell_type": "code",
   "execution_count": 9,
   "metadata": {},
   "outputs": [],
   "source": [
    "\n",
    "def parseFloat(data):\n",
    "    parsedData = re.sub( '[^\\d\\.]', '', data)\n",
    "    return (re.sub( '[^\\d\\.]', '', data)) if parsedData else 0\n",
    "housingmeddf = housingmeddf.iloc[:,1:].applymap(parseFloat)\n",
    "housingmeddf= housingmeddf.astype('float')\n",
    "housingmeddf.to_csv(r\"us_housing_data\")"
   ]
  },
  {
   "cell_type": "code",
   "execution_count": null,
   "metadata": {},
   "outputs": [],
   "source": []
  },
  {
   "cell_type": "code",
   "execution_count": null,
   "metadata": {},
   "outputs": [],
   "source": [
    "def us_CLF(source):\n",
    "    return source[[\"CLF 2007\", \"CLF 2008\", \"CLF 2009\", \"CLF 2010\", \"CLF 2011\", \"CLF 2012\", \"CLF 2013\", \"CLF 2014\", \"CLF 2015\", \"CLF 2016\", \"CLF 2017\"]]\n",
    "us_data = e.iloc[:1]\n",
    "#usCLF data = CLF Data only in the United States\n",
    "us_CLF = us_CLF(us_data)\n",
    "us_CLF"
   ]
  },
  {
   "cell_type": "code",
   "execution_count": null,
   "metadata": {},
   "outputs": [],
   "source": [
    "def us_employment(source):\n",
    "    return source[[\"Emp 2007\", \"Emp 2008\", 'Emp 2009',\"Emp 2010\", \"Emp 2011\", 'Emp 2012',\"Emp 2013\", \"Emp 2014\", 'Emp 2015',\"Emp 2016\", \"Emp 2017\", 'Emp 2018']]\n",
    "us_data = e.iloc[:1]\n",
    "#us_data = employment_data_only.loc[\"US\"]\n",
    "us_employment = us_employment(us_data)\n",
    "us_employment"
   ]
  },
  {
   "cell_type": "code",
   "execution_count": null,
   "metadata": {},
   "outputs": [],
   "source": []
  },
  {
   "cell_type": "code",
   "execution_count": null,
   "metadata": {},
   "outputs": [],
   "source": [
    "def us_unemployment(source):\n",
    "    return source[[\"Unemp Rate 2007\", \"Unemp Rate 2008\", 'Unemp Rate 2009',\"Unemp Rate 2010\", \"Unemp Rate 2011\", 'Unemp Rate 2012',\"Unemp Rate 2013\", \"Unemp Rate 2014\", 'Unemp Rate 2015',\"Unemp Rate 2016\", \"Unemp Rate 2017\", 'Unemp Rate 2018']]\n",
    "us_unemployment = us_unemployment(us_data)\n",
    "us_unemployment.plot.bar()"
   ]
  },
  {
   "cell_type": "code",
   "execution_count": null,
   "metadata": {},
   "outputs": [],
   "source": [
    "def parse_employment_data(source, state_abbr):\n",
    "    data = source.loc[state_abbr]\n",
    "    return { 'counties': data.iloc[1:], 'state': data.iloc[:1] }"
   ]
  },
  {
   "cell_type": "code",
   "execution_count": null,
   "metadata": {},
   "outputs": [],
   "source": [
    "def employment(source):\n",
    "    counties = source['counties'].set_index(\"County/State\")\n",
    "    return counties[[\"Emp 2007\", \"Emp 2008\", 'Emp 2009',\"Emp 2010\", \"Emp 2011\", 'Emp 2012',\"Emp 2013\", \"Emp 2014\", 'Emp 2015',\"Emp 2016\", \"Emp 2017\", 'Emp 2018']]"
   ]
  },
  {
   "cell_type": "code",
   "execution_count": null,
   "metadata": {},
   "outputs": [],
   "source": [
    "def unemployment(source):\n",
    "    counties = source['counties'].set_index(\"County/State\")\n",
    "    return counties[[\"Unemp Rate 2007\", \"Unemp Rate 2008\", 'Unemp Rate 2009',\"Unemp Rate 2010\", \"Unemp Rate 2011\", 'Unemp Rate 2012',\"Unemp Rate 2013\", \"Unemp Rate 2014\", 'Unemp Rate 2015',\"Unemp Rate 2016\", \"Unemp Rate 2017\", 'Unemp Rate 2018']]\n"
   ]
  },
  {
   "cell_type": "code",
   "execution_count": null,
   "metadata": {},
   "outputs": [],
   "source": [
    "def state_emp(source):\n",
    "    state = source['state']\n",
    "    return state[[\"Emp 2007\", \"Emp 2008\", 'Emp 2009',\"Emp 2010\", \"Emp 2011\", 'Emp 2012',\"Emp 2013\", \"Emp 2014\", 'Emp 2015',\"Emp 2016\", \"Emp 2017\", 'Emp 2018']]\n"
   ]
  },
  {
   "cell_type": "code",
   "execution_count": null,
   "metadata": {},
   "outputs": [],
   "source": [
    "def state_unemp(source):\n",
    "    state = source['state']\n",
    "    return state[[\"Unemp Rate 2007\", \"Unemp Rate 2008\", 'Unemp Rate 2009',\"Unemp Rate 2010\", \"Unemp Rate 2011\", 'Unemp Rate 2012',\"Unemp Rate 2013\", \"Unemp Rate 2014\", 'Unemp Rate 2015',\"Unemp Rate 2016\", \"Unemp Rate 2017\", 'Unemp Rate 2018']]\n"
   ]
  },
  {
   "cell_type": "code",
   "execution_count": null,
   "metadata": {},
   "outputs": [],
   "source": [
    "alabama_data = parse_employment_data(e, \"AL\")\n",
    "#alabama_data['state']=all alabama state info\n",
    "#alabama_data['counties']=all alabama counties info\n",
    "\n",
    "alabama_employment = employment(alabama_data)\n",
    "\n",
    "alabama_unemployment = unemployment(alabama_data)\n",
    "\n",
    "alabama_st_emp = state_emp(alabama_data)\n",
    "\n",
    "alabama_st_unemp = state_unemp(alabama_data)\n",
    "\n",
    "alabama_counties = alabama_data['counties'].set_index(\"County/State\")\n"
   ]
  },
  {
   "cell_type": "code",
   "execution_count": null,
   "metadata": {},
   "outputs": [],
   "source": [
    "alaska_data = parse_employment_data(e, \"AK\")\n",
    "\n",
    "alaska_employment = employment(alaska_data)\n",
    "\n",
    "alaska_unemployment = unemployment(alaska_data)\n",
    "\n",
    "alaska_st_emp = state_emp(alaska_data)\n",
    "\n",
    "alaska_st_unemp = state_unemp(alaska_data)\n",
    "\n",
    "alaska_counties = alaska_data['counties'].set_index(\"County/State\")"
   ]
  },
  {
   "cell_type": "code",
   "execution_count": null,
   "metadata": {},
   "outputs": [],
   "source": [
    "arizona_data = parse_employment_data(e, \"AZ\")\n",
    "\n",
    "arizona_employment = employment(arizona_data)\n",
    "\n",
    "arizona_unemployment = unemployment(arizona_data)\n",
    "\n",
    "arizona_st_emp = state_emp(arizona_data)\n",
    "\n",
    "arizona_st_unemp = state_unemp(arizona_data)\n",
    "\n",
    "arizona_counties = arizona_data['counties'].set_index(\"County/State\")\n"
   ]
  },
  {
   "cell_type": "code",
   "execution_count": null,
   "metadata": {},
   "outputs": [],
   "source": [
    "arkansas_data = parse_employment_data(e, \"AR\")\n",
    "\n",
    "arkansas_employment = employment(arkansas_data)\n",
    "\n",
    "arkansas_unemployment = unemployment(arkansas_data)\n",
    "\n",
    "arkansas_st_emp = state_emp(arkansas_data)\n",
    "\n",
    "arkansas_st_unemp = state_unemp(arkansas_data)\n",
    "\n",
    "arkansas_counties = arkansas_data['counties'].set_index(\"County/State\")"
   ]
  },
  {
   "cell_type": "code",
   "execution_count": null,
   "metadata": {},
   "outputs": [],
   "source": [
    "california_data = parse_employment_data(e, \"CA\")\n",
    "\n",
    "california_employment = employment(california_data)\n",
    "\n",
    "california_unemployment = unemployment(california_data)\n",
    "\n",
    "california_st_emp = state_emp(california_data)\n",
    "\n",
    "california_st_unemp = state_unemp(california_data)\n",
    "\n",
    "california_counties = california_data['counties'].set_index(\"County/State\")\n"
   ]
  },
  {
   "cell_type": "code",
   "execution_count": null,
   "metadata": {},
   "outputs": [],
   "source": [
    "california_st_emp.head()"
   ]
  },
  {
   "cell_type": "code",
   "execution_count": null,
   "metadata": {},
   "outputs": [],
   "source": [
    "colorado_data = parse_employment_data(e, \"CO\")\n",
    "\n",
    "colorado_employment = employment(colorado_data)\n",
    "\n",
    "colorado_unemployment = unemployment(colorado_data)\n",
    "\n",
    "colorado_st_emp = state_emp(colorado_data)\n",
    "\n",
    "colorado_st_unemp = state_unemp(colorado_data)\n",
    "\n",
    "colorado_counties = colorado_data['counties'].set_index(\"County/State\")"
   ]
  },
  {
   "cell_type": "code",
   "execution_count": null,
   "metadata": {},
   "outputs": [],
   "source": [
    "connecticut_data = parse_employment_data(e, \"CT\")\n",
    "\n",
    "connecticut_employment = employment(connecticut_data)\n",
    "\n",
    "connecticut_unemployment = unemployment(connecticut_data)\n",
    "\n",
    "connecticut_st_emp = state_emp(connecticut_data)\n",
    "\n",
    "connecticut_st_unemp = state_unemp(connecticut_data)\n",
    "\n",
    "connecticut_counties = connecticut_data['counties'].set_index(\"County/State\")\n"
   ]
  },
  {
   "cell_type": "code",
   "execution_count": null,
   "metadata": {},
   "outputs": [],
   "source": [
    "delaware_data = parse_employment_data(e, \"DE\")\n",
    "\n",
    "delaware_employment = employment(delaware_data)\n",
    "\n",
    "delaware_unemployment = unemployment(delaware_data)\n",
    "\n",
    "delaware_st_emp = state_emp(delaware_data)\n",
    "\n",
    "delaware_st_unemp = state_unemp(delaware_data)\n",
    "\n",
    "delaware_counties = delaware_data['counties'].set_index(\"County/State\")"
   ]
  },
  {
   "cell_type": "code",
   "execution_count": null,
   "metadata": {},
   "outputs": [],
   "source": [
    "florida_data = parse_employment_data(e, \"FL\")\n",
    "\n",
    "florida_employment = employment(florida_data)\n",
    "\n",
    "florida_unemployment = unemployment(florida_data)\n",
    "\n",
    "florida_st_emp = state_emp(florida_data)\n",
    "\n",
    "florida_st_unemp = state_unemp(florida_data)\n",
    "\n",
    "florida_counties = florida_data['counties'].set_index(\"County/State\")"
   ]
  },
  {
   "cell_type": "code",
   "execution_count": null,
   "metadata": {},
   "outputs": [],
   "source": [
    "georgia_data = parse_employment_data(e, \"GA\")\n",
    "\n",
    "georgia_employment = employment(georgia_data)\n",
    "\n",
    "georgia_unemployment = unemployment(georgia_data)\n",
    "\n",
    "georgia_st_emp = state_emp(georgia_data)\n",
    "\n",
    "georgia_st_unemp = state_unemp(georgia_data)\n",
    "\n",
    "georgia_counties = georgia_data['counties'].set_index(\"County/State\")"
   ]
  },
  {
   "cell_type": "code",
   "execution_count": null,
   "metadata": {},
   "outputs": [],
   "source": [
    "hawaii_data = parse_employment_data(e, \"HI\")\n",
    "\n",
    "hawaii_employment = employment(hawaii_data)\n",
    "\n",
    "hawaii_unemployment = unemployment(hawaii_data)\n",
    "\n",
    "hawaii_st_emp = state_emp(hawaii_data)\n",
    "\n",
    "hawaii_st_unemp = state_unemp(hawaii_data)\n",
    "\n",
    "hawaii_counties = hawaii_data['counties'].set_index(\"County/State\")"
   ]
  },
  {
   "cell_type": "code",
   "execution_count": null,
   "metadata": {},
   "outputs": [],
   "source": [
    "idaho_data = parse_employment_data(e, \"ID\")\n",
    "\n",
    "idaho_employment = employment(idaho_data)\n",
    "\n",
    "idaho_unemployment = unemployment(idaho_data)\n",
    "\n",
    "idaho_st_emp = state_emp(idaho_data)\n",
    "\n",
    "idaho_st_unemp = state_unemp(idaho_data)\n",
    "\n",
    "idaho_counties = idaho_data['counties'].set_index(\"County/State\")"
   ]
  },
  {
   "cell_type": "code",
   "execution_count": null,
   "metadata": {},
   "outputs": [],
   "source": [
    "illinois_data = parse_employment_data(e, \"IL\")\n",
    "\n",
    "illinois_employment = employment(illinois_data)\n",
    "\n",
    "illinois_unemployment = unemployment(illinois_data)\n",
    "\n",
    "illinois_st_emp = state_emp(illinois_data)\n",
    "\n",
    "illinois_st_unemp = state_unemp(illinois_data)\n",
    "\n",
    "illinois_counties = illinois_data['counties'].set_index(\"County/State\")"
   ]
  },
  {
   "cell_type": "code",
   "execution_count": null,
   "metadata": {},
   "outputs": [],
   "source": [
    "indiana_data = parse_employment_data(e, \"IN\")\n",
    "\n",
    "indiana_employment = employment(indiana_data)\n",
    "\n",
    "indiana_unemployment = unemployment(indiana_data)\n",
    "\n",
    "indiana_st_emp = state_emp(indiana_data)\n",
    "\n",
    "indiana_st_unemp = state_unemp(indiana_data)\n",
    "\n",
    "indiana_counties = indiana_data['counties'].set_index(\"County/State\")"
   ]
  },
  {
   "cell_type": "code",
   "execution_count": null,
   "metadata": {},
   "outputs": [],
   "source": [
    "iowa_data = parse_employment_data(e, \"IA\")\n",
    "\n",
    "iowa_employment = employment(iowa_data)\n",
    "\n",
    "iowa_unemployment = unemployment(iowa_data)\n",
    "\n",
    "iowa_st_emp = state_emp(iowa_data)\n",
    "\n",
    "iowa_st_unemp = state_unemp(iowa_data)\n",
    "\n",
    "iowa_counties = iowa_data['counties'].set_index(\"County/State\")"
   ]
  },
  {
   "cell_type": "code",
   "execution_count": null,
   "metadata": {},
   "outputs": [],
   "source": [
    "kansas_data = parse_employment_data(e, \"KS\")\n",
    "\n",
    "kansas_employment = employment(kansas_data)\n",
    "\n",
    "kansas_unemployment = unemployment(kansas_data)\n",
    "\n",
    "kansas_st_emp = state_emp(kansas_data)\n",
    "\n",
    "kansas_st_unemp = state_unemp(kansas_data)\n",
    "\n",
    "kansas_counties = kansas_data['counties'].set_index(\"County/State\")"
   ]
  },
  {
   "cell_type": "code",
   "execution_count": null,
   "metadata": {},
   "outputs": [],
   "source": [
    "kentucky_data = parse_employment_data(e, \"KY\")\n",
    "\n",
    "kentucky_employment = employment(kentucky_data)\n",
    "\n",
    "kentucky_unemployment = unemployment(kentucky_data)\n",
    "\n",
    "kentucky_st_emp = state_emp(kentucky_data)\n",
    "\n",
    "kentucky_st_unemp = state_unemp(kentucky_data)\n",
    "\n",
    "kentucky_counties = kentucky_data['counties'].set_index(\"County/State\")"
   ]
  },
  {
   "cell_type": "code",
   "execution_count": null,
   "metadata": {},
   "outputs": [],
   "source": [
    "louisiana_data = parse_employment_data(e, \"LA\")\n",
    "\n",
    "louisiana_employment = employment(louisiana_data)\n",
    "\n",
    "louisiana_unemployment = unemployment(louisiana_data)\n",
    "\n",
    "louisiana_st_emp = state_emp(louisiana_data)\n",
    "\n",
    "louisiana_st_unemp = state_unemp(louisiana_data)\n",
    "\n",
    "kentucky_counties = kentucky_data['counties'].set_index(\"County/State\")"
   ]
  },
  {
   "cell_type": "code",
   "execution_count": null,
   "metadata": {},
   "outputs": [],
   "source": [
    "maine_data = parse_employment_data(e, \"ME\")\n",
    "\n",
    "maine_employment = employment(maine_data)\n",
    "\n",
    "maine_unemployment = unemployment(maine_data)\n",
    "\n",
    "maine_st_emp = state_emp(maine_data)\n",
    "\n",
    "maine_st_unemp = state_unemp(maine_data)\n",
    "\n",
    "maine_counties = maine_data['counties'].set_index(\"County/State\")"
   ]
  },
  {
   "cell_type": "code",
   "execution_count": null,
   "metadata": {},
   "outputs": [],
   "source": [
    "maryland_data = parse_employment_data(e, \"MD\")\n",
    "\n",
    "maryland_employment = employment(maryland_data)\n",
    "\n",
    "maryland_unemployment = unemployment(maryland_data)\n",
    "\n",
    "maryland_st_emp = state_emp(maryland_data)\n",
    "\n",
    "maryland_st_unemp = state_unemp(maryland_data)\n",
    "\n",
    "maryland_counties = maryland_data['counties'].set_index(\"County/State\")"
   ]
  },
  {
   "cell_type": "code",
   "execution_count": null,
   "metadata": {},
   "outputs": [],
   "source": [
    "massachusetts_data = parse_employment_data(e, \"MA\")\n",
    "\n",
    "massachusetts_employment = employment(massachusetts_data)\n",
    "\n",
    "massachusetts_unemployment = unemployment(massachusetts_data)\n",
    "\n",
    "massachusetts_st_emp = state_emp(massachusetts_data)\n",
    "\n",
    "massachusetts_st_unemp = state_unemp(massachusetts_data)\n",
    "\n",
    "massachusetts_counties = massachusetts_data['counties'].set_index(\"County/State\")"
   ]
  },
  {
   "cell_type": "code",
   "execution_count": null,
   "metadata": {},
   "outputs": [],
   "source": [
    "michigan_data = parse_employment_data(e, \"MI\")\n",
    "\n",
    "michigan_employment = employment(michigan_data)\n",
    "\n",
    "michigan_unemployment = unemployment(michigan_data)\n",
    "\n",
    "michigan_st_emp = state_emp(michigan_data)\n",
    "\n",
    "michigan_st_unemp = state_unemp(michigan_data)\n",
    "\n",
    "michigan_counties = michigan_data['counties'].set_index(\"County/State\")"
   ]
  },
  {
   "cell_type": "code",
   "execution_count": null,
   "metadata": {},
   "outputs": [],
   "source": [
    "minnesota_data = parse_employment_data(e, \"MN\")\n",
    "\n",
    "minnesota_employment = employment(minnesota_data)\n",
    "\n",
    "minnesota_unemployment = unemployment(minnesota_data)\n",
    "\n",
    "minnesota_st_emp = state_emp(minnesota_data)\n",
    "\n",
    "minnesota_st_unemp = state_unemp(minnesota_data)\n",
    "\n",
    "minnesota_counties = minnesota_data['counties'].set_index(\"County/State\")"
   ]
  },
  {
   "cell_type": "code",
   "execution_count": null,
   "metadata": {},
   "outputs": [],
   "source": [
    "mississippi_data = parse_employment_data(e, \"MS\")\n",
    "\n",
    "mississippi_employment = employment(mississippi_data)\n",
    "\n",
    "mississippi_unemployment = unemployment(mississippi_data)\n",
    "\n",
    "mississippi_st_emp = state_emp(mississippi_data)\n",
    "\n",
    "mississippi_st_unemp = state_unemp(mississippi_data)\n",
    "\n",
    "mississippi_counties = mississippi_data['counties'].set_index(\"County/State\")\n"
   ]
  },
  {
   "cell_type": "code",
   "execution_count": null,
   "metadata": {},
   "outputs": [],
   "source": [
    "missouri_data = parse_employment_data(e, \"MO\")\n",
    "\n",
    "missouri_employment = employment(missouri_data)\n",
    "\n",
    "missouri_unemployment = unemployment(missouri_data)\n",
    "\n",
    "missouri_st_emp = state_emp(missouri_data)\n",
    "\n",
    "missouri_st_unemp = state_unemp(missouri_data)\n",
    "\n",
    "missouri_counties = missouri_data['counties'].set_index(\"County/State\")"
   ]
  },
  {
   "cell_type": "code",
   "execution_count": null,
   "metadata": {},
   "outputs": [],
   "source": [
    "montana_data = parse_employment_data(e, \"MT\")\n",
    "\n",
    "montana_employment = employment(montana_data)\n",
    "\n",
    "montana_unemployment = unemployment(montana_data)\n",
    "\n",
    "montana_st_emp = state_emp(montana_data)\n",
    "\n",
    "montana_st_unemp = state_unemp(montana_data)\n",
    "\n",
    "montana_counties = montana_data['counties'].set_index(\"County/State\")"
   ]
  },
  {
   "cell_type": "code",
   "execution_count": null,
   "metadata": {},
   "outputs": [],
   "source": [
    "nebraska_data = parse_employment_data(e, \"NE\")\n",
    "\n",
    "nebraska_employment = employment(nebraska_data)\n",
    "\n",
    "nebraska_unemployment = unemployment(nebraska_data)\n",
    "\n",
    "nebraska_st_emp = state_emp(nebraska_data)\n",
    "\n",
    "nebraska_st_unemp = state_unemp(nebraska_data)\n",
    "\n",
    "nebraska_counties = nebraska_data['counties'].set_index(\"County/State\")"
   ]
  },
  {
   "cell_type": "code",
   "execution_count": null,
   "metadata": {},
   "outputs": [],
   "source": [
    "nevada_data = parse_employment_data(e, \"NV\")\n",
    "\n",
    "nevada_employment = employment(nevada_data)\n",
    "\n",
    "nevada_unemployment = unemployment(nevada_data)\n",
    "\n",
    "nevada_st_emp = state_emp(nevada_data)\n",
    "\n",
    "nevada_st_unemp = state_unemp(nevada_data)\n",
    "\n",
    "nevada_counties = nevada_data['counties'].set_index(\"County/State\")"
   ]
  },
  {
   "cell_type": "code",
   "execution_count": null,
   "metadata": {},
   "outputs": [],
   "source": [
    "new_hampshire_data = parse_employment_data(e, \"NH\")\n",
    "\n",
    "new_hampshire_employment = employment(new_hampshire_data)\n",
    "\n",
    "new_hampshire_unemployment = unemployment(new_hampshire_data)\n",
    "\n",
    "new_hampshire_st_emp = state_emp(new_hampshire_data)\n",
    "\n",
    "new_hampshire_st_unemp = state_unemp(new_hampshire_data)\n",
    "\n",
    "new_hampshire_counties = new_hampshire_data['counties'].set_index(\"County/State\")"
   ]
  },
  {
   "cell_type": "code",
   "execution_count": null,
   "metadata": {},
   "outputs": [],
   "source": [
    "new_jersey_data = parse_employment_data(e, \"NJ\")\n",
    "\n",
    "new_jersey_employment = employment(new_jersey_data)\n",
    "\n",
    "new_jersey_unemployment = unemployment(new_jersey_data)\n",
    "\n",
    "new_jersey_st_emp = state_emp(new_jersey_data)\n",
    "\n",
    "new_jersey_st_unemp = state_unemp(new_jersey_data)\n",
    "\n",
    "new_jersey_counties = new_jersey_data['counties'].set_index(\"County/State\")"
   ]
  },
  {
   "cell_type": "code",
   "execution_count": null,
   "metadata": {},
   "outputs": [],
   "source": [
    "new_mexico_data = parse_employment_data(e, \"NM\")\n",
    "\n",
    "new_mexico_employment = employment(new_mexico_data)\n",
    "\n",
    "new_mexico_unemployment = unemployment(new_mexico_data)\n",
    "\n",
    "new_mexico_st_emp = state_emp(new_mexico_data)\n",
    "\n",
    "new_mexico_st_unemp = state_unemp(new_mexico_data)\n",
    "\n",
    "new_mexico_counties = new_mexico_data['counties'].set_index(\"County/State\")"
   ]
  },
  {
   "cell_type": "code",
   "execution_count": null,
   "metadata": {},
   "outputs": [],
   "source": [
    "new_york_data = parse_employment_data(e, \"NY\")\n",
    "\n",
    "new_york_employment = employment(new_york_data)\n",
    "\n",
    "new_york_unemployment = unemployment(new_york_data)\n",
    "\n",
    "new_york_st_emp = state_emp(new_york_data)\n",
    "\n",
    "new_york_st_unemp = state_unemp(new_york_data)\n",
    "\n",
    "new_york_counties = new_york_data['counties'].set_index(\"County/State\")"
   ]
  },
  {
   "cell_type": "code",
   "execution_count": null,
   "metadata": {},
   "outputs": [],
   "source": [
    "north_carolina_data = parse_employment_data(e, \"NC\")\n",
    "\n",
    "north_carolina_employment = employment(north_carolina_data)\n",
    "\n",
    "north_carolina_unemployment = unemployment(north_carolina_data)\n",
    "\n",
    "north_carolina_st_emp = state_emp(north_carolina_data)\n",
    "\n",
    "north_carolina_st_unemp = state_unemp(north_carolina_data)\n",
    "\n",
    "north_carolina_counties = north_carolina_data['counties'].set_index(\"County/State\")"
   ]
  },
  {
   "cell_type": "code",
   "execution_count": null,
   "metadata": {},
   "outputs": [],
   "source": [
    "north_dakota_data = parse_employment_data(e, \"ND\")\n",
    "\n",
    "north_dakota_employment = employment(north_dakota_data)\n",
    "\n",
    "north_dakota_unemployment = unemployment(north_dakota_data)\n",
    "\n",
    "north_dakota_st_emp = state_emp(north_dakota_data)\n",
    "\n",
    "north_dakota_st_unemp = state_unemp(north_dakota_data)\n",
    "\n",
    "north_dakota_counties = north_dakota_data['counties'].set_index(\"County/State\")"
   ]
  },
  {
   "cell_type": "code",
   "execution_count": null,
   "metadata": {},
   "outputs": [],
   "source": [
    "ohio_data = parse_employment_data(e, \"OH\")\n",
    "\n",
    "ohio_employment = employment(ohio_data)\n",
    "\n",
    "ohio_unemployment = unemployment(ohio_data)\n",
    "\n",
    "ohio_st_emp = state_emp(ohio_data)\n",
    "\n",
    "ohio_st_unemp = state_unemp(ohio_data)\n",
    "\n",
    "ohio_counties = ohio_data['counties'].set_index(\"County/State\")"
   ]
  },
  {
   "cell_type": "code",
   "execution_count": null,
   "metadata": {},
   "outputs": [],
   "source": [
    "oklahoma_data = parse_employment_data(e, \"OK\")\n",
    "\n",
    "oklahoma_employment = employment(oklahoma_data)\n",
    "\n",
    "oklahoma_unemployment = unemployment(oklahoma_data)\n",
    "\n",
    "oklahoma_st_emp = state_emp(oklahoma_data)\n",
    "\n",
    "oklahoma_st_unemp = state_unemp(oklahoma_data)\n",
    "\n",
    "oklahoma_counties = oklahoma_data['counties'].set_index(\"County/State\")\n"
   ]
  },
  {
   "cell_type": "code",
   "execution_count": null,
   "metadata": {},
   "outputs": [],
   "source": [
    "oregon_data = parse_employment_data(e, \"OR\")\n",
    "\n",
    "oregon_employment = employment(oregon_data)\n",
    "\n",
    "oregon_unemployment = unemployment(oregon_data)\n",
    "\n",
    "oregon_st_emp = state_emp(oregon_data)\n",
    "\n",
    "oregon_st_unemp = state_unemp(oregon_data)\n",
    "\n",
    "oregon_counties = oregon_data['counties'].set_index(\"County/State\")"
   ]
  },
  {
   "cell_type": "code",
   "execution_count": null,
   "metadata": {},
   "outputs": [],
   "source": [
    "pennsylvania_data = parse_employment_data(e, \"PA\")\n",
    "\n",
    "pennsylvania_employment = employment(pennsylvania_data)\n",
    "\n",
    "pennsylvania_unemployment = unemployment(pennsylvania_data)\n",
    "\n",
    "pennsylvania_st_emp = state_emp(pennsylvania_data)\n",
    "\n",
    "pennsylvania_st_unemp = state_unemp(pennsylvania_data)\n",
    "\n",
    "pennsylvania_counties = pennsylvania_data['counties'].set_index(\"County/State\")"
   ]
  },
  {
   "cell_type": "code",
   "execution_count": null,
   "metadata": {},
   "outputs": [],
   "source": [
    "rhode_island_data = parse_employment_data(e, \"RI\")\n",
    "\n",
    "rhode_island_employment = employment(rhode_island_data)\n",
    "\n",
    "rhode_island_unemployment = unemployment(rhode_island_data)\n",
    "\n",
    "rhode_island_st_emp = state_emp(rhode_island_data)\n",
    "\n",
    "rhode_island_st_unemp = state_unemp(rhode_island_data)\n",
    "\n",
    "rhode_island_counties = rhode_island_data['counties'].set_index(\"County/State\")"
   ]
  },
  {
   "cell_type": "code",
   "execution_count": null,
   "metadata": {},
   "outputs": [],
   "source": [
    "south_carolina_data = parse_employment_data(e, \"SC\")\n",
    "\n",
    "south_carolina_employment = employment(south_carolina_data)\n",
    "\n",
    "south_carolina_unemployment = unemployment(south_carolina_data)\n",
    "\n",
    "south_carolina_st_emp = state_emp(south_carolina_data)\n",
    "\n",
    "south_carolina_st_unemp = state_unemp(south_carolina_data)\n",
    "\n",
    "south_carolina_counties = south_carolina_data['counties'].set_index(\"County/State\")"
   ]
  },
  {
   "cell_type": "code",
   "execution_count": null,
   "metadata": {},
   "outputs": [],
   "source": [
    "south_dakota_data = parse_employment_data(e, \"SD\")\n",
    "\n",
    "south_dakota_employment = employment(south_dakota_data)\n",
    "\n",
    "south_dakota_unemployment = unemployment(south_dakota_data)\n",
    "\n",
    "south_dakota_st_emp = state_emp(south_dakota_data)\n",
    "\n",
    "south_dakota_st_unemp = state_unemp(south_dakota_data)\n",
    "\n",
    "south_dakota_counties = south_dakota_data['counties'].set_index(\"County/State\")"
   ]
  },
  {
   "cell_type": "code",
   "execution_count": null,
   "metadata": {},
   "outputs": [],
   "source": [
    "tennessee_data = parse_employment_data(e, \"TN\")\n",
    "\n",
    "tennessee_employment = employment(tennessee_data)\n",
    "\n",
    "tennessee_unemployment = unemployment(tennessee_data)\n",
    "\n",
    "tennessee_st_emp = state_emp(tennessee_data)\n",
    "\n",
    "tennessee_st_unemp = state_unemp(tennessee_data)\n",
    "\n",
    "tennessee_counties = tennessee_data['counties'].set_index(\"County/State\")"
   ]
  },
  {
   "cell_type": "code",
   "execution_count": null,
   "metadata": {},
   "outputs": [],
   "source": [
    "texas_data = parse_employment_data(e, \"TX\")\n",
    "\n",
    "texas_employment = employment(texas_data)\n",
    "\n",
    "texas_unemployment = unemployment(texas_data)\n",
    "\n",
    "texas_st_emp = state_emp(texas_data)\n",
    "\n",
    "texas_st_unemp = state_unemp(texas_data)\n",
    "\n",
    "texas_counties = texas_data['counties'].set_index(\"County/State\")"
   ]
  },
  {
   "cell_type": "code",
   "execution_count": null,
   "metadata": {},
   "outputs": [],
   "source": [
    "utah_data = parse_employment_data(e, \"UT\")\n",
    "\n",
    "utah_employment = employment(utah_data)\n",
    "\n",
    "utah_unemployment = unemployment(utah_data)\n",
    "\n",
    "utah_st_emp = state_emp(utah_data)\n",
    "\n",
    "utah_st_unemp = state_unemp(utah_data)\n",
    "\n",
    "utah_counties = utah_data['counties'].set_index(\"County/State\")"
   ]
  },
  {
   "cell_type": "code",
   "execution_count": null,
   "metadata": {},
   "outputs": [],
   "source": [
    "vermont_data = parse_employment_data(e, \"VT\")\n",
    "\n",
    "vermont_employment = employment(vermont_data)\n",
    "\n",
    "vermont_unemployment = unemployment(vermont_data)\n",
    "\n",
    "vermont_st_emp = state_emp(vermont_data)\n",
    "\n",
    "vermont_st_unemp = state_unemp(vermont_data)\n",
    "\n",
    "vermont_counties = vermont_data['counties'].set_index(\"County/State\")"
   ]
  },
  {
   "cell_type": "code",
   "execution_count": null,
   "metadata": {},
   "outputs": [],
   "source": [
    "virginia_data = parse_employment_data(e, \"VA\")\n",
    "\n",
    "virginia_employment = employment(virginia_data)\n",
    "\n",
    "virginia_unemployment = unemployment(virginia_data)\n",
    "\n",
    "virginia_st_emp = state_emp(virginia_data)\n",
    "\n",
    "virginia_st_unemp = state_unemp(virginia_data)\n",
    "\n",
    "virginia_counties = virginia_data['counties'].set_index(\"County/State\")"
   ]
  },
  {
   "cell_type": "code",
   "execution_count": null,
   "metadata": {},
   "outputs": [],
   "source": [
    "washington_data = parse_employment_data(e, \"WA\")\n",
    "\n",
    "washington_employment = employment(washington_data)\n",
    "\n",
    "washington_unemployment = unemployment(washington_data)\n",
    "\n",
    "washington_st_emp = state_emp(washington_data)\n",
    "\n",
    "washington_st_unemp = state_unemp(washington_data)\n",
    "\n",
    "washington_counties = washington_data['counties'].set_index(\"County/State\")"
   ]
  },
  {
   "cell_type": "code",
   "execution_count": null,
   "metadata": {},
   "outputs": [],
   "source": [
    "west_virginia_data = parse_employment_data(e, \"WV\")\n",
    "\n",
    "west_virginia_employment = employment(west_virginia_data)\n",
    "\n",
    "west_virginia_unemployment = unemployment(west_virginia_data)\n",
    "\n",
    "west_virginia_st_emp = state_emp(west_virginia_data)\n",
    "\n",
    "west_virginia_st_unemp = state_unemp(west_virginia_data)\n",
    "\n",
    "west_virginia_counties = west_virginia_data['counties'].set_index(\"County/State\")"
   ]
  },
  {
   "cell_type": "code",
   "execution_count": null,
   "metadata": {},
   "outputs": [],
   "source": [
    "wisconsin_data = parse_employment_data(e, \"WI\")\n",
    "\n",
    "wisconsin_employment = employment(wisconsin_data)\n",
    "\n",
    "wisconsin_unemployment = unemployment(wisconsin_data)\n",
    "\n",
    "wisconsin_st_emp = state_emp(wisconsin_data)\n",
    "\n",
    "wisconsin_st_unemp = state_unemp(wisconsin_data)\n",
    "\n",
    "wisconisin_counties = wisconsin_data['counties'].set_index(\"County/State\")\n"
   ]
  },
  {
   "cell_type": "code",
   "execution_count": null,
   "metadata": {},
   "outputs": [],
   "source": [
    "wyoming_data = parse_employment_data(e, \"WY\")\n",
    "\n",
    "wyoming_employment = employment(wyoming_data)\n",
    "\n",
    "wyoming_unemployment = unemployment(wyoming_data)\n",
    "\n",
    "wyoming_st_emp = state_emp(wyoming_data)\n",
    "\n",
    "wyoming_st_unemp = state_unemp(wyoming_data)\n",
    "\n",
    "wyoming_counties = wyoming_data['counties'].set_index(\"County/State\")\n",
    "#wyoming_employment.plot.bar(figsize=(20,20))"
   ]
  },
  {
   "cell_type": "code",
   "execution_count": null,
   "metadata": {},
   "outputs": [],
   "source": [
    "def states(state):\n",
    "    return e.loc[e['County/State']== state]"
   ]
  },
  {
   "cell_type": "code",
   "execution_count": null,
   "metadata": {},
   "outputs": [],
   "source": [
    "AL=states(\"Alabama\")\n",
    "AZ=states(\"Arizona\")\n",
    "AK=states(\"Alaska\")\n",
    "AR=states(\"Arkansas\")\n",
    "CA=states(\"California\")\n",
    "CO=states(\"Colorado\")\n",
    "CT=states(\"Connecticut\")\n",
    "DE=states(\"Delaware\")\n",
    "FL=states(\"Florida\")\n",
    "GA=states(\"Georgia\")\n",
    "HI=states(\"Hawaii\")\n",
    "ID=states(\"Idaho\")\n",
    "IL=states(\"Illinois\")\n",
    "IN=states(\"Indiana\")\n",
    "IO=states(\"Iowa\")\n",
    "KS=states(\"Kansas\")\n",
    "KY=states(\"Kentucky\")\n",
    "LA=states(\"Louisiana\")\n",
    "ME=states(\"Maine\")\n",
    "MD=states(\"Maryland\")\n",
    "MA=states(\"Massachusetts\")\n",
    "MI=states(\"Michigan\")\n",
    "MN=states(\"Minnesota\")\n",
    "MS=states(\"Mississippi\")\n",
    "MO=states(\"Missouri\")\n",
    "MT=states(\"Montana\")\n",
    "NE=states(\"Nebraska\")\n",
    "NV=states(\"Nevada\")\n",
    "NH=states(\"New Hampshire\")\n",
    "NJ=states(\"New Jersey\")\n",
    "NM=states(\"New Mexico\")\n",
    "NY=states(\"New York\")\n",
    "NC=states(\"North Carolina\")\n",
    "ND=states(\"North Dakota\")\n",
    "OH=states(\"Ohio\")\n",
    "OK=states(\"Oklahoma\")\n",
    "OR=states(\"Oregon\")\n",
    "PA=states(\"Pennsylvania\")\n",
    "RI=states(\"Rhode Island\")\n",
    "SC=states(\"South Carolina\")\n",
    "SD=states(\"South Dakota\")\n",
    "TN=states(\"Tennessee\")\n",
    "TX=states(\"Texas\")\n",
    "UT=states(\"Utah\")\n",
    "VT=states(\"Vermont\")\n",
    "VA=states(\"Virginia\")\n",
    "WA=states(\"Washington\")\n",
    "WV=states(\"West Virginia\")\n",
    "WI=states(\"Wisconsin\")\n",
    "WY=states(\"Wyoming\")\n",
    "e_states=pd.concat([AL, AK, AZ, AR, CA, CO, CT, DE, FL, GA, HI, ID, IL, IN, IO, KS,\n",
    "                    KY, LA, ME, MD, MA, MI, MN, MS, MO, MT, NE, NV, NH, NJ,\n",
    "                    NM, NY, NC, ND, OH, OK, OR, PA, RI, SC, SD, TN, TX, UT,\n",
    "                    VT, VA, WA, WV, WI, WY], axis=0)\n",
    "e_states"
   ]
  },
  {
   "cell_type": "code",
   "execution_count": null,
   "metadata": {},
   "outputs": [],
   "source": [
    "st_unemp= e_states[[\"County/State\", \"Unemp Rate 2016\",\n",
    "               \"Unemp Rate 2017\", \"Unemp Rate 2018\"]]\n",
    "\n",
    "nj_v_pa = st_unemp.loc[(st_unemp['County/State']=='New Jersey')|(st_unemp['County/State']=='Pennsylvania')]\n",
    "\n",
    "#comparing unemployment rate of states\n",
    "\n",
    "frames = [west_virginia_st_unemp, california_st_unemp, iowa_st_unemp, virginia_st_unemp, maryland_st_unemp]\n",
    "results = pd.concat(frames, axis=0)\n",
    "results.plot.bar(figsize=(15,15))\n",
    "e_states"
   ]
  },
  {
   "cell_type": "code",
   "execution_count": null,
   "metadata": {},
   "outputs": [],
   "source": [
    "def sep_emp_population(size):\n",
    "    pop=e_states.loc[e_states[\"CLF Pop\"]== size]\n",
    "    return pop[[\"Emp 2007\",\"Emp 2008\",\"Emp 2009\",\"Emp 2010\",\"Emp 2011\",\"Emp 2012\",\"Emp 2013\",\"Emp 2014\",\"Emp 2015\",\"Emp 2016\",\"Emp 2017\",\"Emp 2018\"]]\n"
   ]
  },
  {
   "cell_type": "code",
   "execution_count": null,
   "metadata": {},
   "outputs": [],
   "source": [
    "def sep_unemp_population(size):\n",
    "    pop=e_states.loc[e_states[\"CLF Pop\"]== size]\n",
    "    return pop[[\"Unemp Rate 2007\",\"Unemp Rate 2008\",\"Unemp Rate 2009\",\"Unemp Rate 2010\",\"Unemp Rate 2011\",\"Unemp Rate 2012\",\"Unemp Rate 2013\",\"Unemp Rate 2014\",\"Unemp Rate 2015\",\"Unemp Rate 2016\",\"Unemp Rate 2017\",\"Unemp Rate 2018\"]]\n",
    "\n"
   ]
  },
  {
   "cell_type": "code",
   "execution_count": null,
   "metadata": {},
   "outputs": [],
   "source": [
    "#binning states by population size\n",
    "#graphing employment and unemployment rate by population\n",
    "bins = [0,1000000,2000000,3000000,4000000,5000000,20000000]\n",
    "group_names = [\"<1,000,000\",\"1,000,000-2,000,000\",\"2,000,000-3,000,000\",\"3,000,000-4,000,000\",\"4,000,000-5,000,000\",\"5,000,000+\"]\n",
    "e_states[\"CLF Pop\"] = pd.cut(e_states[\"CLF 2018\"], bins, labels=group_names)\n",
    "\n"
   ]
  },
  {
   "cell_type": "code",
   "execution_count": null,
   "metadata": {},
   "outputs": [],
   "source": [
    "states_emp_less_than_1m = sep_emp_population(\"<1,000,000\")\n",
    "\n",
    "states_unemp_less_than_1m = sep_unemp_population(\"<1,000,000\")"
   ]
  },
  {
   "cell_type": "code",
   "execution_count": null,
   "metadata": {},
   "outputs": [],
   "source": [
    "states_emp_less_than_2m = sep_emp_population(\"1,000,000-2,000,000\")\n",
    "\n",
    "states_unemp_less_than_2m = sep_unemp_population(\"1,000,000-2,000,000\")"
   ]
  },
  {
   "cell_type": "code",
   "execution_count": null,
   "metadata": {},
   "outputs": [],
   "source": [
    "states_emp_less_than_3m = sep_emp_population(\"2,000,000-3,000,000\")\n",
    "\n",
    "states_unemp_less_than_3m = sep_unemp_population(\"2,000,000-3,000,000\")"
   ]
  },
  {
   "cell_type": "code",
   "execution_count": null,
   "metadata": {},
   "outputs": [],
   "source": [
    "states_emp_less_than_4m = sep_emp_population(\"3,000,000-4,000,000\")\n",
    "\n",
    "states_unemp_less_than_4m = sep_unemp_population(\"3,000,000-4,000,000\")"
   ]
  },
  {
   "cell_type": "code",
   "execution_count": null,
   "metadata": {},
   "outputs": [],
   "source": [
    "states_emp_less_than_5m = sep_emp_population(\"4,000,000-5,000,000\")\n",
    "\n",
    "states_unemp_less_than_5m = sep_unemp_population(\"4,000,000-5,000,000\")"
   ]
  },
  {
   "cell_type": "code",
   "execution_count": null,
   "metadata": {},
   "outputs": [],
   "source": [
    "states_emp_over_5m = sep_emp_population(\"5,000,000+\")\n",
    "\n",
    "states_unemp_over_5m = sep_unemp_population(\"5,000,000+\")"
   ]
  },
  {
   "cell_type": "code",
   "execution_count": null,
   "metadata": {},
   "outputs": [],
   "source": [
    "states_unemp_over_5m.plot.bar(figsize=(10,10))\n",
    "states_unemp_over_5m"
   ]
  },
  {
   "cell_type": "code",
   "execution_count": null,
   "metadata": {},
   "outputs": [],
   "source": [
    "u.T.plot.line()\n",
    "plt.title(\"United States Unemployment\")\n",
    "plt.xlabel(\"Unemployment Years\")\n",
    "plt.ylabel(\"Unemployment Percent\")\n",
    "\n",
    "\n",
    "plt.xticks(rotation=\"vertical\")"
   ]
  },
  {
   "cell_type": "code",
   "execution_count": null,
   "metadata": {},
   "outputs": [],
   "source": [
    "states_unemp_less_than_2m.plot.bar(figsize=(10,10))"
   ]
  },
  {
   "cell_type": "code",
   "execution_count": null,
   "metadata": {},
   "outputs": [],
   "source": [
    "\n"
   ]
  },
  {
   "cell_type": "code",
   "execution_count": null,
   "metadata": {},
   "outputs": [],
   "source": []
  },
  {
   "cell_type": "code",
   "execution_count": null,
   "metadata": {},
   "outputs": [],
   "source": [
    "housing_data = pd.read_csv('./housing_data')"
   ]
  },
  {
   "cell_type": "code",
   "execution_count": null,
   "metadata": {},
   "outputs": [],
   "source": [
    "housing_data = housing_data.set_index(\"State\")"
   ]
  },
  {
   "cell_type": "code",
   "execution_count": null,
   "metadata": {},
   "outputs": [],
   "source": [
    "two_six = housing_data.loc[housing_data['Year']==2006]\n",
    "del two_six['Year']\n",
    "e_states['Median House Price 2006'] = two_six"
   ]
  },
  {
   "cell_type": "code",
   "execution_count": null,
   "metadata": {},
   "outputs": [],
   "source": [
    "two_seven = housing_data.loc[housing_data['Year']==2007]\n",
    "del two_seven['Year']\n",
    "e_states['Median House Price 2007'] = two_seven"
   ]
  },
  {
   "cell_type": "code",
   "execution_count": null,
   "metadata": {},
   "outputs": [],
   "source": [
    "two_eight = housing_data.loc[housing_data['Year']==2008]\n",
    "del two_eight['Year']\n",
    "e_states['Median House Price 2008'] = two_eight"
   ]
  },
  {
   "cell_type": "code",
   "execution_count": null,
   "metadata": {},
   "outputs": [],
   "source": [
    "two_nine = housing_data.loc[housing_data['Year']==2009]\n",
    "del two_nine['Year']\n",
    "e_states['Median House Price 2009'] = two_nine"
   ]
  },
  {
   "cell_type": "code",
   "execution_count": null,
   "metadata": {},
   "outputs": [],
   "source": [
    "two_ten = housing_data.loc[housing_data['Year']==2010]\n",
    "del two_ten['Year']\n",
    "e_states['Median House Price 2010'] = two_ten"
   ]
  },
  {
   "cell_type": "code",
   "execution_count": null,
   "metadata": {},
   "outputs": [],
   "source": [
    "two_eleven = housing_data.loc[housing_data['Year']==2011]\n",
    "del two_eleven['Year']\n",
    "e_states['Median House Price 2011'] = two_eleven"
   ]
  },
  {
   "cell_type": "code",
   "execution_count": null,
   "metadata": {},
   "outputs": [],
   "source": [
    "two_twelve = housing_data.loc[housing_data['Year']==2012]\n",
    "del two_twelve['Year']\n",
    "e_states['Median House Price 2012'] = two_twelve"
   ]
  },
  {
   "cell_type": "code",
   "execution_count": null,
   "metadata": {},
   "outputs": [],
   "source": [
    "two_thirteen = housing_data.loc[housing_data['Year']==2013]\n",
    "del two_thirteen['Year']\n",
    "e_states['Median House Price 2013'] = two_thirteen"
   ]
  },
  {
   "cell_type": "code",
   "execution_count": null,
   "metadata": {},
   "outputs": [],
   "source": [
    "two_fourteen = housing_data.loc[housing_data['Year']==2014]\n",
    "del two_fourteen['Year']\n",
    "e_states['Median House Price 2014'] = two_fourteen"
   ]
  },
  {
   "cell_type": "code",
   "execution_count": null,
   "metadata": {},
   "outputs": [],
   "source": [
    "two_fifteen = housing_data.loc[housing_data['Year']==2015]\n",
    "del two_fifteen['Year']\n",
    "e_states['Median House Price 2015'] = two_fifteen"
   ]
  },
  {
   "cell_type": "code",
   "execution_count": null,
   "metadata": {},
   "outputs": [],
   "source": [
    "two_sixteen = housing_data.loc[housing_data['Year']==2016]\n",
    "del two_sixteen['Year']\n",
    "e_states['Median House Price 2016'] = two_sixteen"
   ]
  },
  {
   "cell_type": "code",
   "execution_count": null,
   "metadata": {},
   "outputs": [],
   "source": [
    "two_seventeen = housing_data.loc[housing_data['Year']==2017]\n",
    "del two_seventeen['Year']\n",
    "e_states['Median House Price 2017'] = two_seventeen"
   ]
  },
  {
   "cell_type": "code",
   "execution_count": null,
   "metadata": {},
   "outputs": [],
   "source": [
    "two_eightteen = housing_data.loc[housing_data['Year']==2018]\n",
    "del two_eightteen['Year']\n",
    "e_states['Median House Price 2018'] = two_eightteen"
   ]
  },
  {
   "cell_type": "code",
   "execution_count": null,
   "metadata": {},
   "outputs": [],
   "source": [
    "e_states\n"
   ]
  },
  {
   "cell_type": "code",
   "execution_count": null,
   "metadata": {},
   "outputs": [],
   "source": []
  },
  {
   "cell_type": "markdown",
   "metadata": {},
   "source": [
    "# Unemployment/Employment of California vs. USA"
   ]
  },
  {
   "cell_type": "code",
   "execution_count": null,
   "metadata": {},
   "outputs": [],
   "source": []
  },
  {
   "cell_type": "code",
   "execution_count": null,
   "metadata": {},
   "outputs": [],
   "source": [
    "st_unemp= e_states[[\"County/State\", \"Unemp Rate 2016\",\n",
    "               \"Unemp Rate 2017\", \"Unemp Rate 2018\"]]\n",
    "\n",
    "nj_v_pa = st_unemp.loc[(st_unemp['County/State']=='New Jersey')|(st_unemp['County/State']=='Pennsylvania')]\n",
    "\n",
    "#comparing unemployment rate of a particular state to that of national average\n",
    "\n",
    "frames = [us_unemployment, california_st_unemp]\n",
    "results = pd.concat(frames, axis=0)\n",
    "results.T.plot.line(figsize=(10,6), marker=\"o\")\n",
    "plt.grid()\n",
    "plt.title(\"Unemployment Rate of California vs. USA\")\n",
    "plt.xlabel(\"Year\")\n",
    "plt.ylabel(\"Unemployment Rate (%)\")\n",
    "\n",
    "plt.show()\n",
    "results.T"
   ]
  },
  {
   "cell_type": "code",
   "execution_count": null,
   "metadata": {},
   "outputs": [],
   "source": [
    "frames = [us_employment, california_st_emp]\n",
    "results = pd.concat(frames, axis=0)\n",
    "results.T.plot.line(figsize=(10,6), marker=\"o\")\n",
    "plt.grid()\n",
    "plt.title(\"Employment of California vs U.S \")\n",
    "plt.xlabel(\"Year\")\n",
    "plt.ylabel(\"Employed Numbers\")\n",
    "\n",
    "plt.show()\n",
    "results.T"
   ]
  },
  {
   "cell_type": "code",
   "execution_count": null,
   "metadata": {},
   "outputs": [],
   "source": [
    "employment rate = us_employment[*us_CLF\n",
    "employment rate"
   ]
  },
  {
   "cell_type": "code",
   "execution_count": null,
   "metadata": {},
   "outputs": [],
   "source": [
    "st_emp= e_states[[\"County/State\", \"Unemp Rate 2016\",\n",
    "               \"Unemp Rate 2017\", \"Unemp Rate 2018\"]]"
   ]
  },
  {
   "cell_type": "code",
   "execution_count": null,
   "metadata": {},
   "outputs": [],
   "source": [
    "states_unemp_over_5m.T.plot.line(figsize=(10,6), marker=\"o\")\n",
    "states_unemp_over_5m.T\n",
    "\n",
    "plt.grid()\n",
    "plt.title(\"Unemployment Rate by State by Year (Over 5 Million)\")\n",
    "plt.xlabel(\"Year\")\n",
    "plt.ylabel(\"Unemployment Rate (%)\")\n",
    "\n",
    "plt.show()\n"
   ]
  },
  {
   "cell_type": "code",
   "execution_count": null,
   "metadata": {},
   "outputs": [],
   "source": [
    "states_unemp_less_than_5m.T.plot.line(figsize=(10,6), marker=\"o\")\n",
    "states_unemp_less_than_5m.T\n",
    "\n",
    "plt.grid()\n",
    "plt.title(\"Unemployment Rate by State by Year (4 - 5 Million)\")\n",
    "plt.xlabel(\"Year\")\n",
    "plt.ylabel(\"Unemployment Rate (%)\")\n",
    "\n",
    "plt.show()\n"
   ]
  },
  {
   "cell_type": "code",
   "execution_count": null,
   "metadata": {},
   "outputs": [],
   "source": [
    "states_unemp_less_than_4m.T.plot.line(figsize=(10,6), marker=\"o\")\n",
    "states_unemp_less_than_4m.T\n",
    "\n",
    "plt.grid()\n",
    "plt.title(\"Unemployment Rate by State by Year (3 - 4 Million)\")\n",
    "plt.xlabel(\"Year\")\n",
    "plt.ylabel(\"Unemployment Rate (%)\")\n",
    "\n",
    "plt.show()\n"
   ]
  },
  {
   "cell_type": "code",
   "execution_count": null,
   "metadata": {},
   "outputs": [],
   "source": [
    "states_unemp_less_than_3m.T.plot.line(figsize=(10,6), marker=\"o\")\n",
    "states_unemp_less_than_3m.T\n",
    "\n",
    "plt.grid()\n",
    "plt.title(\"Unemployment Rate by State by Year (2 - 3 Million)\")\n",
    "plt.xlabel(\"Year\")\n",
    "plt.ylabel(\"Unemployment Rate (%)\")\n",
    "\n",
    "plt.show()\n"
   ]
  },
  {
   "cell_type": "code",
   "execution_count": null,
   "metadata": {},
   "outputs": [],
   "source": [
    "states_unemp_less_than_2m.T.plot.line(figsize=(10,6), marker=\"o\")\n",
    "states_unemp_less_than_2m.T\n",
    "\n",
    "plt.grid()\n",
    "plt.title(\"Unemployment Rate by State by Year (1 - 2 Million)\")\n",
    "plt.xlabel(\"Year\")\n",
    "plt.ylabel(\"Unemployment Rate (%)\")\n",
    "\n",
    "plt.show()\n"
   ]
  },
  {
   "cell_type": "code",
   "execution_count": null,
   "metadata": {},
   "outputs": [],
   "source": [
    "states_unemp_less_than_1m.T.plot.line(figsize=(10,6), marker=\"o\")\n",
    "states_unemp_less_than_1m.T\n",
    "\n",
    "plt.grid()\n",
    "plt.title(\"Unemployment Rate by State by Year (Under 1 Million)\")\n",
    "plt.xlabel(\"Year\")\n",
    "plt.ylabel(\"Unemployment Rate (%)\")\n",
    "\n",
    "plt.show()\n"
   ]
  },
  {
   "cell_type": "code",
   "execution_count": null,
   "metadata": {},
   "outputs": [],
   "source": [
    "def sep_med_price(state):\n",
    "    pop=e_states.loc[state]\n",
    "    return pop[[\"Median House Price 2007\",\n",
    "                \"Median House Price 2008\",\n",
    "                \"Median House Price 2009\",\n",
    "                \"Median House Price 2010\",\n",
    "                \"Median House Price 2011\",\n",
    "                \"Median House Price 2012\",\n",
    "                \"Median House Price 2013\",\n",
    "                \"Median House Price 2014\",\n",
    "                \"Median House Price 2015\",\n",
    "                \"Median House Price 2016\",\n",
    "                \"Median House Price 2017\",\n",
    "                \"Median House Price 2018\"]]"
   ]
  },
  {
   "cell_type": "code",
   "execution_count": null,
   "metadata": {},
   "outputs": [],
   "source": []
  },
  {
   "cell_type": "code",
   "execution_count": null,
   "metadata": {},
   "outputs": [],
   "source": [
    "sep_med_price(\"CA\")"
   ]
  },
  {
   "cell_type": "code",
   "execution_count": null,
   "metadata": {},
   "outputs": [],
   "source": [
    "clf_under_1mm = sep_med_price(\"CA\")\n",
    "\n",
    "under_1mm_house = clf_under_1mm[[\"Median House Price 2007\",\n",
    "                \"Median House Price 2008\",\n",
    "                \"Median House Price 2009\",\n",
    "                \"Median House Price 2010\",\n",
    "                \"Median House Price 2011\",\n",
    "                \"Median House Price 2012\",\n",
    "                \"Median House Price 2013\",\n",
    "                \"Median House Price 2014\",\n",
    "                \"Median House Price 2015\",\n",
    "                \"Median House Price 2016\",\n",
    "                \"Median House Price 2017\",\n",
    "                \"Median House Price 2018\"]]\n",
    "\n",
    "under_1mm_house.T.plot.line(figsize=(10,6))"
   ]
  },
  {
   "cell_type": "code",
   "execution_count": null,
   "metadata": {},
   "outputs": [],
   "source": [
    "clf_over_5mm = e_states.loc[e_states[\"CLF Pop\"] == \"5,000,000+\"]\n",
    "\n",
    "over_5mm_house = clf_over_5mm[[\"Median House Price 2007\",\n",
    "                \"Median House Price 2008\",\n",
    "                \"Median House Price 2009\",\n",
    "                \"Median House Price 2010\",\n",
    "                \"Median House Price 2011\",\n",
    "                \"Median House Price 2012\",\n",
    "                \"Median House Price 2013\",\n",
    "                \"Median House Price 2014\",\n",
    "                \"Median House Price 2015\",\n",
    "                \"Median House Price 2016\",\n",
    "                \"Median House Price 2017\",\n",
    "                \"Median House Price 2018\"]]\n",
    "\n",
    "over_5mm_house.T.plot.line(figsize=(10,10))"
   ]
  },
  {
   "cell_type": "code",
   "execution_count": null,
   "metadata": {},
   "outputs": [],
   "source": []
  }
 ],
 "metadata": {
  "kernelspec": {
   "display_name": "Python 3",
   "language": "python",
   "name": "python3"
  },
  "language_info": {
   "codemirror_mode": {
    "name": "ipython",
    "version": 3
   },
   "file_extension": ".py",
   "mimetype": "text/x-python",
   "name": "python",
   "nbconvert_exporter": "python",
   "pygments_lexer": "ipython3",
   "version": "3.6.9"
  }
 },
 "nbformat": 4,
 "nbformat_minor": 2
}
